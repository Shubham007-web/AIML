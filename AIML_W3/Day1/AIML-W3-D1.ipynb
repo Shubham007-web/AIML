{
 "cells": [
  {
   "cell_type": "markdown",
   "id": "35f3b44f",
   "metadata": {},
   "source": [
    "# Table of Contents\n",
    "- [Introduction to OOP](#intro)\n",
    "- [Classes and Objects](#clsO)\n",
    "- [Constructor](#cons)\n",
    "- [Attributes and Methods](#attri)\n",
    "- [Type of class Attributes](#typs)\n",
    "    - [Class Attributes](#cattri)\n",
    "    - [Instance Attributes](#iattri)\n",
    "- [Types of Methods](#tmethod)\n",
    "    - [Instance Method](#IM)\n",
    "    - [Class Method](#CM)\n",
    "    - [Static Method](#SM)\n",
    "- [Inheritance](#inh)"
   ]
  },
  {
   "attachments": {
    "image.png": {
     "image/png": "[encoded data removed]"
    }
   },
   "cell_type": "markdown",
   "id": "919f2e38",
   "metadata": {},
   "source": [
    "# Introduction to OOP <a class = 'anchor' id = 'intro'></a>\n",
    "- Object-Oriented Programming is a programming paradigm that focuses on creating objects that have their own properties and behavior. \n",
    "- In OOP, the emphasis is on the objects rather than the procedures or functions. \n",
    "- Python is an object-oriented programming language, which means it supports OOP concepts like **inheritance, encapsulation, and polymorphism**. \n",
    "\n",
    "---\n",
    "## Classes and Objects <a class = 'anchor' id = '#clsO'></a>\n",
    "- A class is a **blueprint** for creating objects. \n",
    "- It defines a set of attributes and methods that the object will have. An object is an instance of a class.\n",
    "- We can create **multiple objects** from a **single class**, and each object will have its own set of attributes and methods.\n",
    "![image.png](attachment:image.png)"
   ]
  },
  {
   "cell_type": "code",
   "execution_count": 1,
   "id": "be516a10",
   "metadata": {},
   "outputs": [],
   "source": [
    "# the simplest way to write class, let's create phone class\n",
    "class BasicMath:\n",
    "    pass"
   ]
  },
  {
   "cell_type": "markdown",
   "id": "8d5dc6f7",
   "metadata": {},
   "source": [
    "This is one simplest ways to create a class. The `BasicMath` class is a class without any features and methods. Now Let's create objects from this **blueprint (class)**"
   ]
  },
  {
   "cell_type": "code",
   "execution_count": 2,
   "id": "7afbf9ab",
   "metadata": {},
   "outputs": [
    {
     "data": {
      "text/plain": [
       "<__main__.BasicMath at 0x227b0e730d0>"
      ]
     },
     "execution_count": 2,
     "metadata": {},
     "output_type": "execute_result"
    }
   ],
   "source": [
    "# lets create object\n",
    "cal1 = BasicMath()\n",
    "cal2 = BasicMath()\n",
    "cal1"
   ]
  },
  {
   "cell_type": "code",
   "execution_count": 3,
   "id": "b8bfd6ee",
   "metadata": {},
   "outputs": [
    {
     "data": {
      "text/plain": [
       "<__main__.BasicMath at 0x227b0e730a0>"
      ]
     },
     "execution_count": 3,
     "metadata": {},
     "output_type": "execute_result"
    }
   ],
   "source": [
    "cal2"
   ]
  },
  {
   "cell_type": "code",
   "execution_count": 4,
   "id": "ceb01975",
   "metadata": {},
   "outputs": [
    {
     "data": {
      "text/plain": [
       "__main__.BasicMath"
      ]
     },
     "execution_count": 4,
     "metadata": {},
     "output_type": "execute_result"
    }
   ],
   "source": [
    "# let's see the class of the object \n",
    "type(cal1)"
   ]
  },
  {
   "cell_type": "code",
   "execution_count": 5,
   "id": "3bfdef60",
   "metadata": {},
   "outputs": [
    {
     "data": {
      "text/plain": [
       "__main__.BasicMath"
      ]
     },
     "execution_count": 5,
     "metadata": {},
     "output_type": "execute_result"
    }
   ],
   "source": [
    "type(cal2)"
   ]
  },
  {
   "cell_type": "code",
   "execution_count": 6,
   "id": "8451e2f2",
   "metadata": {},
   "outputs": [
    {
     "data": {
      "text/plain": [
       "False"
      ]
     },
     "execution_count": 6,
     "metadata": {},
     "output_type": "execute_result"
    }
   ],
   "source": [
    "# lets compare \n",
    "cal1 is cal2"
   ]
  },
  {
   "cell_type": "markdown",
   "id": "1ac7afb7",
   "metadata": {},
   "source": [
    "As we can see that the class of the  BasicMath objects are the same but these objects are not the same."
   ]
  },
  {
   "cell_type": "markdown",
   "id": "da81d3a2",
   "metadata": {},
   "source": [
    "### Constructor <a class = 'anchor' id = 'cons'></a>\n",
    "An optional specially named method (`__init__`) is called at the moment when a class is being used to construct an object. Usually, this is used to set up **initial values** for the object."
   ]
  },
  {
   "cell_type": "code",
   "execution_count": 7,
   "id": "d10a860e",
   "metadata": {},
   "outputs": [],
   "source": [
    "# Now let's create a phone class with the constructor\n",
    "class BasicMath :\n",
    "    def __init__(self):   # here 'self' is pointer\n",
    "        print(\"The blue print of a BasicMath calculator created..\")  # this block will always run"
   ]
  },
  {
   "cell_type": "code",
   "execution_count": 8,
   "id": "c5bb2604",
   "metadata": {},
   "outputs": [
    {
     "name": "stdout",
     "output_type": "stream",
     "text": [
      "The blue print of a BasicMath calculator created..\n"
     ]
    }
   ],
   "source": [
    "# lets create phone objects\n",
    "p1= BasicMath()"
   ]
  },
  {
   "cell_type": "markdown",
   "id": "6d423531",
   "metadata": {},
   "source": [
    "**Note**: Here `self` is called **pointer (extra parameter)** and the code block below the constructor will always run when the moment object is created."
   ]
  },
  {
   "attachments": {
    "image.png": {
     "image/png": "[encoded data removed]"
    }
   },
   "cell_type": "markdown",
   "id": "1d35ce83",
   "metadata": {},
   "source": [
    "### Attributes and Methods <a class = 'anchor' id = 'attri'></a>\n",
    "- **Attribute**: Attributes are variables that store data in an object. A variable that is part of a class.\n",
    "- **Method**: Methods are functions that perform actions on the object or return data from the object. Some object-oriented patterns use ‘message’ instead of ‘method’ to describe this concept.  \n",
    "![image.png](attachment:image.png)\n"
   ]
  },
  {
   "cell_type": "markdown",
   "id": "24bfbede",
   "metadata": {},
   "source": [
    "### Let's create a class with some attributes and methods."
   ]
  },
  {
   "cell_type": "code",
   "execution_count": 9,
   "id": "7f1cf3c4",
   "metadata": {},
   "outputs": [],
   "source": [
    "# now let's create phone class with attributes and method\n",
    "class Phone :\n",
    "    def __init__(self,ram,memmory):\n",
    "        self.ram  = ram            # attribute 1\n",
    "        self.memmory = memmory     # attribute 2\n",
    "    \n",
    "    # create method of the class\n",
    "    def info(self):\n",
    "        print('--Info--')\n",
    "        print(f'Ram : {self.ram} GB')\n",
    "        print(f'Internal Memmory : {self.memmory} GB')"
   ]
  },
  {
   "cell_type": "code",
   "execution_count": 10,
   "id": "de77ed16",
   "metadata": {},
   "outputs": [],
   "source": [
    "# now let's create phone object and access attributes and method\n",
    "P1 = Phone(6,128)  # the phone object created\n",
    "P2 = Phone(8,256)"
   ]
  },
  {
   "cell_type": "code",
   "execution_count": 11,
   "id": "7b6ecf1e",
   "metadata": {},
   "outputs": [
    {
     "name": "stdout",
     "output_type": "stream",
     "text": [
      "Ram of the Phone 1 :  6\n",
      "Ram of the Phone 2 :  8\n"
     ]
    }
   ],
   "source": [
    "# Let's explore some features of the created object\n",
    "print(\"Ram of the Phone 1 : \",P1.ram)   # first attribute \n",
    "print(\"Ram of the Phone 2 : \",P2.ram) "
   ]
  },
  {
   "cell_type": "code",
   "execution_count": 12,
   "id": "e1b82ed3",
   "metadata": {},
   "outputs": [
    {
     "name": "stdout",
     "output_type": "stream",
     "text": [
      "The Internal Memmory of Phone 1: 128\n",
      "The Internal Memmory of Phone 2: 256\n"
     ]
    }
   ],
   "source": [
    "# second attribute\n",
    "print(\"The Internal Memmory of Phone 1:\",P1.memmory)\n",
    "print(\"The Internal Memmory of Phone 2:\",P2.memmory)"
   ]
  },
  {
   "cell_type": "code",
   "execution_count": 13,
   "id": "076cc2d1",
   "metadata": {},
   "outputs": [
    {
     "name": "stdout",
     "output_type": "stream",
     "text": [
      "--Info--\n",
      "Ram : 6 GB\n",
      "Internal Memmory : 128 GB\n"
     ]
    }
   ],
   "source": [
    "# calling method of the created object\n",
    "P1.info()"
   ]
  },
  {
   "cell_type": "code",
   "execution_count": 14,
   "id": "61a579e0",
   "metadata": {},
   "outputs": [
    {
     "name": "stdout",
     "output_type": "stream",
     "text": [
      "--Info--\n",
      "Ram : 8 GB\n",
      "Internal Memmory : 256 GB\n"
     ]
    }
   ],
   "source": [
    "P2.info()"
   ]
  },
  {
   "cell_type": "markdown",
   "id": "975de28f",
   "metadata": {},
   "source": [
    "### Your Turn..\n",
    "### Q1. Create a '`Laptop'` class that has some features like ram, hard_disk, and hard_disk_type."
   ]
  },
  {
   "cell_type": "code",
   "execution_count": 15,
   "id": "fdfa643b",
   "metadata": {},
   "outputs": [],
   "source": [
    "# Your code\n",
    "\n",
    "\n",
    "\n",
    "\n",
    "# Expected output\n",
    "# ---Info---\n",
    "# Ram : 4 GB\n",
    "# Internal Memory : 256 GB\n",
    "# Disk Type : SSD"
   ]
  },
  {
   "cell_type": "markdown",
   "id": "63d15104-216a-4246-a4b6-755f6ac6714c",
   "metadata": {},
   "source": [
    "<details>\n",
    "    <summary> Solution </summary>\n",
    "    \n",
    "```python\n",
    "\n",
    "class Laptop:\n",
    "    def __init__(self,ram, internal_memory,hard_disk_type):\n",
    "        self.ram = ram\n",
    "        self.internal_memory = internal_memory\n",
    "        self.hard_disk_type = hard_disk_type\n",
    "        \n",
    "    def info(self):\n",
    "        print(\"---Info---\")\n",
    "        print(f\"Ram : {self.ram} GB\")\n",
    "        print(f\"Internal Memory : {self.internal_memory} GB\")\n",
    "        print(f\"Disk Type : {self.hard_disk_type}\")\n",
    "        \n",
    "# creating obejct\n",
    "Laptop1 = Laptop(4,256,\"SSD\")\n",
    "Laptop1.info()\n",
    "\n",
    "```"
   ]
  },
  {
   "cell_type": "code",
   "execution_count": null,
   "id": "538d0ba4",
   "metadata": {},
   "outputs": [],
   "source": []
  },
  {
   "attachments": {
    "image.png": {
     "image/png": "[encoded data removed]"
    }
   },
   "cell_type": "markdown",
   "id": "d8529831",
   "metadata": {},
   "source": [
    "### Type of class Attributes (Variables) <a class = 'anchor' id = 'typs'></a>\n",
    "There are two types of class variables in object-oriented programming : \n",
    "![image.png](attachment:image.png)\n",
    "#### **Class attributes**    <a class = 'anchor' id = 'cattri'></a>\n",
    "Class attributes are the variables defined directly in the class that are shared by all objects of the class.  \n",
    "#### **Instance attributes** <a class = 'anchor' id = 'iattri'></a>\n",
    "Instance attributes are attributes or properties attached to an instance of a class. Instance attributes are defined in the constructor. Defined directly inside a class."
   ]
  },
  {
   "cell_type": "code",
   "execution_count": 16,
   "id": "e534252c",
   "metadata": {},
   "outputs": [],
   "source": [
    "# Let's create class attributes\n",
    "class  student : \n",
    "    Language = 'English'     # class attribute\n",
    "    def __init__(self, name, skills):\n",
    "        self.name = name         # instance attribute\n",
    "        self.skills  = skills"
   ]
  },
  {
   "cell_type": "code",
   "execution_count": 17,
   "id": "bd82551a",
   "metadata": {},
   "outputs": [],
   "source": [
    "# Create a student object\n",
    "Stu1 = student('Allen','Python')\n",
    "Stu2 = student('Maria','Machine Learning')"
   ]
  },
  {
   "cell_type": "code",
   "execution_count": 18,
   "id": "447f082d",
   "metadata": {},
   "outputs": [
    {
     "data": {
      "text/plain": [
       "'English'"
      ]
     },
     "execution_count": 18,
     "metadata": {},
     "output_type": "execute_result"
    }
   ],
   "source": [
    "# calling class attributes\n",
    "Stu1.Language"
   ]
  },
  {
   "cell_type": "code",
   "execution_count": 19,
   "id": "289c672c",
   "metadata": {},
   "outputs": [
    {
     "data": {
      "text/plain": [
       "'English'"
      ]
     },
     "execution_count": 19,
     "metadata": {},
     "output_type": "execute_result"
    }
   ],
   "source": [
    "Stu2.Language"
   ]
  },
  {
   "cell_type": "code",
   "execution_count": 20,
   "id": "278eb469",
   "metadata": {},
   "outputs": [
    {
     "data": {
      "text/plain": [
       "'Allen'"
      ]
     },
     "execution_count": 20,
     "metadata": {},
     "output_type": "execute_result"
    }
   ],
   "source": [
    "# lets call instance attributes\n",
    "Stu1.name"
   ]
  },
  {
   "cell_type": "code",
   "execution_count": 21,
   "id": "82f95213",
   "metadata": {},
   "outputs": [
    {
     "data": {
      "text/plain": [
       "'Maria'"
      ]
     },
     "execution_count": 21,
     "metadata": {},
     "output_type": "execute_result"
    }
   ],
   "source": [
    "Stu2.name"
   ]
  },
  {
   "cell_type": "markdown",
   "id": "9b33b764",
   "metadata": {},
   "source": [
    "### Example\n"
   ]
  },
  {
   "cell_type": "code",
   "execution_count": 22,
   "id": "4f69e810",
   "metadata": {},
   "outputs": [
    {
     "name": "stdout",
     "output_type": "stream",
     "text": [
      "John\n",
      "30\n",
      "Hello, my name is John and I am 25 years old.\n",
      "Hello, my name is Rahul and I am 30 years old.\n"
     ]
    }
   ],
   "source": [
    "class Person:\n",
    "    def __init__(self, name, age):\n",
    "        self.name = name\n",
    "        self.age = age\n",
    "\n",
    "    def say_hello(self):\n",
    "        print(f\"Hello, my name is {self.name} and I am {self.age} years old.\")\n",
    "\n",
    "person1 = Person(\"John\", 25)\n",
    "person2 = Person(\"Rahul\", 30)\n",
    "\n",
    "print(person1.name)  # Output: \"John\"\n",
    "print(person2.age)  # Output: 30\n",
    "\n",
    "person1.say_hello()  # Output: \"Hello, my name is John and I am 25 years old.\"\n",
    "person2.say_hello()  # Output: \"Hello, my name is Rahul and I am 30 years old.\"\n"
   ]
  },
  {
   "cell_type": "code",
   "execution_count": null,
   "id": "d3a680bc",
   "metadata": {},
   "outputs": [],
   "source": []
  },
  {
   "cell_type": "markdown",
   "id": "09d086ba",
   "metadata": {},
   "source": [
    "### Q2. Create `BasicsMath` class that can perform basic math task."
   ]
  },
  {
   "cell_type": "code",
   "execution_count": 23,
   "id": "09bb7566-8a4f-42f1-84bf-cb92dc505a57",
   "metadata": {},
   "outputs": [],
   "source": [
    "# code\n",
    "\n",
    "\n",
    "# expected output given below\n"
   ]
  },
  {
   "cell_type": "markdown",
   "id": "9ae202aa-331c-43ba-8fca-05531f5a7327",
   "metadata": {},
   "source": [
    "<details>\n",
    "    <summary> Solution </summary>\n",
    "\n",
    "```python\n",
    "\n",
    "class BasicMath:\n",
    "    def __init__(self,a,b):\n",
    "        self.a  = a\n",
    "        self.b = b \n",
    "    def add(self):\n",
    "        return self.a + self.b\n",
    "\n",
    "    def subtract(self):\n",
    "        return self.a - self.b\n",
    "\n",
    "    def multiply(self):\n",
    "        return self.a * self.b\n",
    "\n",
    "    def divide(self):\n",
    "        return self.a / self.b\n",
    "    \n",
    "```\n",
    "    \n",
    "</details>"
   ]
  },
  {
   "cell_type": "code",
   "execution_count": 24,
   "id": "8c0a8de1",
   "metadata": {},
   "outputs": [],
   "source": [
    "# help(BasicMath)"
   ]
  },
  {
   "cell_type": "code",
   "execution_count": 25,
   "id": "eef724ba",
   "metadata": {},
   "outputs": [
    {
     "ename": "TypeError",
     "evalue": "__init__() takes 1 positional argument but 3 were given",
     "output_type": "error",
     "traceback": [
      "\u001b[1;31m---------------------------------------------------------------------------\u001b[0m",
      "\u001b[1;31mTypeError\u001b[0m                                 Traceback (most recent call last)",
      "\u001b[1;32m~\\AppData\\Local\\Temp\\ipykernel_19352\\3640795598.py\u001b[0m in \u001b[0;36m<module>\u001b[1;34m\u001b[0m\n\u001b[0;32m      1\u001b[0m \u001b[1;31m# calling math class\u001b[0m\u001b[1;33m\u001b[0m\u001b[1;33m\u001b[0m\u001b[0m\n\u001b[1;32m----> 2\u001b[1;33m \u001b[0mdata1\u001b[0m \u001b[1;33m=\u001b[0m \u001b[0mBasicMath\u001b[0m\u001b[1;33m(\u001b[0m\u001b[1;36m6\u001b[0m\u001b[1;33m,\u001b[0m\u001b[1;36m4\u001b[0m\u001b[1;33m)\u001b[0m\u001b[1;33m\u001b[0m\u001b[1;33m\u001b[0m\u001b[0m\n\u001b[0m\u001b[0;32m      3\u001b[0m \u001b[0mdata1\u001b[0m\u001b[1;33m\u001b[0m\u001b[1;33m\u001b[0m\u001b[0m\n",
      "\u001b[1;31mTypeError\u001b[0m: __init__() takes 1 positional argument but 3 were given"
     ]
    }
   ],
   "source": [
    "# calling math class\n",
    "data1 = BasicMath(6,4)\n",
    "data1"
   ]
  },
  {
   "cell_type": "code",
   "execution_count": null,
   "id": "67420c3c",
   "metadata": {},
   "outputs": [],
   "source": [
    "# type of the data1 \n",
    "type(data1)"
   ]
  },
  {
   "cell_type": "code",
   "execution_count": null,
   "id": "cd7c9579",
   "metadata": {},
   "outputs": [],
   "source": [
    "# add()\n",
    "data1.add()"
   ]
  },
  {
   "cell_type": "code",
   "execution_count": null,
   "id": "ee06f1d4",
   "metadata": {},
   "outputs": [],
   "source": [
    "# subtract()\n",
    "data1.subtract()"
   ]
  },
  {
   "cell_type": "code",
   "execution_count": null,
   "id": "4394d132",
   "metadata": {},
   "outputs": [],
   "source": [
    "# multiply()\n",
    "data1.multiply()"
   ]
  },
  {
   "cell_type": "code",
   "execution_count": null,
   "id": "f63c1763",
   "metadata": {},
   "outputs": [],
   "source": [
    "# divide()\n",
    "data1.divide()"
   ]
  },
  {
   "cell_type": "code",
   "execution_count": null,
   "id": "3439ed45",
   "metadata": {},
   "outputs": [],
   "source": []
  },
  {
   "cell_type": "code",
   "execution_count": null,
   "id": "8fe855d3",
   "metadata": {},
   "outputs": [],
   "source": []
  },
  {
   "attachments": {
    "image.png": {
     "image/png": "[encoded data removed]"
    }
   },
   "cell_type": "markdown",
   "id": "51c62483",
   "metadata": {},
   "source": [
    "### Types of Methods <a class ='anchor' id ='tmethod'></a> \n",
    "There are three type of methods in objects oriented programming :\n",
    "![image.png](attachment:image.png)\n",
    "#### **Instance methods** <a class = 'anchor' id = 'IM'></a>\n",
    "Those methods work with an instance variable called the instance method.\n",
    "\n",
    "#### **Class methods**<a class = 'anchor' id = 'CM'></a>\n",
    "Those variables work with a class variable called the class method.\n",
    "\n",
    "#### **Static methods** <a class = 'anchor' id = 'SM'></a>\n",
    "Static methods work with nothing."
   ]
  },
  {
   "cell_type": "code",
   "execution_count": null,
   "id": "1b9fb8d6",
   "metadata": {},
   "outputs": [],
   "source": [
    "class student : \n",
    "    education  = \"School of AI & DS\"\n",
    "    def __init__(self, python, ML):\n",
    "        self.python = python \n",
    "        self.ML = ML\n",
    "    # instance method\n",
    "    def  max(self):\n",
    "        return max( [ self.python, self.ML ] )\n",
    "    # class method\n",
    "    @classmethod\n",
    "    def get_edu(cls):\n",
    "        return cls.education\n",
    "    # static method\n",
    "    @staticmethod\n",
    "    def static():\n",
    "        print('AI is coming…')"
   ]
  },
  {
   "cell_type": "markdown",
   "id": "dacbb377",
   "metadata": {},
   "source": [
    "### Q3. A create Class name named `Stats` takes a list data (or tuple) parameter as a input  that has follwoing method:\n",
    "1. `mean()` returns mean of the given data\n",
    "2. `median()` returns median of the data\n",
    "3. `mode()` returns mode of the data\n",
    "4. `max()` returns maximum value of data\n",
    "5. `min()` return minimum vale of the data\n",
    "6. `size()` returns total length of data\n",
    "### These method should be able to calculate `mean`,`median` and `mode`of given data. The could be in the form list or tuple."
   ]
  },
  {
   "cell_type": "code",
   "execution_count": null,
   "id": "500fc766",
   "metadata": {},
   "outputs": [],
   "source": [
    "class Stats:\n",
    "    \"\"\"\n",
    "    A class for performing basic statistical tasks.\n",
    "    \"\"\"\n",
    "\n",
    "    def __init__(self, data): # constractor\n",
    "        self.data = data\n",
    "    \n",
    "    def max(self):\n",
    "        \"A method for calculating the maximum value of the data\"\n",
    "        return max(self.data)\n",
    "    \n",
    "    def min(self):\n",
    "        \"A method  for calculating minimum value of the data\"\n",
    "        return min(self.data)\n",
    "    \n",
    "    def size(self):\n",
    "        \"A method for calculating length (or size) of the data\"\n",
    "        return len(self.data)\n",
    "\n",
    "    def mean(self):\n",
    "        \"\"\"\n",
    "        A method for calculating the mean of the data.\n",
    "        \"\"\"\n",
    "        return sum(self.data) / len(self.data)\n",
    "\n",
    "    def median(self):\n",
    "        \"\"\"\n",
    "        A method for calculating the median of the data.\n",
    "        \"\"\"\n",
    "        sorted_data = sorted(self.data)\n",
    "        n = len(self.data)\n",
    "        mid = n // 2\n",
    "        if n % 2 == 0:\n",
    "            return (sorted_data[mid - 1] + sorted_data[mid]) / 2\n",
    "        else:\n",
    "            return sorted_data[mid]\n",
    "\n",
    "    def mode(self):\n",
    "        freq = {}\n",
    "        for value in self.data:\n",
    "            if value in freq:\n",
    "                freq[value] += 1\n",
    "            else:\n",
    "                freq[value] = 1\n",
    "        mode_freq = max(freq.values())\n",
    "        modes = [value for value, frequency in freq.items() if frequency == mode_freq]\n",
    "        if len(modes) == len(self.data):\n",
    "            return None\n",
    "        else:\n",
    "            return modes"
   ]
  },
  {
   "cell_type": "code",
   "execution_count": null,
   "id": "a6aa96bd",
   "metadata": {},
   "outputs": [],
   "source": [
    "# Example usage:\n",
    "# Let's create a class for statistical calculation\n",
    "data = [1,2,1,5,1,2,6,1,7,2,6,4]\n",
    "model = Stats(data)\n",
    "model"
   ]
  },
  {
   "cell_type": "code",
   "execution_count": null,
   "id": "095aa458",
   "metadata": {},
   "outputs": [],
   "source": [
    "# methods\n",
    "model.mean()"
   ]
  },
  {
   "cell_type": "code",
   "execution_count": null,
   "id": "5c029d14",
   "metadata": {},
   "outputs": [],
   "source": [
    "model.median()"
   ]
  },
  {
   "cell_type": "code",
   "execution_count": null,
   "id": "5f7af57b",
   "metadata": {},
   "outputs": [],
   "source": [
    "model.mode()"
   ]
  },
  {
   "cell_type": "code",
   "execution_count": null,
   "id": "d42a0d3f",
   "metadata": {},
   "outputs": [],
   "source": [
    "print(\"Maximum Value : \", model.max())\n",
    "print(\"Minimum Value : \", model.min())\n",
    "print(\"Size of the data : \",model.size())"
   ]
  },
  {
   "cell_type": "markdown",
   "id": "79c251c2",
   "metadata": {},
   "source": [
    "### Q4. Create a class named  `text_processing` takes a text parameter as input and that has following methods:\n",
    "1. `Nvowel()` returns the number of vowels in the input string.\n",
    "2. `Nconsonant()` returns the number of consonants in the input string.\n",
    "3. `Nupper()` returns the number of uppercase letters in the input string.\n",
    "4. `Nlower()` returns the number of lowercase letters in the input string."
   ]
  },
  {
   "cell_type": "code",
   "execution_count": null,
   "id": "a0c53892",
   "metadata": {},
   "outputs": [],
   "source": [
    "class text_processing:\n",
    "    \n",
    "    def __init__(self, text):\n",
    "        self.text = text\n",
    "    \n",
    "    def Nvowel(self):\n",
    "        \"A method that calculate the total number of vowels in the givem text\"\n",
    "        vowels = \"aeiouAEIOU\"\n",
    "        count = 0\n",
    "        for char in self.text:\n",
    "            if char in vowels:\n",
    "                count += 1  # count = count + 1\n",
    "        return f\"Vowels : {count}\"\n",
    "    \n",
    "    def Nconsonant(self):\n",
    "        \"A method that calculate the total number of consonant in the givem text\"\n",
    "        consonants = \"bcdfghjklmnpqrstvwxyzBCDFGHJKLMNPQRSTVWXYZ\"\n",
    "        count1 = 0\n",
    "        for char in self.text:\n",
    "                if char in consonants:\n",
    "                    count1 += 1\n",
    "        return f\"Consonant : {count1}\"\n",
    "    \n",
    "    def Nupper(self):\n",
    "        \"A method that calculate the total number of upper case in the given text\"\n",
    "        count2 = 0\n",
    "        for char in self.text:\n",
    "            if char.isupper():\n",
    "                count2 += 1\n",
    "        return f\"Upper case : {count2}\"\n",
    "    \n",
    "    def Nlower(self):\n",
    "        \"A method that calculate the total number of lower case in the givem text\"\n",
    "        count3 = 0\n",
    "        for char in self.text:\n",
    "            if char.islower():\n",
    "                count3 += 1\n",
    "        return f\"Lower case : {count3}\"\n"
   ]
  },
  {
   "cell_type": "code",
   "execution_count": null,
   "id": "814cdebe",
   "metadata": {},
   "outputs": [],
   "source": [
    "text = \"The God father of  computer science is Allen Turing.\"\n",
    "\n",
    "# create class \n",
    "text_pro = text_processing(text)\n",
    "text_pro"
   ]
  },
  {
   "cell_type": "code",
   "execution_count": null,
   "id": "5c221541",
   "metadata": {},
   "outputs": [],
   "source": [
    "type(text_pro)"
   ]
  },
  {
   "cell_type": "code",
   "execution_count": null,
   "id": "99c630f1",
   "metadata": {},
   "outputs": [],
   "source": [
    "# methods\n",
    "text_pro.Nvowel()"
   ]
  },
  {
   "cell_type": "code",
   "execution_count": null,
   "id": "c1f96b32",
   "metadata": {},
   "outputs": [],
   "source": [
    "text_pro.Nconsonant()"
   ]
  },
  {
   "cell_type": "code",
   "execution_count": null,
   "id": "628dd028",
   "metadata": {},
   "outputs": [],
   "source": [
    "text_pro.Nupper()"
   ]
  },
  {
   "cell_type": "code",
   "execution_count": null,
   "id": "dd6c74b6",
   "metadata": {},
   "outputs": [],
   "source": [
    "text_pro.Nlower()"
   ]
  },
  {
   "cell_type": "markdown",
   "id": "78808fe2-3b41-4c21-bef3-ed2af2a3f45f",
   "metadata": {},
   "source": [
    "### Q5. Create a python class named **`DataAnalysis`** that has collection of following function/methods:\n",
    "- `load_data()` #that can load the data from given csv file\n",
    "- `total_revenue()`  #returns to sum of the data (revenue)\n",
    "- `mean()` : mean of the column\n",
    "- `median()` : median of a column\n",
    "- `mode()` returns mode of a column"
   ]
  },
  {
   "cell_type": "code",
   "execution_count": null,
   "id": "7df99546-a5d0-45d8-acf7-d36961f8603e",
   "metadata": {},
   "outputs": [],
   "source": [
    "import csv\n",
    "from statistics import mean, median, mode, stdev\n",
    "\n",
    "class DataAnalysis:\n",
    "    def __init__(self):\n",
    "        self.data = []\n",
    "\n",
    "    def load_data(self, file_path):\n",
    "        # loading the dataset\n",
    "        with open(file_path, 'r') as file:\n",
    "            csv_reader = csv.reader(file)\n",
    "            self.data = list(csv_reader)\n",
    "            # it will display first 3 rows \n",
    "            print(self.data[:4])\n",
    "\n",
    "    def mean(self, column_index):\n",
    "        \n",
    "        # mean of the given colunm\n",
    "\n",
    "        values = [float(row[column_index]) for row in self.data[1:]]  # Skip header row\n",
    "        return mean(values)\n",
    "\n",
    "    def median(self, column_index):\n",
    "        # meadian of a given column\n",
    "        values = [float(row[column_index]) for row in self.data[1:]]  # Skip header row\n",
    "        return median(values)\n",
    "\n",
    "    def mode(self, column_index):\n",
    "        # mdoe of a given column\n",
    "        values = [float(row[column_index]) for row in self.data[1:]]  # Skip header row\n",
    "        try:\n",
    "            return mode(values)\n",
    "        except StatisticsError:\n",
    "            return \"No mode found\""
   ]
  },
  {
   "cell_type": "code",
   "execution_count": null,
   "id": "039bf0f1-f265-4224-8122-51aed7345df4",
   "metadata": {},
   "outputs": [],
   "source": [
    "# Now let's creat an object of DataAnalysis and perform some of the above operations\n",
    "\n",
    "DA = DataAnalysis()\n",
    "DA"
   ]
  },
  {
   "cell_type": "code",
   "execution_count": null,
   "id": "bd8d51fb-1d4b-4b02-bcf5-010e0984487a",
   "metadata": {},
   "outputs": [],
   "source": [
    "# laoding dataset\n",
    "data = DA.load_data('product_data.csv')\n",
    "data"
   ]
  },
  {
   "cell_type": "code",
   "execution_count": null,
   "id": "5eb2ad63-1d4b-4146-a8fa-784b8911bc96",
   "metadata": {},
   "outputs": [],
   "source": [
    "# mean\n",
    "DA.mean(-1)  # price index is last"
   ]
  },
  {
   "cell_type": "code",
   "execution_count": null,
   "id": "38fc69a3-e70c-4d3a-8949-0c2d2f2a18e2",
   "metadata": {},
   "outputs": [],
   "source": [
    "# median of last columns (price column)\n",
    "DA.median(2)"
   ]
  },
  {
   "cell_type": "code",
   "execution_count": null,
   "id": "9b1c08b7-1862-4e23-9bba-8b23a2b6258a",
   "metadata": {},
   "outputs": [],
   "source": [
    "# median\n",
    "DA.mode(-1)"
   ]
  },
  {
   "cell_type": "code",
   "execution_count": null,
   "id": "dbe52239-57c3-4938-87a4-621d4a9e0ffb",
   "metadata": {},
   "outputs": [],
   "source": []
  },
  {
   "cell_type": "markdown",
   "id": "d77eb1d8",
   "metadata": {},
   "source": [
    "### Inheritance and overriding concepts , we will discuss next session...  <a class = 'anchor' id = 'inh'></a>"
   ]
  },
  {
   "cell_type": "code",
   "execution_count": null,
   "id": "3c9fc367",
   "metadata": {},
   "outputs": [],
   "source": []
  }
 ],
 "metadata": {
  "kernelspec": {
   "display_name": "Python 3 (ipykernel)",
   "language": "python",
   "name": "python3"
  },
  "language_info": {
   "codemirror_mode": {
    "name": "ipython",
    "version": 3
   },
   "file_extension": ".py",
   "mimetype": "text/x-python",
   "name": "python",
   "nbconvert_exporter": "python",
   "pygments_lexer": "ipython3",
   "version": "3.9.13"
  }
 },
 "nbformat": 4,
 "nbformat_minor": 5
}
