{
 "cells": [
  {
   "cell_type": "markdown",
   "id": "bb229f8c",
   "metadata": {},
   "source": [
    "![image.png](https://www.python.org/static/img/python-logo@2x.png)\n",
    "\n",
    "Resuming where we left off. We have seen the basic building blocks/data structures of python till now."
   ]
  },
  {
   "cell_type": "markdown",
   "id": "e799b013",
   "metadata": {},
   "source": [
    "## Table of Contents\n",
    "---\n",
    "### [Dictionary](#dict)\n",
    "   - [Dictionary Comprehension](#dC)\n",
    "---\n",
    "### [File Handling](#fh)\n",
    "-  [Access Modes](#am)\n",
    "-  [Reading a file](#raf)\n",
    "-  [Writing a file](#waf)\n",
    "-  [Write to an Existing File (append)](#app)\n",
    "-  [Delete a File](#daf)"
   ]
  },
  {
   "cell_type": "markdown",
   "id": "4a8d558c",
   "metadata": {},
   "source": [
    "## Dictionary <a class = 'anchor' id = 'dict'></a> \n",
    "---\n",
    "- A dictionary is a collection of **key-value** pairs and it maps keys to values.\n",
    "- Where each element is accessed (or indexed) by a unique key.\n",
    "- Dictionary is **mutable** (can be modified if needed).\n",
    "- In a dictionary, no duplicate keys are allowed.  \n",
    "Syntax:   \n",
    " `my_dict = {'key1': 'value1','key2': 'value2','key3': 'value3.......'keyn': 'valuen'}`\n"
   ]
  },
  {
   "cell_type": "code",
   "execution_count": 1,
   "id": "eebc61f3",
   "metadata": {},
   "outputs": [
    {
     "name": "stdout",
     "output_type": "stream",
     "text": [
      "{101: 'Python', 102: 'Machine Learning', 103: 'Data Analysis'}\n",
      "<class 'dict'>\n"
     ]
    }
   ],
   "source": [
    "data = {101: \"Python\", 102 : 'Machine Learning', 103 : \"Data Analysis\"}\n",
    "print(data)\n",
    "\n",
    "# type of the data\n",
    "print(type(data))"
   ]
  },
  {
   "attachments": {
    "image.png": {
     "image/png": "[encoded data removed]"
    }
   },
   "cell_type": "markdown",
   "id": "9ba9a7b8",
   "metadata": {},
   "source": [
    "![image.png](attachment:image.png)"
   ]
  },
  {
   "cell_type": "code",
   "execution_count": 2,
   "id": "566f0fd6",
   "metadata": {},
   "outputs": [
    {
     "data": {
      "text/plain": [
       "'Python'"
      ]
     },
     "execution_count": 2,
     "metadata": {},
     "output_type": "execute_result"
    }
   ],
   "source": [
    "# indexing \n",
    "data[101]"
   ]
  },
  {
   "cell_type": "code",
   "execution_count": 3,
   "id": "109f5beb",
   "metadata": {},
   "outputs": [
    {
     "data": {
      "text/plain": [
       "'Machine Learning'"
      ]
     },
     "execution_count": 3,
     "metadata": {},
     "output_type": "execute_result"
    }
   ],
   "source": [
    "data[102]"
   ]
  },
  {
   "cell_type": "code",
   "execution_count": 4,
   "id": "02dd20c4",
   "metadata": {},
   "outputs": [
    {
     "name": "stdout",
     "output_type": "stream",
     "text": [
      "Before :  {101: 'Python', 102: 'Machine Learning', 103: 'Data Analysis'}\n",
      "After :  {101: 'Python', 102: 'ML', 103: 'Data Analysis'}\n"
     ]
    }
   ],
   "source": [
    "# a dictionary  is  mutable. Its means we can change or modify.\n",
    "\n",
    "print(\"Before : \",data)\n",
    "\n",
    "data[102] = 'ML'   # updating \n",
    "\n",
    "print(\"After : \", data)"
   ]
  },
  {
   "cell_type": "code",
   "execution_count": 5,
   "id": "5aa14d58",
   "metadata": {},
   "outputs": [
    {
     "data": {
      "text/plain": [
       "{101: 'Python', 102: 'ML', 103: 'Data Analysis', 104: 'Data Science'}"
      ]
     },
     "execution_count": 5,
     "metadata": {},
     "output_type": "execute_result"
    }
   ],
   "source": [
    "# we can also a new element in the dictionary\n",
    "data[104] = 'Data Science'\n",
    "data"
   ]
  },
  {
   "cell_type": "markdown",
   "id": "a7d81cfd",
   "metadata": {},
   "source": [
    "### Methods and Functions of the Dictionary\n",
    "---\n",
    "There are some methods and functions of the dictionary:  \n",
    "- `keys()` displays a list of keys of the dictionary\n",
    "- `values()` all the values of the dictionary\n",
    "- `get()`  it is used to get a specific item from the dictionary\n",
    "- `items()`  list of tuple pairs of key-value \n",
    "- `update()` merge two dictionaries into the first one\n",
    "- `del dict[key1]` deletes the key-value pair corresponding key\n",
    "- `clear()` delete all the items  \n",
    "To get more about the methods and functions of the dictionary, we can use `help(dict)` or `dir(dict)`"
   ]
  },
  {
   "cell_type": "code",
   "execution_count": 6,
   "id": "8a14bde9",
   "metadata": {},
   "outputs": [
    {
     "data": {
      "text/plain": [
       "dict_keys([101, 102, 103, 104])"
      ]
     },
     "execution_count": 6,
     "metadata": {},
     "output_type": "execute_result"
    }
   ],
   "source": [
    "# keys()\n",
    "data.keys()"
   ]
  },
  {
   "cell_type": "code",
   "execution_count": 7,
   "id": "2db11e48",
   "metadata": {},
   "outputs": [
    {
     "data": {
      "text/plain": [
       "dict_values(['Python', 'ML', 'Data Analysis', 'Data Science'])"
      ]
     },
     "execution_count": 7,
     "metadata": {},
     "output_type": "execute_result"
    }
   ],
   "source": [
    "# values()\n",
    "data.values()"
   ]
  },
  {
   "cell_type": "code",
   "execution_count": 8,
   "id": "25eafe09",
   "metadata": {},
   "outputs": [
    {
     "data": {
      "text/plain": [
       "dict_items([(101, 'Python'), (102, 'ML'), (103, 'Data Analysis'), (104, 'Data Science')])"
      ]
     },
     "execution_count": 8,
     "metadata": {},
     "output_type": "execute_result"
    }
   ],
   "source": [
    "# items()\n",
    "data.items()"
   ]
  },
  {
   "cell_type": "code",
   "execution_count": 9,
   "id": "c5ac32f3",
   "metadata": {},
   "outputs": [
    {
     "data": {
      "text/plain": [
       "'Data Analysis'"
      ]
     },
     "execution_count": 9,
     "metadata": {},
     "output_type": "execute_result"
    }
   ],
   "source": [
    "# get()\n",
    "data.get(103)  # same as data[103]"
   ]
  },
  {
   "cell_type": "code",
   "execution_count": 10,
   "id": "f0654212",
   "metadata": {},
   "outputs": [],
   "source": [
    "data.get(100)  # get the key is not in the dictionary  it will return nothing, whereas data[100] show key error"
   ]
  },
  {
   "cell_type": "code",
   "execution_count": 11,
   "id": "fab04e41",
   "metadata": {},
   "outputs": [
    {
     "ename": "KeyError",
     "evalue": "100",
     "output_type": "error",
     "traceback": [
      "\u001b[1;31m---------------------------------------------------------------------------\u001b[0m",
      "\u001b[1;31mKeyError\u001b[0m                                  Traceback (most recent call last)",
      "\u001b[1;32m~\\AppData\\Local\\Temp\\ipykernel_1472\\4013086867.py\u001b[0m in \u001b[0;36m<module>\u001b[1;34m\u001b[0m\n\u001b[1;32m----> 1\u001b[1;33m \u001b[0mdata\u001b[0m\u001b[1;33m[\u001b[0m\u001b[1;36m100\u001b[0m\u001b[1;33m]\u001b[0m\u001b[1;33m\u001b[0m\u001b[1;33m\u001b[0m\u001b[0m\n\u001b[0m",
      "\u001b[1;31mKeyError\u001b[0m: 100"
     ]
    }
   ],
   "source": [
    "data[100]"
   ]
  },
  {
   "cell_type": "markdown",
   "id": "b2894a9a",
   "metadata": {},
   "source": [
    "#### Loop in the dictionary\n",
    "`for x in  dct:\n",
    "    print(x)`  \n"
   ]
  },
  {
   "cell_type": "code",
   "execution_count": 12,
   "id": "e838a744",
   "metadata": {},
   "outputs": [
    {
     "name": "stdout",
     "output_type": "stream",
     "text": [
      "{'Name': 'Allen', 'Age': 36, 'Skills': 'Machine Learning', 'Experience': 5}\n"
     ]
    }
   ],
   "source": [
    "dct = {\"Name\" : 'Allen', 'Age' : 36, 'Skills': 'Machine Learning','Experience' : 5}\n",
    "print(dct)"
   ]
  },
  {
   "cell_type": "code",
   "execution_count": 13,
   "id": "f149e4a7",
   "metadata": {},
   "outputs": [
    {
     "name": "stdout",
     "output_type": "stream",
     "text": [
      "Name\n",
      "Age\n",
      "Skills\n",
      "Experience\n"
     ]
    }
   ],
   "source": [
    "for x in  dct:\n",
    "    print(x)  # we will get only keys of the dictionary"
   ]
  },
  {
   "cell_type": "code",
   "execution_count": 14,
   "id": "30fcb731",
   "metadata": {},
   "outputs": [
    {
     "name": "stdout",
     "output_type": "stream",
     "text": [
      "Allen\n",
      "36\n",
      "Machine Learning\n",
      "5\n"
     ]
    }
   ],
   "source": [
    "for x in dct:\n",
    "    print(dct[x])  # we will only values of the dictionary"
   ]
  },
  {
   "cell_type": "markdown",
   "id": "98e72cd4",
   "metadata": {},
   "source": [
    "#### Dictionary Comprehension <a class = 'anchor' id = 'dC'></a> \n",
    "- Dictionary Comprehension is a smart way to create a dictionary.  \n",
    "syntax :  \n",
    "`{k : v for k,v in <iterable>}`  \n",
    "`{k : v for k,v in <iterable> if <condition>}`"
   ]
  },
  {
   "cell_type": "code",
   "execution_count": 15,
   "id": "30ce5f10",
   "metadata": {},
   "outputs": [
    {
     "data": {
      "text/plain": [
       "{1: 'a', 2: 'b', 3: 'c', 4: 'd'}"
      ]
     },
     "execution_count": 15,
     "metadata": {},
     "output_type": "execute_result"
    }
   ],
   "source": [
    "lst1 = [1,2,3,4]\n",
    "lst2 = ['a','b','c','d']\n",
    "\n",
    "{x:y for x,y in zip(lst1,lst2)}"
   ]
  },
  {
   "cell_type": "code",
   "execution_count": 16,
   "id": "93d188cc",
   "metadata": {},
   "outputs": [
    {
     "data": {
      "text/plain": [
       "{0: 0, 1: 1, 2: 4, 3: 9, 4: 16}"
      ]
     },
     "execution_count": 16,
     "metadata": {},
     "output_type": "execute_result"
    }
   ],
   "source": [
    "# another way\n",
    "{x : x**2 for x in range(5)}"
   ]
  },
  {
   "cell_type": "code",
   "execution_count": 17,
   "id": "ffeeb01d",
   "metadata": {},
   "outputs": [
    {
     "data": {
      "text/plain": [
       "{1: 1, 3: 9, 5: 25, 7: 49, 9: 81, 11: 121, 13: 169, 15: 225, 17: 289, 19: 361}"
      ]
     },
     "execution_count": 17,
     "metadata": {},
     "output_type": "execute_result"
    }
   ],
   "source": [
    "# with  conditional argument\n",
    "{x : x**2 for x in  range(20) if x % 2 == 1}  # print only values"
   ]
  },
  {
   "cell_type": "markdown",
   "id": "03a6128d",
   "metadata": {},
   "source": [
    "### Q13.**Write a program to create a phone book and delete a particular phone number using a name.**  ***\n",
    "`phone_book = {'Arjun' : [785633993, 'Arjun', 'Delhi'], 'John' : [89999663, 'John','Chennai'],\n",
    "              'Maria': [123649793, 'Maria','Mumbai' ], 'Shurti' : [696696523, 'Shurti','Mumbai']}`"
   ]
  },
  {
   "cell_type": "code",
   "execution_count": 18,
   "id": "b8a31cc8",
   "metadata": {},
   "outputs": [],
   "source": [
    "phone_book = {'Arjun' : [785633993, 'Arjun', 'Delhi'], 'John' : [89999663, 'John','Chennai'],\n",
    "              'Maria': [123649793, 'Maria','Mumbai' ], 'Shurti' : [696696523, 'Shurti','Mumbai']}"
   ]
  },
  {
   "cell_type": "code",
   "execution_count": 19,
   "id": "470c75d2",
   "metadata": {},
   "outputs": [
    {
     "name": "stdout",
     "output_type": "stream",
     "text": [
      "--- Description -- \n",
      "\n",
      "Name : Arjun\n",
      "Phone Number :  785633993\n",
      "City :  Delhi\n"
     ]
    }
   ],
   "source": [
    "name = 'Arjun'\n",
    "\n",
    "print('--- Description -- \\n')\n",
    "print('Name :', phone_book.get(name)[1])\n",
    "print('Phone Number : ', phone_book.get(name)[0])\n",
    "print('City : ',phone_book.get(name)[2])"
   ]
  },
  {
   "cell_type": "code",
   "execution_count": 20,
   "id": "a5b51756",
   "metadata": {},
   "outputs": [
    {
     "name": "stdout",
     "output_type": "stream",
     "text": [
      "{'John': [89999663, 'John', 'Chennai'], 'Maria': [123649793, 'Maria', 'Mumbai'], 'Shurti': [696696523, 'Shurti', 'Mumbai']}\n"
     ]
    }
   ],
   "source": [
    "# deleting name\n",
    "del phone_book[name]\n",
    "print(phone_book)"
   ]
  },
  {
   "cell_type": "code",
   "execution_count": null,
   "id": "3a5637b2",
   "metadata": {},
   "outputs": [],
   "source": []
  },
  {
   "cell_type": "code",
   "execution_count": null,
   "id": "904b8ffc",
   "metadata": {},
   "outputs": [],
   "source": []
  },
  {
   "cell_type": "markdown",
   "id": "aaad341c",
   "metadata": {},
   "source": [
    "### Q14. Write a Python program to find the sum of square of **`values`** of a given dictionary.\n",
    "`dct = {'a': 100, 'b' : 140, \"c\" : 120, \"d\" : 200}`"
   ]
  },
  {
   "cell_type": "code",
   "execution_count": 21,
   "id": "eb5de354-2db8-4795-906f-118ceb791b68",
   "metadata": {},
   "outputs": [],
   "source": [
    "# code\n",
    "\n",
    "\n",
    "# Expected Output\n",
    "# The sum of square of values of the dictionary  :  560"
   ]
  },
  {
   "cell_type": "markdown",
   "id": "f3a30bb5-b441-46d2-87a6-461229d972cc",
   "metadata": {},
   "source": [
    "<details>\n",
    "    <summary> Solution </summary>\n",
    "    \n",
    "```python\n",
    "\n",
    "\n",
    "dct = {'a': 100, 'b' : 140, \"c\" : 120, \"d\" : 200}\n",
    "\n",
    "sm_square = 0\n",
    "\n",
    "for num in dct :\n",
    "    sm_square = sm_square + dct[num]\n",
    "print(\"The sum of square of values of the dictionary  : \",sm_square)\n",
    "\n",
    "```\n",
    "    \n",
    "</details>"
   ]
  },
  {
   "cell_type": "markdown",
   "id": "3717f941",
   "metadata": {},
   "source": [
    "# File Handling <a class = 'anchor' id = 'fh'></a>\n",
    "---\n",
    "- In Python programs, data will be **stored** in those variables during **run-time only and** will be **lost once the program execution is completed**.  \n",
    "    \n",
    "- Python provides us with an important feature for reading data from the file and writing data into a file, so we can **store data for a long time** and those data can **save permanently in files**."
   ]
  },
  {
   "attachments": {
    "image.png": {
     "image/png": "[encoded data removed]"
    }
   },
   "cell_type": "markdown",
   "id": "bfdada6f",
   "metadata": {},
   "source": [
    "For working with files we have to follow the following major steps:  \n",
    "![image.png](attachment:image.png)\n",
    "\n",
    "\n",
    "The key function for working with files in Python is the open() function.\n",
    "\n",
    "The ```open()``` function takes two parameters; ```filename```, and ```mode```."
   ]
  },
  {
   "cell_type": "markdown",
   "id": "e321f460",
   "metadata": {},
   "source": [
    "### Access Modes <a class = 'anchor' id = 'am'></a>\n",
    "\n",
    "There are the following access modes for the files:\n",
    "- `“ r ”` Read - Default value. Opens a file for reading, an error if the file does not exist.\n",
    "- `“ w ”` Write -  Opens a file for writing, creates the file if it does not exist if the file exists, it will wipe all the from the file\n",
    "- `“ a ”` Append - Opens a file for appending, creates the file if it does not exist.\n",
    "- `“ r+ ”` for both reading and writing\n",
    "-  `“w+”`  for both writing and reading\n",
    "- `“a+”`  for append and read mode "
   ]
  },
  {
   "cell_type": "markdown",
   "id": "e17f916a",
   "metadata": {},
   "source": [
    "Now Let's open (read operations) a text file named `sample.txt`. For this, we have to follow all the above three steps.\n",
    "\n",
    "### Reading a file <a class = 'anchor' id  = 'raf'></a>"
   ]
  },
  {
   "cell_type": "code",
   "execution_count": 22,
   "id": "ac8b5cbe",
   "metadata": {},
   "outputs": [],
   "source": [
    "# step : (I) open the file with reading mode\n",
    "# f = open(\"sample.txt\", 'r')   # 'r' is default value\n",
    "f = open(\"sample.txt\") \n",
    "# f"
   ]
  },
  {
   "cell_type": "markdown",
   "id": "43022878",
   "metadata": {},
   "source": [
    "There are some reading operations are given below:\n",
    "1.  ```for i in  f:\n",
    "       print(i)```\n",
    "2. ``` f.read()```   If no argument is passed, then this read() method applied on the file_object read **all the content** inside the sample.txt file.\n",
    "3. ``` f.readline() ``` If no argument to the readline() method, it will print only one complete line.\n",
    "4. ``` f.readlines()``` This readlines() method returns the lines along with the newline as a list of strings, which means every line of the file would list of elements with a newline (‘\\n’)."
   ]
  },
  {
   "cell_type": "code",
   "execution_count": 23,
   "id": "ac8eee7f",
   "metadata": {},
   "outputs": [
    {
     "name": "stdout",
     "output_type": "stream",
     "text": [
      "Hello this is first line\n",
      "This is second line\n",
      "This is the third line\n",
      "\n"
     ]
    }
   ],
   "source": [
    "# step : (II) reading the data inside txt file\n",
    "print(f.read())"
   ]
  },
  {
   "cell_type": "code",
   "execution_count": 24,
   "id": "0582bc58",
   "metadata": {},
   "outputs": [],
   "source": [
    "# step :  closing the file\n",
    "f.close()"
   ]
  },
  {
   "cell_type": "code",
   "execution_count": 25,
   "id": "9fce06a9",
   "metadata": {},
   "outputs": [
    {
     "name": "stdout",
     "output_type": "stream",
     "text": [
      "Hello this is first line\n",
      "This is second line\n",
      "This is the third line\n",
      "\n"
     ]
    }
   ],
   "source": [
    "# now let's perform read()\n",
    "f = open('sample.txt','r')\n",
    "d = f.read()\n",
    "print(d)\n",
    "f.close()"
   ]
  },
  {
   "cell_type": "code",
   "execution_count": 26,
   "id": "87a4df51",
   "metadata": {},
   "outputs": [
    {
     "name": "stdout",
     "output_type": "stream",
     "text": [
      "Hello this is first line\n",
      "\n"
     ]
    }
   ],
   "source": [
    "# readline()\n",
    "f = open('sample.txt','r')\n",
    "d = f.readline()\n",
    "print(d)\n",
    "f.close()"
   ]
  },
  {
   "cell_type": "code",
   "execution_count": 27,
   "id": "ee2566f2",
   "metadata": {},
   "outputs": [
    {
     "name": "stdout",
     "output_type": "stream",
     "text": [
      "['Hello this is first line\\n', 'This is second line\\n', 'This is the third line\\n']\n"
     ]
    }
   ],
   "source": [
    "# readline()\n",
    "f = open('sample.txt','r')\n",
    "d = f.readlines()\n",
    "print(d)\n",
    "f.close()"
   ]
  },
  {
   "cell_type": "markdown",
   "id": "4846ad59-39ff-4048-ad0f-d855a71c3721",
   "metadata": {},
   "source": [
    "### We can also open file and perform reading, writing, and append task. In this we don't need to write `close()` for closing file (working file), we can just indented from the `with` body.  \n",
    "\n",
    "\n",
    "\n",
    "```\n",
    "with open('file_path','mode_of_open'):\n",
    "        ..................................\n",
    "        ...with body's code..............\n",
    "        .................................\n",
    "```"
   ]
  },
  {
   "cell_type": "code",
   "execution_count": 28,
   "id": "7c87bc25-738e-4e30-9a36-e522e7e04bcc",
   "metadata": {},
   "outputs": [
    {
     "name": "stdout",
     "output_type": "stream",
     "text": [
      "['Hello this is first line\\n', 'This is second line\\n', 'This is the third line\\n']\n"
     ]
    }
   ],
   "source": [
    "with open('sample.txt','r') as f:\n",
    "    d = f.readlines()\n",
    "    print(d)"
   ]
  },
  {
   "cell_type": "markdown",
   "id": "a3e53765-8608-4378-87a1-6f488fc63e03",
   "metadata": {},
   "source": [
    "As we can see that, we are getting same code output in both method of working with a file."
   ]
  },
  {
   "cell_type": "markdown",
   "id": "7ee0d32f",
   "metadata": {},
   "source": [
    "### Write to an  File <a class = 'anchor' id = 'waf'></a>\n",
    "To write to an existing file, you must add a parameter to the open() function:\n",
    "```\n",
    "\n",
    "\"w\" - Write - will overwrite any existing content\n",
    "```\n",
    "There are some reading operations are given below:\n",
    "- ```write()``` method takes a string as an argument and writes it to the text file and it returns the number of characters \n",
    "written in the string.\n",
    "- `writelines()`This method is used to write multiple strings (lines) to a file. We need to pass all lines in iterable objects like lists and tuples and it doesn’t return the number of characters to pass the file.\n"
   ]
  },
  {
   "cell_type": "code",
   "execution_count": 29,
   "id": "839cbad0",
   "metadata": {},
   "outputs": [],
   "source": [
    "# write()\n",
    "f = open(\"sample2.txt\", \"w\")\n",
    "f.write(\"This is new file\")\n",
    "f.write('This is second line.')   # will add new sentence but same line\n",
    "f.close()"
   ]
  },
  {
   "cell_type": "code",
   "execution_count": 30,
   "id": "310f0552",
   "metadata": {},
   "outputs": [
    {
     "name": "stdout",
     "output_type": "stream",
     "text": [
      "This is new fileThis is second line.\n"
     ]
    }
   ],
   "source": [
    "#open and read the file after the appending:\n",
    "f = open(\"sample2.txt\", \"r\")\n",
    "print(f.read())\n",
    "f.close()"
   ]
  },
  {
   "cell_type": "code",
   "execution_count": 31,
   "id": "3b09d74a",
   "metadata": {},
   "outputs": [],
   "source": [
    "# writelines()\n",
    "f = open('sample2.txt','w')\n",
    "f.writelines(['Hello this is first line\\n','This is second line\\n', 'This is the third line\\n'])\n",
    "f.close()"
   ]
  },
  {
   "cell_type": "code",
   "execution_count": 32,
   "id": "d555e5d4",
   "metadata": {},
   "outputs": [
    {
     "name": "stdout",
     "output_type": "stream",
     "text": [
      "Hello this is first line\n",
      "This is second line\n",
      "This is the third line\n",
      "\n"
     ]
    }
   ],
   "source": [
    "#open and read the file after the appending:\n",
    "f = open(\"sample2.txt\", \"r\")\n",
    "print(f.read())\n",
    "f.close()"
   ]
  },
  {
   "cell_type": "markdown",
   "id": "73d34575",
   "metadata": {},
   "source": [
    "### Write to an Existing File (append) <a class = 'anchor' id = 'app'></a>\n",
    "To write to an existing file, you must add a parameter to the open() function:\n",
    "\n",
    "```\n",
    "\"a\" - Append - will append to the end of the file\n"
   ]
  },
  {
   "cell_type": "code",
   "execution_count": 33,
   "id": "857062e4",
   "metadata": {},
   "outputs": [],
   "source": [
    "# # Opening file and appending\n",
    "f = open(\"sample2.txt\", \"a\")  # append mode\n",
    "f.write(\"This is last line.\")\n",
    "f.close()"
   ]
  },
  {
   "cell_type": "code",
   "execution_count": 34,
   "id": "d1ba65cd",
   "metadata": {},
   "outputs": [
    {
     "name": "stdout",
     "output_type": "stream",
     "text": [
      "Hello this is first line\n",
      "This is second line\n",
      "This is the third line\n",
      "This is last line.\n"
     ]
    }
   ],
   "source": [
    "#open and read the file after the appending:\n",
    "f = open(\"sample2.txt\", \"r\")\n",
    "print(f.read())\n",
    "f.close()"
   ]
  },
  {
   "cell_type": "markdown",
   "id": "a3fd6bb0",
   "metadata": {},
   "source": [
    "### Delete a File <a class = 'anchor' id = 'daf'></a>\n",
    "To delete a file, you must import the OS module, and run its ```os.remove()``` function:"
   ]
  },
  {
   "cell_type": "code",
   "execution_count": null,
   "id": "027b78dc",
   "metadata": {},
   "outputs": [],
   "source": [
    "import os\n",
    "os.remove(\"sample1.txt\")"
   ]
  },
  {
   "cell_type": "markdown",
   "id": "909a7f19",
   "metadata": {},
   "source": [
    "### Check if File exist <a class = 'anchor' id = 'fe'></a>\n",
    "To avoid getting an error, you might want to check if the file exists before you try to delete it:"
   ]
  },
  {
   "cell_type": "code",
   "execution_count": null,
   "id": "7d0bcc6d",
   "metadata": {},
   "outputs": [],
   "source": [
    "import os\n",
    "if os.path.exists(\"sample1.txt\"):\n",
    "    os.remove(\"sample1.txt\")\n",
    "else:\n",
    "    print(\"The file does not exist\")"
   ]
  },
  {
   "cell_type": "markdown",
   "id": "4907b9cf",
   "metadata": {},
   "source": [
    "### Delete Folder\n",
    "To delete an entire folder, use the ```os.rmdir()``` method:"
   ]
  },
  {
   "cell_type": "code",
   "execution_count": null,
   "id": "21a1716b",
   "metadata": {},
   "outputs": [],
   "source": [
    "# Use with extreme caution\n",
    "import os\n",
    "os.rmdir(\"folder_name\")"
   ]
  },
  {
   "cell_type": "code",
   "execution_count": null,
   "id": "dadd2d69",
   "metadata": {},
   "outputs": [],
   "source": []
  },
  {
   "cell_type": "code",
   "execution_count": null,
   "id": "f5742c33-64e5-41c4-89a7-4429b17a8224",
   "metadata": {},
   "outputs": [],
   "source": []
  }
 ],
 "metadata": {
  "kernelspec": {
   "display_name": "Python 3 (ipykernel)",
   "language": "python",
   "name": "python3"
  },
  "language_info": {
   "codemirror_mode": {
    "name": "ipython",
    "version": 3
   },
   "file_extension": ".py",
   "mimetype": "text/x-python",
   "name": "python",
   "nbconvert_exporter": "python",
   "pygments_lexer": "ipython3",
   "version": "3.9.13"
  }
 },
 "nbformat": 4,
 "nbformat_minor": 5
}
