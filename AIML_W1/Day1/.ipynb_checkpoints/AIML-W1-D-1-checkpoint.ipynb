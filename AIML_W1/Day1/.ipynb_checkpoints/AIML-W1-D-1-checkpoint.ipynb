{
 "cells": [
  {
   "cell_type": "markdown",
   "id": "5e4a19eb",
   "metadata": {},
   "source": [
    "![image.png](https://www.python.org/static/img/python-logo@2x.png)\n"
   ]
  },
  {
   "cell_type": "markdown",
   "id": "099eed3e",
   "metadata": {},
   "source": [
    "# Python\n",
    "Python is a high-level, general-purpose programming language. Its design philosophy emphasizes code readability with the use of significant indentation. Python is dynamically-typed and garbage-collected. It supports multiple programming paradigms, including structured, object-oriented and functional programming. \n",
    "\n",
    "The official Website can be found [here](https://www.python.org/). \n",
    "\n",
    "----\n",
    "## Table of Contents\n",
    "* [Numeric Data](#nd)\n",
    "    - [Integers](#int)\n",
    "    - [floats](#flts)\n",
    "* [Data Structures](#DS)\n",
    "    - [String](#str)\n",
    "    - [List](#lst)\n",
    "    - [Tuple](#tpl)\n",
    "    - [Set](#st)\n",
    "    - [Dicitionary](#dict)"
   ]
  },
  {
   "cell_type": "markdown",
   "id": "25827ecf",
   "metadata": {},
   "source": [
    "## Numeric Data <a class=\"anchor\" id=\"nd\"></a>\n",
    "---\n",
    "Numeric data mainly two types in python :\n",
    "1. **Integer**: The numbers without decimal points. <a class = \"anchor\" id = 'int'></a>\n",
    "2. **Float**: The numbers with decimal points.<a class = \"anchor\" id = 'flts'></a>\n"
   ]
  },
  {
   "cell_type": "code",
   "execution_count": 1,
   "id": "435fe0b3",
   "metadata": {},
   "outputs": [
    {
     "name": "stdout",
     "output_type": "stream",
     "text": [
      "45\n",
      "4.5\n"
     ]
    }
   ],
   "source": [
    "a = 45   # integer\n",
    "b = 4.5  # float\n",
    "\n",
    "print(a)\n",
    "print(b)\n"
   ]
  },
  {
   "cell_type": "code",
   "execution_count": 2,
   "id": "f18ab2bf",
   "metadata": {},
   "outputs": [
    {
     "name": "stdout",
     "output_type": "stream",
     "text": [
      "<class 'int'>\n"
     ]
    }
   ],
   "source": [
    "# type() is  used to  know  the  data type \n",
    "print(type(a))"
   ]
  },
  {
   "cell_type": "code",
   "execution_count": 3,
   "id": "83516089",
   "metadata": {},
   "outputs": [
    {
     "name": "stdout",
     "output_type": "stream",
     "text": [
      "<class 'float'>\n"
     ]
    }
   ],
   "source": [
    "print(type(b))"
   ]
  },
  {
   "cell_type": "markdown",
   "id": "0eff9ca1",
   "metadata": {},
   "source": [
    "#### Mathematical Operation with numeric data"
   ]
  },
  {
   "cell_type": "code",
   "execution_count": 4,
   "id": "1238b578",
   "metadata": {},
   "outputs": [
    {
     "name": "stdout",
     "output_type": "stream",
     "text": [
      "Addition :  8\n",
      "Substraction : 2\n",
      "Multipication :  15\n",
      "Divsion :  1.6666666666666667\n",
      "Integer divison : 1\n"
     ]
    }
   ],
   "source": [
    "# with integers\n",
    "n1 = 5\n",
    "n2 = 3\n",
    "\n",
    "add = n1 + n2\n",
    "\n",
    "sub = n1 - n2\n",
    "\n",
    "prod = n1 * n2 \n",
    "\n",
    "div = n1/n2\n",
    "\n",
    "int_div  = n1 // n2  # here '//' is used for integer division, that returns only  integer\n",
    "\n",
    "print(\"Addition : \",add)\n",
    "print('Substraction :', sub)\n",
    "print('Multipication : ',prod)\n",
    "print('Divsion : ',div)\n",
    "print('Integer divison :',  int_div)"
   ]
  },
  {
   "cell_type": "code",
   "execution_count": 5,
   "id": "e42da234",
   "metadata": {},
   "outputs": [
    {
     "data": {
      "text/plain": [
       "False"
      ]
     },
     "execution_count": 5,
     "metadata": {},
     "output_type": "execute_result"
    }
   ],
   "source": [
    "# comparison operators : ==, !=, <, > , <=, >=\n",
    "2 > 4"
   ]
  },
  {
   "cell_type": "code",
   "execution_count": 6,
   "id": "edeb879b",
   "metadata": {},
   "outputs": [
    {
     "data": {
      "text/plain": [
       "True"
      ]
     },
     "execution_count": 6,
     "metadata": {},
     "output_type": "execute_result"
    }
   ],
   "source": [
    "2 <= 4   #  less than  the or equal to"
   ]
  },
  {
   "cell_type": "code",
   "execution_count": 7,
   "id": "af8fd39b",
   "metadata": {},
   "outputs": [
    {
     "data": {
      "text/plain": [
       "True"
      ]
     },
     "execution_count": 7,
     "metadata": {},
     "output_type": "execute_result"
    }
   ],
   "source": [
    "2.0 == 2   # equal to"
   ]
  },
  {
   "cell_type": "code",
   "execution_count": 8,
   "id": "6f593192",
   "metadata": {},
   "outputs": [
    {
     "data": {
      "text/plain": [
       "True"
      ]
     },
     "execution_count": 8,
     "metadata": {},
     "output_type": "execute_result"
    }
   ],
   "source": [
    "2.6 != 3  # not equal to"
   ]
  },
  {
   "cell_type": "markdown",
   "id": "c7da1fa4",
   "metadata": {},
   "source": [
    "## Practice Questions\n",
    "\n",
    "### Q1. Perform all the above mathematical operations with floats."
   ]
  },
  {
   "cell_type": "code",
   "execution_count": null,
   "id": "13e4f640",
   "metadata": {},
   "outputs": [],
   "source": []
  },
  {
   "cell_type": "code",
   "execution_count": null,
   "id": "d778d7fb",
   "metadata": {},
   "outputs": [],
   "source": []
  },
  {
   "cell_type": "code",
   "execution_count": null,
   "id": "57a5a5af",
   "metadata": {},
   "outputs": [],
   "source": []
  },
  {
   "cell_type": "markdown",
   "id": "477d4849",
   "metadata": {},
   "source": [
    "### loops with numbers"
   ]
  },
  {
   "cell_type": "code",
   "execution_count": 9,
   "id": "c1996dee",
   "metadata": {},
   "outputs": [
    {
     "name": "stdout",
     "output_type": "stream",
     "text": [
      "0\n",
      "1\n",
      "2\n",
      "3\n",
      "4\n"
     ]
    }
   ],
   "source": [
    "# for loop\n",
    "for x in range(5):\n",
    "    print(x)"
   ]
  },
  {
   "cell_type": "code",
   "execution_count": 10,
   "id": "f64a8d1d",
   "metadata": {},
   "outputs": [
    {
     "name": "stdout",
     "output_type": "stream",
     "text": [
      "0\n",
      "1\n",
      "2\n",
      "3\n",
      "4\n"
     ]
    }
   ],
   "source": [
    "x = 0\n",
    "while x <= 4:\n",
    "    print(x)\n",
    "    x = x + 1"
   ]
  },
  {
   "cell_type": "code",
   "execution_count": null,
   "id": "987eb32c",
   "metadata": {},
   "outputs": [],
   "source": []
  },
  {
   "cell_type": "markdown",
   "id": "575dc4a7",
   "metadata": {},
   "source": [
    "## Practice Questions\n",
    "\n",
    "### Q2. Write a program, that finds the sum of squares of numbers from 1 to 20."
   ]
  },
  {
   "cell_type": "code",
   "execution_count": null,
   "id": "16deb63b",
   "metadata": {},
   "outputs": [],
   "source": []
  },
  {
   "cell_type": "code",
   "execution_count": null,
   "id": "b6db93f7",
   "metadata": {},
   "outputs": [],
   "source": []
  },
  {
   "cell_type": "markdown",
   "id": "5d55810f",
   "metadata": {},
   "source": [
    "#  Data Structure <a class = 'anchor' id = 'DS'></a> \n",
    "---\n",
    "There are the following data in Python:  \n",
    "1. String\n",
    "2. List\n",
    "3. Tuple\n",
    "4. Set\n",
    "5. Dictionaries\n",
    "## String <a class = 'anchor' id = 'str'></a>\n",
    "---\n",
    "- In Python, a string is a sequence of characters enclosed within quotes. Python treats **single (‘ ’)** or **double quotes (“  ”)** as equal.\n",
    "-  A string can also be enclosed into the triple quotes (''' some text...'''). That can be used for multiple lines of strings.  \n",
    "- A string is immutable (cannot be modified).  \n",
    "syntax:  \n",
    "`text1 = \"hello python\"`  \n",
    "`text2 = 'hello python'`\n",
    "\n",
    "Here text1 and text2 are variables and both are string data."
   ]
  },
  {
   "cell_type": "code",
   "execution_count": 11,
   "id": "17b81081",
   "metadata": {},
   "outputs": [
    {
     "name": "stdout",
     "output_type": "stream",
     "text": [
      "Hello Python\n",
      "Hello python\n",
      "This is also string and,\n",
      "triple qoutes can use for multiple lines of text\n"
     ]
    }
   ],
   "source": [
    "text1 = \"Hello Python\"\n",
    "text2 = 'Hello python'\n",
    "text3 = '''This is also string and,\n",
    "triple qoutes can use for multiple lines of text'''\n",
    "\n",
    "# here print() is used to display the value\n",
    "print(text1)\n",
    "print(text2)\n",
    "print(text3)"
   ]
  },
  {
   "attachments": {
    "image.png": {
     "image/png": "[encoded data removed]"
    }
   },
   "cell_type": "markdown",
   "id": "959ac4fc",
   "metadata": {},
   "source": [
    "- **Indexing**: To access an individual item from a string (list/tuple) is called indexing.\n",
    "- Indexing in a string can be done in two ways **forward** and **backward** indexing.\n",
    "![image.png](attachment:image.png)\n",
    "\n",
    "**Note:** Only an integer is used for indexing, we cannot use float value for indexing."
   ]
  },
  {
   "cell_type": "code",
   "execution_count": 12,
   "id": "384764e6",
   "metadata": {},
   "outputs": [
    {
     "data": {
      "text/plain": [
       "'H'"
      ]
     },
     "execution_count": 12,
     "metadata": {},
     "output_type": "execute_result"
    }
   ],
   "source": [
    "# indexing\n",
    "text1[0]"
   ]
  },
  {
   "cell_type": "code",
   "execution_count": 13,
   "id": "8b488ee9",
   "metadata": {},
   "outputs": [
    {
     "data": {
      "text/plain": [
       "'P'"
      ]
     },
     "execution_count": 13,
     "metadata": {},
     "output_type": "execute_result"
    }
   ],
   "source": [
    "text1[6] # forward indexing"
   ]
  },
  {
   "cell_type": "code",
   "execution_count": 14,
   "id": "bb8e3db2",
   "metadata": {},
   "outputs": [
    {
     "data": {
      "text/plain": [
       "'t'"
      ]
     },
     "execution_count": 14,
     "metadata": {},
     "output_type": "execute_result"
    }
   ],
   "source": [
    "text1[-4]  # backward indexing"
   ]
  },
  {
   "cell_type": "markdown",
   "id": "db33aced",
   "metadata": {},
   "source": [
    "**Slicing** to get a sub-string from the given string (list/ tuple).  \n",
    "`text[start : end+1  : steps]`"
   ]
  },
  {
   "cell_type": "code",
   "execution_count": 15,
   "id": "0cd1b142",
   "metadata": {},
   "outputs": [
    {
     "data": {
      "text/plain": [
       "'loPto'"
      ]
     },
     "execution_count": 15,
     "metadata": {},
     "output_type": "execute_result"
    }
   ],
   "source": [
    "text1[2:12:2]"
   ]
  },
  {
   "cell_type": "code",
   "execution_count": 16,
   "id": "5d47dc73",
   "metadata": {},
   "outputs": [
    {
     "data": {
      "text/plain": [
       "'lo Python'"
      ]
     },
     "execution_count": 16,
     "metadata": {},
     "output_type": "execute_result"
    }
   ],
   "source": [
    "text1[3:]"
   ]
  },
  {
   "cell_type": "code",
   "execution_count": 17,
   "id": "4266ed9f",
   "metadata": {},
   "outputs": [
    {
     "data": {
      "text/plain": [
       "'Hel'"
      ]
     },
     "execution_count": 17,
     "metadata": {},
     "output_type": "execute_result"
    }
   ],
   "source": [
    "text1[:3]"
   ]
  },
  {
   "cell_type": "code",
   "execution_count": 18,
   "id": "b47e3e82",
   "metadata": {},
   "outputs": [
    {
     "data": {
      "text/plain": [
       "'Hello Python'"
      ]
     },
     "execution_count": 18,
     "metadata": {},
     "output_type": "execute_result"
    }
   ],
   "source": [
    "text1[:]  # to get all the characters from the string"
   ]
  },
  {
   "attachments": {
    "image.png": {
     "image/png": "[encoded data removed]"
    }
   },
   "cell_type": "markdown",
   "id": "b74af08a",
   "metadata": {},
   "source": [
    "### Type casting\n",
    "---\n",
    "We can also change the data type of the given data and it is called **type casting**. \n",
    "![image.png](attachment:image.png)"
   ]
  },
  {
   "cell_type": "code",
   "execution_count": 19,
   "id": "2efe436b",
   "metadata": {},
   "outputs": [
    {
     "name": "stdout",
     "output_type": "stream",
     "text": [
      "46\n"
     ]
    }
   ],
   "source": [
    "num = 46\n",
    "print(num)"
   ]
  },
  {
   "cell_type": "code",
   "execution_count": 20,
   "id": "e9112d63",
   "metadata": {},
   "outputs": [
    {
     "data": {
      "text/plain": [
       "'46'"
      ]
     },
     "execution_count": 20,
     "metadata": {},
     "output_type": "execute_result"
    }
   ],
   "source": [
    "st = str(num)  # typecasted into a string\n",
    "st"
   ]
  },
  {
   "cell_type": "markdown",
   "id": "dca84b1c",
   "metadata": {},
   "source": [
    "### **f-string**\n",
    "It is a special type of string and we can put some value in the string."
   ]
  },
  {
   "cell_type": "code",
   "execution_count": 21,
   "id": "3f6ce3e6",
   "metadata": {},
   "outputs": [
    {
     "name": "stdout",
     "output_type": "stream",
     "text": [
      "The  father of  computer science is {name}\n",
      "The  father of  computer science is Allen Turing.\n"
     ]
    }
   ],
   "source": [
    "name = \"Allen Turing\"\n",
    "text1 = \"The  father of  computer science is {name}\"\n",
    "text2 = f\"The  father of  computer science is {name}.\"\n",
    "\n",
    "print(text1)\n",
    "print(text2)"
   ]
  },
  {
   "cell_type": "markdown",
   "id": "d2999218",
   "metadata": {},
   "source": [
    "### String Operation\n",
    "---\n",
    "A string can only have two mathematical operations.  \n",
    "- Concatenation of strings\n",
    "- multiplications with integer\n"
   ]
  },
  {
   "cell_type": "code",
   "execution_count": 22,
   "id": "b0fafa12",
   "metadata": {},
   "outputs": [
    {
     "name": "stdout",
     "output_type": "stream",
     "text": [
      "helloprogrammer\n"
     ]
    }
   ],
   "source": [
    "# Concatenation (adding two or more strings)\n",
    "s1 = \"hello\"\n",
    "s2 = \"programmer\"\n",
    "print(s1 + s2)"
   ]
  },
  {
   "cell_type": "code",
   "execution_count": 23,
   "id": "9e0a8ebc",
   "metadata": {},
   "outputs": [
    {
     "name": "stdout",
     "output_type": "stream",
     "text": [
      "hello programmer\n"
     ]
    }
   ],
   "source": [
    "print(s1 + ' ' + s2)  # ' ' (space) is also string "
   ]
  },
  {
   "cell_type": "code",
   "execution_count": 24,
   "id": "dad5ca34",
   "metadata": {},
   "outputs": [
    {
     "data": {
      "text/plain": [
       "'hellohellohello'"
      ]
     },
     "execution_count": 24,
     "metadata": {},
     "output_type": "execute_result"
    }
   ],
   "source": [
    "# string can  only multiple with integers\n",
    "s1* 3"
   ]
  },
  {
   "cell_type": "code",
   "execution_count": 25,
   "id": "5cc2fe4c",
   "metadata": {},
   "outputs": [
    {
     "ename": "TypeError",
     "evalue": "can't multiply sequence by non-int of type 'float'",
     "output_type": "error",
     "traceback": [
      "\u001b[1;31m---------------------------------------------------------------------------\u001b[0m",
      "\u001b[1;31mTypeError\u001b[0m                                 Traceback (most recent call last)",
      "\u001b[1;32m~\\AppData\\Local\\Temp\\ipykernel_5784\\459584047.py\u001b[0m in \u001b[0;36m<module>\u001b[1;34m\u001b[0m\n\u001b[1;32m----> 1\u001b[1;33m \u001b[0ms1\u001b[0m \u001b[1;33m*\u001b[0m \u001b[1;36m3.0\u001b[0m\u001b[1;33m\u001b[0m\u001b[1;33m\u001b[0m\u001b[0m\n\u001b[0m",
      "\u001b[1;31mTypeError\u001b[0m: can't multiply sequence by non-int of type 'float'"
     ]
    }
   ],
   "source": [
    "s1 * 3.0"
   ]
  },
  {
   "cell_type": "markdown",
   "id": "0fecdcd3",
   "metadata": {},
   "source": [
    "### Methods and functions of the string\n",
    "---\n",
    "There are some methods and functions of the string :\n",
    "- `len()`  It is used to get the length of the string.\n",
    "- `replace()` used to replace a string character.\n",
    "- `upper()` and `lower()`\n",
    "- `islower()` and `isupper()`\n",
    "- `split()` It is used to split the string into a list of characters separated by space (default).  "
   ]
  },
  {
   "cell_type": "code",
   "execution_count": null,
   "id": "37682191",
   "metadata": {},
   "outputs": [],
   "source": [
    "help(str)"
   ]
  },
  {
   "cell_type": "code",
   "execution_count": null,
   "id": "ae3f576a",
   "metadata": {},
   "outputs": [],
   "source": [
    "dir(str)"
   ]
  },
  {
   "cell_type": "code",
   "execution_count": 26,
   "id": "223cce62",
   "metadata": {},
   "outputs": [
    {
     "data": {
      "text/plain": [
       "26"
      ]
     },
     "execution_count": 26,
     "metadata": {},
     "output_type": "execute_result"
    }
   ],
   "source": [
    "s = \"Hello,  let's learn python\"\n",
    "\n",
    "# len\n",
    "len(s)  # number of characters in the string"
   ]
  },
  {
   "cell_type": "code",
   "execution_count": 27,
   "id": "7e11fbfe",
   "metadata": {},
   "outputs": [
    {
     "data": {
      "text/plain": [
       "\"HeLLo,  Let's Learn python\""
      ]
     },
     "execution_count": 27,
     "metadata": {},
     "output_type": "execute_result"
    }
   ],
   "source": [
    "# replace()\n",
    "s.replace('l','L')  # replaced 'l' to 'L'"
   ]
  },
  {
   "cell_type": "code",
   "execution_count": 28,
   "id": "033bdbb5",
   "metadata": {},
   "outputs": [
    {
     "data": {
      "text/plain": [
       "\"HELLO,  LET'S LEARN PYTHON\""
      ]
     },
     "execution_count": 28,
     "metadata": {},
     "output_type": "execute_result"
    }
   ],
   "source": [
    "s.upper()"
   ]
  },
  {
   "cell_type": "code",
   "execution_count": 29,
   "id": "0cdf9317",
   "metadata": {},
   "outputs": [
    {
     "data": {
      "text/plain": [
       "\"hello,  let's learn python\""
      ]
     },
     "execution_count": 29,
     "metadata": {},
     "output_type": "execute_result"
    }
   ],
   "source": [
    "s.lower()"
   ]
  },
  {
   "cell_type": "code",
   "execution_count": 30,
   "id": "6a290877",
   "metadata": {},
   "outputs": [
    {
     "data": {
      "text/plain": [
       "True"
      ]
     },
     "execution_count": 30,
     "metadata": {},
     "output_type": "execute_result"
    }
   ],
   "source": [
    "'H'.isupper() # gives  true or  false value"
   ]
  },
  {
   "cell_type": "code",
   "execution_count": 31,
   "id": "52beee09",
   "metadata": {},
   "outputs": [
    {
     "data": {
      "text/plain": [
       "False"
      ]
     },
     "execution_count": 31,
     "metadata": {},
     "output_type": "execute_result"
    }
   ],
   "source": [
    "'H'.islower()"
   ]
  },
  {
   "cell_type": "markdown",
   "id": "fa068549",
   "metadata": {},
   "source": [
    "## How do we find out what a method does?\n",
    "\n",
    "There are so many in-built methods and functions available for the string. To know more about  methods we can use one of the  following techniques: \n",
    "- help(str) or  dir(str)\n",
    "- Google search"
   ]
  },
  {
   "cell_type": "markdown",
   "id": "6edecf5a",
   "metadata": {},
   "source": [
    "#### loop in  the string\n",
    "`for x in text:\n",
    "    print(x)`"
   ]
  },
  {
   "cell_type": "code",
   "execution_count": 32,
   "id": "ba28c7da",
   "metadata": {},
   "outputs": [
    {
     "name": "stdout",
     "output_type": "stream",
     "text": [
      "S\n",
      "o\n",
      "m\n",
      "e\n",
      " \n",
      "t\n",
      "e\n",
      "x\n",
      "t\n"
     ]
    }
   ],
   "source": [
    "for x in  'Some text': \n",
    "    print(x)"
   ]
  },
  {
   "cell_type": "code",
   "execution_count": 33,
   "id": "16152dc0",
   "metadata": {},
   "outputs": [
    {
     "name": "stdout",
     "output_type": "stream",
     "text": [
      "text\n",
      "text\n",
      "text\n",
      "text\n",
      "text\n",
      "text\n",
      "text\n",
      "text\n",
      "text\n"
     ]
    }
   ],
   "source": [
    "for x in  'Some text': \n",
    "    print('text')"
   ]
  },
  {
   "cell_type": "markdown",
   "id": "7f4e5548",
   "metadata": {},
   "source": [
    "## Practice Questions\n",
    "### Q3. Write a program, which can count the total number of `'e'` used in `\"elephant\"`."
   ]
  },
  {
   "cell_type": "code",
   "execution_count": 34,
   "id": "7b58b417",
   "metadata": {},
   "outputs": [],
   "source": [
    "text = 'elephant'\n",
    "# your code\n",
    "\n"
   ]
  },
  {
   "cell_type": "markdown",
   "id": "78f1d07c",
   "metadata": {},
   "source": [
    "### Q4. Write a program, that finds the total number of words in the following string.\n",
    "`my_str = \"Machine learning is subset of the artificial intelligence\"`"
   ]
  },
  {
   "cell_type": "code",
   "execution_count": null,
   "id": "b5031c65",
   "metadata": {},
   "outputs": [],
   "source": []
  },
  {
   "cell_type": "markdown",
   "id": "7e95dc3d",
   "metadata": {},
   "source": [
    "### Q5. Write a program, that finds the total number of upper and lower case in the following string\n",
    "`my_str = \"Machine learning is subset of the artificial intelligence\"`"
   ]
  },
  {
   "cell_type": "code",
   "execution_count": null,
   "id": "2d1c4dd0",
   "metadata": {},
   "outputs": [],
   "source": []
  },
  {
   "cell_type": "markdown",
   "id": "012ac112",
   "metadata": {},
   "source": [
    "## List <a class = 'anchor' id = 'lst'></a>\n",
    "---\n",
    "- List is an ordered collection of the items (data) enclosed in the square bracket ([]).\n",
    "-  List is mutable (can be modified) and It can also be indexed like a string."
   ]
  },
  {
   "cell_type": "code",
   "execution_count": 35,
   "id": "e72076e8",
   "metadata": {},
   "outputs": [
    {
     "name": "stdout",
     "output_type": "stream",
     "text": [
      "[2, 4, 6.5, 'ML', 'Python']\n"
     ]
    }
   ],
   "source": [
    "lst = [2,4,6.5,'ML','Python']\n",
    "print(lst)"
   ]
  },
  {
   "cell_type": "code",
   "execution_count": 36,
   "id": "20a02f06",
   "metadata": {},
   "outputs": [
    {
     "data": {
      "text/plain": [
       "list"
      ]
     },
     "execution_count": 36,
     "metadata": {},
     "output_type": "execute_result"
    }
   ],
   "source": [
    "# type() is used to know data types in the python\n",
    "type(lst)"
   ]
  },
  {
   "cell_type": "markdown",
   "id": "eb429319",
   "metadata": {},
   "source": [
    "#### Indexing\n",
    "- Indexing in the list is the same as string, we can index a list in both ways **forward** and **backward**.\n",
    "-  List is mutable."
   ]
  },
  {
   "cell_type": "code",
   "execution_count": 37,
   "id": "46a4e8c7",
   "metadata": {},
   "outputs": [
    {
     "data": {
      "text/plain": [
       "2"
      ]
     },
     "execution_count": 37,
     "metadata": {},
     "output_type": "execute_result"
    }
   ],
   "source": [
    "# forward indexing\n",
    "lst[0]"
   ]
  },
  {
   "cell_type": "code",
   "execution_count": 38,
   "id": "5130b15a",
   "metadata": {},
   "outputs": [
    {
     "data": {
      "text/plain": [
       "'Python'"
      ]
     },
     "execution_count": 38,
     "metadata": {},
     "output_type": "execute_result"
    }
   ],
   "source": [
    "lst[4]"
   ]
  },
  {
   "cell_type": "code",
   "execution_count": 39,
   "id": "f5ba63a1",
   "metadata": {},
   "outputs": [
    {
     "data": {
      "text/plain": [
       "'Python'"
      ]
     },
     "execution_count": 39,
     "metadata": {},
     "output_type": "execute_result"
    }
   ],
   "source": [
    "# backward indexing\n",
    "lst[-1]"
   ]
  },
  {
   "cell_type": "code",
   "execution_count": 40,
   "id": "a60adadb",
   "metadata": {},
   "outputs": [
    {
     "name": "stdout",
     "output_type": "stream",
     "text": [
      "Before :  [2, 4, 6.5, 'ML', 'Python']\n",
      "After :  [2, 4, 6689, 'ML', 'Python']\n"
     ]
    }
   ],
   "source": [
    "# list is mutable\n",
    "print('Before : ', lst)\n",
    "\n",
    "lst[2] = 6689\n",
    "\n",
    "print('After : ',lst)"
   ]
  },
  {
   "cell_type": "markdown",
   "id": "45558bc3",
   "metadata": {},
   "source": [
    "#### loop with list\n"
   ]
  },
  {
   "cell_type": "code",
   "execution_count": 41,
   "id": "f0816ad8",
   "metadata": {},
   "outputs": [
    {
     "name": "stdout",
     "output_type": "stream",
     "text": [
      "1\n",
      "2\n",
      "a\n",
      "c\n",
      "5.7\n"
     ]
    }
   ],
   "source": [
    "lst = [1,2,'a','c',5.7]\n",
    "\n",
    "for x in lst:\n",
    "    print(x)"
   ]
  },
  {
   "cell_type": "code",
   "execution_count": 42,
   "id": "59ee5797",
   "metadata": {},
   "outputs": [
    {
     "data": {
      "text/plain": [
       "(1, 2, 'a', 'c', 5.7)"
      ]
     },
     "execution_count": 42,
     "metadata": {},
     "output_type": "execute_result"
    }
   ],
   "source": [
    "# type casting \n",
    "tuple(lst)"
   ]
  },
  {
   "cell_type": "code",
   "execution_count": 43,
   "id": "7c592b82",
   "metadata": {},
   "outputs": [
    {
     "data": {
      "text/plain": [
       "{1, 2, 5.7, 'a', 'c'}"
      ]
     },
     "execution_count": 43,
     "metadata": {},
     "output_type": "execute_result"
    }
   ],
   "source": [
    "set(lst)"
   ]
  },
  {
   "cell_type": "markdown",
   "id": "7de777ea",
   "metadata": {},
   "source": [
    "### Methods and functions of the List\n",
    "---\n",
    "There are some methods and functions of the list:\n",
    "- `append()` It is used to add a new item to the list.\n",
    "- `extend()` It is used to combine the two lists.\n",
    "- `pop()` It removes the last item from the list\n",
    "Apart from the, we have many functions in the list like `del[], remove(), sort(), reverse(), insert(), count(), clear()` etc.  \n",
    "To more about the list's function and method `help(list)` or `dir(list)`"
   ]
  },
  {
   "cell_type": "code",
   "execution_count": 44,
   "id": "c10baae3",
   "metadata": {},
   "outputs": [
    {
     "name": "stdout",
     "output_type": "stream",
     "text": [
      "[]\n"
     ]
    }
   ],
   "source": [
    "l = []   # empty list\n",
    "print(l)"
   ]
  },
  {
   "cell_type": "code",
   "execution_count": 45,
   "id": "2c6c390a",
   "metadata": {},
   "outputs": [
    {
     "data": {
      "text/plain": [
       "0"
      ]
     },
     "execution_count": 45,
     "metadata": {},
     "output_type": "execute_result"
    }
   ],
   "source": [
    "len(l)  # length of the list"
   ]
  },
  {
   "cell_type": "code",
   "execution_count": 46,
   "id": "a29e926f",
   "metadata": {},
   "outputs": [],
   "source": [
    "# appned\n",
    "l.append(2)  # add new 2 in  the  list"
   ]
  },
  {
   "cell_type": "code",
   "execution_count": 47,
   "id": "170334cb",
   "metadata": {},
   "outputs": [
    {
     "data": {
      "text/plain": [
       "[2]"
      ]
     },
     "execution_count": 47,
     "metadata": {},
     "output_type": "execute_result"
    }
   ],
   "source": [
    "l"
   ]
  },
  {
   "cell_type": "code",
   "execution_count": 48,
   "id": "74ab9f64",
   "metadata": {},
   "outputs": [
    {
     "name": "stdout",
     "output_type": "stream",
     "text": [
      "[2, 4, 'ML']\n"
     ]
    }
   ],
   "source": [
    "l.append(4)\n",
    "l.append('ML')\n",
    "print(l)"
   ]
  },
  {
   "cell_type": "code",
   "execution_count": 49,
   "id": "93f92103",
   "metadata": {},
   "outputs": [
    {
     "ename": "AttributeError",
     "evalue": "'list' object has no attribute 'appned'",
     "output_type": "error",
     "traceback": [
      "\u001b[1;31m---------------------------------------------------------------------------\u001b[0m",
      "\u001b[1;31mAttributeError\u001b[0m                            Traceback (most recent call last)",
      "\u001b[1;32m~\\AppData\\Local\\Temp\\ipykernel_5784\\2876571523.py\u001b[0m in \u001b[0;36m<module>\u001b[1;34m\u001b[0m\n\u001b[0;32m      1\u001b[0m \u001b[1;31m# we cannot add more than one item in the append() method at a time\u001b[0m\u001b[1;33m\u001b[0m\u001b[1;33m\u001b[0m\u001b[0m\n\u001b[1;32m----> 2\u001b[1;33m \u001b[0ml\u001b[0m\u001b[1;33m.\u001b[0m\u001b[0mappned\u001b[0m\u001b[1;33m(\u001b[0m\u001b[1;36m3\u001b[0m\u001b[1;33m,\u001b[0m\u001b[1;36m5\u001b[0m\u001b[1;33m)\u001b[0m\u001b[1;33m\u001b[0m\u001b[1;33m\u001b[0m\u001b[0m\n\u001b[0m",
      "\u001b[1;31mAttributeError\u001b[0m: 'list' object has no attribute 'appned'"
     ]
    }
   ],
   "source": [
    "# we cannot add more than one item in the append() method at a time\n",
    "l.appned(3,5)"
   ]
  },
  {
   "cell_type": "code",
   "execution_count": 50,
   "id": "5a6c3d6a",
   "metadata": {},
   "outputs": [
    {
     "name": "stdout",
     "output_type": "stream",
     "text": [
      "[2, 4, 'ML', 21, 22, 23]\n"
     ]
    }
   ],
   "source": [
    "# extend\n",
    "l1 = [21,22,23]\n",
    "\n",
    "l.extend(l1)  # mergering  the  l1 list in l\n",
    "print(l)"
   ]
  },
  {
   "cell_type": "code",
   "execution_count": 51,
   "id": "99d4ae95",
   "metadata": {},
   "outputs": [
    {
     "name": "stdout",
     "output_type": "stream",
     "text": [
      "Before :  [2, 4, 'ML', 21, 22, 23]\n",
      "23\n",
      "After :  [2, 4, 'ML', 21, 22]\n"
     ]
    }
   ],
   "source": [
    "print('Before : ',l)\n",
    "print(l.pop())\n",
    "print('After : ',l)"
   ]
  },
  {
   "cell_type": "code",
   "execution_count": 52,
   "id": "5acc5c66",
   "metadata": {},
   "outputs": [
    {
     "data": {
      "text/plain": [
       "[2, 4, 'ML', 21, 22]"
      ]
     },
     "execution_count": 52,
     "metadata": {},
     "output_type": "execute_result"
    }
   ],
   "source": [
    "l"
   ]
  },
  {
   "cell_type": "code",
   "execution_count": 53,
   "id": "f65e7ac9",
   "metadata": {},
   "outputs": [
    {
     "data": {
      "text/plain": [
       "[22, 21, 'ML', 4, 2]"
      ]
     },
     "execution_count": 53,
     "metadata": {},
     "output_type": "execute_result"
    }
   ],
   "source": [
    "l.reverse()\n",
    "l"
   ]
  },
  {
   "cell_type": "code",
   "execution_count": 54,
   "id": "f3cc7842",
   "metadata": {},
   "outputs": [
    {
     "ename": "TypeError",
     "evalue": "'<' not supported between instances of 'str' and 'int'",
     "output_type": "error",
     "traceback": [
      "\u001b[1;31m---------------------------------------------------------------------------\u001b[0m",
      "\u001b[1;31mTypeError\u001b[0m                                 Traceback (most recent call last)",
      "\u001b[1;32m~\\AppData\\Local\\Temp\\ipykernel_5784\\983121740.py\u001b[0m in \u001b[0;36m<module>\u001b[1;34m\u001b[0m\n\u001b[1;32m----> 1\u001b[1;33m \u001b[0ml\u001b[0m\u001b[1;33m.\u001b[0m\u001b[0msort\u001b[0m\u001b[1;33m(\u001b[0m\u001b[1;33m)\u001b[0m\u001b[1;33m\u001b[0m\u001b[1;33m\u001b[0m\u001b[0m\n\u001b[0m",
      "\u001b[1;31mTypeError\u001b[0m: '<' not supported between instances of 'str' and 'int'"
     ]
    }
   ],
   "source": [
    "l.sort()   "
   ]
  },
  {
   "cell_type": "code",
   "execution_count": 55,
   "id": "09833faf",
   "metadata": {},
   "outputs": [
    {
     "data": {
      "text/plain": [
       "[-5, -1, 1, 2, 2.3, 5]"
      ]
     },
     "execution_count": 55,
     "metadata": {},
     "output_type": "execute_result"
    }
   ],
   "source": [
    "l2 = [1,2,5,-1,2.3,-5]\n",
    "# sorting the table\n",
    "l2.sort()\n",
    "l2"
   ]
  },
  {
   "cell_type": "markdown",
   "id": "9e6ad406",
   "metadata": {},
   "source": [
    "#### List  operations\n",
    "List support following types of  mathematical operations:\n",
    "- Concatenation of list\n",
    "- multiplications with integer"
   ]
  },
  {
   "cell_type": "code",
   "execution_count": 56,
   "id": "4eddfe15",
   "metadata": {},
   "outputs": [
    {
     "data": {
      "text/plain": [
       "[2, 3, 4, 9, 7, 1]"
      ]
     },
     "execution_count": 56,
     "metadata": {},
     "output_type": "execute_result"
    }
   ],
   "source": [
    "# Concatenation of list\n",
    "mylist1 = [2,3,4]\n",
    "mylist2 = [9,7,1]\n",
    "\n",
    "mylist1 + mylist2"
   ]
  },
  {
   "cell_type": "code",
   "execution_count": 57,
   "id": "dc65e218",
   "metadata": {},
   "outputs": [
    {
     "data": {
      "text/plain": [
       "[2, 3, 4, 2, 3, 4]"
      ]
     },
     "execution_count": 57,
     "metadata": {},
     "output_type": "execute_result"
    }
   ],
   "source": [
    "# multipication  with a interger\n",
    "mylist1 * 2"
   ]
  },
  {
   "cell_type": "code",
   "execution_count": 59,
   "id": "e6357133",
   "metadata": {},
   "outputs": [
    {
     "ename": "TypeError",
     "evalue": "can't multiply sequence by non-int of type 'float'",
     "output_type": "error",
     "traceback": [
      "\u001b[1;31m---------------------------------------------------------------------------\u001b[0m",
      "\u001b[1;31mTypeError\u001b[0m                                 Traceback (most recent call last)",
      "\u001b[1;32m~\\AppData\\Local\\Temp\\ipykernel_5784\\3824372503.py\u001b[0m in \u001b[0;36m<module>\u001b[1;34m\u001b[0m\n\u001b[1;32m----> 1\u001b[1;33m \u001b[0mmylist1\u001b[0m \u001b[1;33m*\u001b[0m \u001b[1;36m2.0\u001b[0m\u001b[1;33m\u001b[0m\u001b[1;33m\u001b[0m\u001b[0m\n\u001b[0m",
      "\u001b[1;31mTypeError\u001b[0m: can't multiply sequence by non-int of type 'float'"
     ]
    }
   ],
   "source": [
    "mylist1 * 2.0"
   ]
  },
  {
   "cell_type": "markdown",
   "id": "bc2f7ece",
   "metadata": {},
   "source": [
    "#### Loop in  the  List\n",
    "`for x in  lst:\n",
    "    print(x)   `"
   ]
  },
  {
   "cell_type": "code",
   "execution_count": 60,
   "id": "9f24f161",
   "metadata": {},
   "outputs": [
    {
     "name": "stdout",
     "output_type": "stream",
     "text": [
      "Python\n",
      "ML\n",
      "NLP\n",
      "22\n",
      "42\n"
     ]
    }
   ],
   "source": [
    "lst = ['Python', 'ML','NLP',22,42]\n",
    "\n",
    "for x in lst:\n",
    "    print(x)"
   ]
  },
  {
   "cell_type": "code",
   "execution_count": 61,
   "id": "9542be03",
   "metadata": {},
   "outputs": [
    {
     "name": "stdout",
     "output_type": "stream",
     "text": [
      "34\n",
      "34\n",
      "34\n",
      "34\n",
      "34\n"
     ]
    }
   ],
   "source": [
    "for i in  lst:\n",
    "    print(34)    # it will print  only contant value length of list times"
   ]
  },
  {
   "cell_type": "markdown",
   "id": "f5b2a92f",
   "metadata": {},
   "source": [
    "#### Example: Create a list that is a collection of numbers from 1 to 10."
   ]
  },
  {
   "cell_type": "code",
   "execution_count": 62,
   "id": "344214ce",
   "metadata": {},
   "outputs": [
    {
     "name": "stdout",
     "output_type": "stream",
     "text": [
      "Before : []\n",
      "After : [1, 2, 3, 4, 5, 6, 7, 8, 9, 10]\n"
     ]
    }
   ],
   "source": [
    "lst = []   # empty  list\n",
    "print('Before :',lst)\n",
    "\n",
    "for x in  range(1,11):\n",
    "    lst.append(x)\n",
    "print('After :', lst)"
   ]
  },
  {
   "cell_type": "markdown",
   "id": "6d11561f",
   "metadata": {},
   "source": [
    "#### Are there any other ways to solve the above problem?\n",
    "Yes, we can use **List Comprehension**.\n",
    "\n",
    "### List Comprehension\n",
    "`[f(x) for x in <squencial data>]`  \n",
    "`[f(x) for x in <squencial data> if <condition>]`"
   ]
  },
  {
   "cell_type": "code",
   "execution_count": 63,
   "id": "80c86988",
   "metadata": {},
   "outputs": [
    {
     "data": {
      "text/plain": [
       "[1, 2, 3, 4, 5, 6, 7, 8, 9, 10]"
      ]
     },
     "execution_count": 63,
     "metadata": {},
     "output_type": "execute_result"
    }
   ],
   "source": [
    "[x for x in  range(1,11)]"
   ]
  },
  {
   "cell_type": "markdown",
   "id": "92eb48d7",
   "metadata": {},
   "source": [
    "### Q6. Create a list, that consists of the collection of the square of even numbers from 1 to 20."
   ]
  },
  {
   "cell_type": "code",
   "execution_count": null,
   "id": "25fbc130",
   "metadata": {},
   "outputs": [],
   "source": []
  },
  {
   "cell_type": "markdown",
   "id": "01c4d9e0",
   "metadata": {},
   "source": [
    "### Q7. Write a program to interchange the first and last elements in a list.\n",
    "`Input : [1, 2, 3]\n",
    "Output : [3, 2, 1]`"
   ]
  },
  {
   "cell_type": "code",
   "execution_count": null,
   "id": "6a530ba8",
   "metadata": {},
   "outputs": [],
   "source": []
  },
  {
   "cell_type": "markdown",
   "id": "e379e88c",
   "metadata": {},
   "source": [
    "### Q8. Write a program to make a string from a given list:\n",
    "`mylist = ['Hi', 'Let', 'us', 'learn', 'Python']   # input`  \n",
    "`output --> \"Hi Let us learn Python\"`"
   ]
  },
  {
   "cell_type": "code",
   "execution_count": null,
   "id": "e0335e9e",
   "metadata": {},
   "outputs": [],
   "source": []
  },
  {
   "cell_type": "markdown",
   "id": "02bd04f6-c1aa-42de-8530-545f6f8bf04b",
   "metadata": {},
   "source": [
    "### Q9. Write a python program that can calculate the `mean` and `median` of following list:\n",
    "### `data = [1,1,2,4,2,6,9,5,3,7,3,8]`"
   ]
  },
  {
   "cell_type": "code",
   "execution_count": null,
   "id": "0f1f4272-0d49-4bf1-ac40-8d1c837bd452",
   "metadata": {},
   "outputs": [],
   "source": [
    "# mean of the given data\n",
    "data = [1,1,2,4,2,6,9,5,3,7,3,8]\n",
    "# your code \n",
    "\n",
    "\n"
   ]
  },
  {
   "cell_type": "code",
   "execution_count": null,
   "id": "a5143f97-5f07-4b67-ba42-78b52cc4cec7",
   "metadata": {
    "jupyter": {
     "source_hidden": true
    },
    "tags": []
   },
   "outputs": [],
   "source": [
    "# medain of the data\n",
    "data = [[1,1,2,4,2,6,9,5,3,7,3,8]]\n",
    "# your code\n",
    "\n",
    "\n",
    "\n"
   ]
  },
  {
   "cell_type": "markdown",
   "id": "8c5ea48e",
   "metadata": {},
   "source": [
    "## Tuples <a class = 'anchor' id = 'tpl'></a>\n",
    "---\n",
    "- Tuple is like a list, and it is an ordered collection of items enclosed in the \"(...)\".\n",
    "- But the only difference, a tuple is immutable hence values can't be changed in place."
   ]
  },
  {
   "cell_type": "code",
   "execution_count": 64,
   "id": "9abe3241",
   "metadata": {},
   "outputs": [
    {
     "name": "stdout",
     "output_type": "stream",
     "text": [
      "(2, 3, 5, 8.2)\n",
      "(2, 9, 'ML', 3.1)\n"
     ]
    }
   ],
   "source": [
    "# creating a tuple\n",
    "tpl1 = (2,3,5,8.2)\n",
    "tpl2 = 2,9,'ML',3.1   # we can also defined this way\n",
    "\n",
    "print(tpl1)\n",
    "print(tpl2)"
   ]
  },
  {
   "cell_type": "markdown",
   "id": "de720206",
   "metadata": {},
   "source": [
    "#### Indexing and slicing same as string and list."
   ]
  },
  {
   "cell_type": "code",
   "execution_count": 65,
   "id": "5c040021",
   "metadata": {},
   "outputs": [
    {
     "data": {
      "text/plain": [
       "3"
      ]
     },
     "execution_count": 65,
     "metadata": {},
     "output_type": "execute_result"
    }
   ],
   "source": [
    "# indexing\n",
    "tpl1[1]"
   ]
  },
  {
   "cell_type": "code",
   "execution_count": 66,
   "id": "7c3045eb",
   "metadata": {},
   "outputs": [
    {
     "data": {
      "text/plain": [
       "2"
      ]
     },
     "execution_count": 66,
     "metadata": {},
     "output_type": "execute_result"
    }
   ],
   "source": [
    "# forward indexing\n",
    "tpl1[0]   # first element"
   ]
  },
  {
   "cell_type": "code",
   "execution_count": 67,
   "id": "2f03c5a9",
   "metadata": {},
   "outputs": [
    {
     "data": {
      "text/plain": [
       "8.2"
      ]
     },
     "execution_count": 67,
     "metadata": {},
     "output_type": "execute_result"
    }
   ],
   "source": [
    "# backward indexing\n",
    "tpl1[-1]  # last element of the tuple"
   ]
  },
  {
   "cell_type": "code",
   "execution_count": 68,
   "id": "a424f78e",
   "metadata": {},
   "outputs": [
    {
     "data": {
      "text/plain": [
       "(2, 3, 5, 8.2)"
      ]
     },
     "execution_count": 68,
     "metadata": {},
     "output_type": "execute_result"
    }
   ],
   "source": [
    "# tuple is immutable, it's means we cannot modify\n",
    "tpl1"
   ]
  },
  {
   "cell_type": "code",
   "execution_count": 69,
   "id": "b7c7b0b8",
   "metadata": {},
   "outputs": [
    {
     "ename": "TypeError",
     "evalue": "'tuple' object does not support item assignment",
     "output_type": "error",
     "traceback": [
      "\u001b[1;31m---------------------------------------------------------------------------\u001b[0m",
      "\u001b[1;31mTypeError\u001b[0m                                 Traceback (most recent call last)",
      "\u001b[1;32m~\\AppData\\Local\\Temp\\ipykernel_5784\\4227796912.py\u001b[0m in \u001b[0;36m<module>\u001b[1;34m\u001b[0m\n\u001b[1;32m----> 1\u001b[1;33m \u001b[0mtpl1\u001b[0m\u001b[1;33m[\u001b[0m\u001b[1;36m2\u001b[0m\u001b[1;33m]\u001b[0m \u001b[1;33m=\u001b[0m \u001b[1;36m4\u001b[0m\u001b[1;33m\u001b[0m\u001b[1;33m\u001b[0m\u001b[0m\n\u001b[0m",
      "\u001b[1;31mTypeError\u001b[0m: 'tuple' object does not support item assignment"
     ]
    }
   ],
   "source": [
    "tpl1[2] = 4"
   ]
  },
  {
   "cell_type": "markdown",
   "id": "27c92b24",
   "metadata": {},
   "source": [
    "#### Tuple operations\n",
    "Tuple support the following types of  mathematical operations:\n",
    "- Concatenation of tuple\n",
    "- multiplications with integer"
   ]
  },
  {
   "cell_type": "code",
   "execution_count": 70,
   "id": "ad6dfb96",
   "metadata": {},
   "outputs": [
    {
     "data": {
      "text/plain": [
       "(1, 2, 3, 4, 9, 8, 6)"
      ]
     },
     "execution_count": 70,
     "metadata": {},
     "output_type": "execute_result"
    }
   ],
   "source": [
    "t1 = (1,2,3,4)\n",
    "t2 = (9,8,6)\n",
    "\n",
    "# Concatenation\n",
    "t1 + t2"
   ]
  },
  {
   "cell_type": "code",
   "execution_count": 71,
   "id": "6e80843e",
   "metadata": {},
   "outputs": [
    {
     "data": {
      "text/plain": [
       "(1, 2, 3, 4, 1, 2, 3, 4)"
      ]
     },
     "execution_count": 71,
     "metadata": {},
     "output_type": "execute_result"
    }
   ],
   "source": [
    "# mutlipication  with integer\n",
    "t1 *2"
   ]
  },
  {
   "cell_type": "code",
   "execution_count": 72,
   "id": "8ac2ee54",
   "metadata": {},
   "outputs": [
    {
     "ename": "TypeError",
     "evalue": "can't multiply sequence by non-int of type 'float'",
     "output_type": "error",
     "traceback": [
      "\u001b[1;31m---------------------------------------------------------------------------\u001b[0m",
      "\u001b[1;31mTypeError\u001b[0m                                 Traceback (most recent call last)",
      "\u001b[1;32m~\\AppData\\Local\\Temp\\ipykernel_5784\\2381133951.py\u001b[0m in \u001b[0;36m<module>\u001b[1;34m\u001b[0m\n\u001b[1;32m----> 1\u001b[1;33m \u001b[0mt1\u001b[0m\u001b[1;33m*\u001b[0m \u001b[1;36m2.0\u001b[0m\u001b[1;33m\u001b[0m\u001b[1;33m\u001b[0m\u001b[0m\n\u001b[0m",
      "\u001b[1;31mTypeError\u001b[0m: can't multiply sequence by non-int of type 'float'"
     ]
    }
   ],
   "source": [
    "t1* 2.0"
   ]
  },
  {
   "cell_type": "markdown",
   "id": "be8ad427",
   "metadata": {},
   "source": [
    "#### Loop in  the  tuple\n",
    "`for x in  tpl:\n",
    "    print(x)   `"
   ]
  },
  {
   "cell_type": "code",
   "execution_count": 73,
   "id": "eab15f8a",
   "metadata": {},
   "outputs": [
    {
     "name": "stdout",
     "output_type": "stream",
     "text": [
      "2\n",
      "3\n",
      "5\n",
      "8.2\n"
     ]
    }
   ],
   "source": [
    "for i in  tpl1:\n",
    "    print(i)"
   ]
  },
  {
   "cell_type": "markdown",
   "id": "d1d995be",
   "metadata": {},
   "source": [
    "### Q10. Write a program, that finds the sum of all element in the tuple using a loop.\n",
    "`tpl = (20,30,40,50,60)`"
   ]
  },
  {
   "cell_type": "code",
   "execution_count": null,
   "id": "d9112ad9",
   "metadata": {},
   "outputs": [],
   "source": [
    "\n",
    "\n",
    "\n"
   ]
  },
  {
   "cell_type": "markdown",
   "id": "10ef6642",
   "metadata": {},
   "source": [
    "### Q11. Write a program, that finds the sum of cube of the all element in the tuple using a loop.\n",
    "`tpl = (20,30,40,50,60)`"
   ]
  },
  {
   "cell_type": "code",
   "execution_count": null,
   "id": "e516c1d7",
   "metadata": {},
   "outputs": [],
   "source": []
  },
  {
   "cell_type": "code",
   "execution_count": null,
   "id": "dfe8ac94",
   "metadata": {},
   "outputs": [],
   "source": []
  },
  {
   "cell_type": "markdown",
   "id": "6dc0b285",
   "metadata": {},
   "source": [
    "## Set <a class = 'anchor' id = 'st'></a>\n",
    "---\n",
    "-  Set is an **unordered** collection of items, in which there is **no duplicates** are allowed.\n",
    "-  Indexing and slicing are not allowed in the set because the set is unordered."
   ]
  },
  {
   "cell_type": "code",
   "execution_count": 74,
   "id": "ada2c346",
   "metadata": {},
   "outputs": [
    {
     "name": "stdout",
     "output_type": "stream",
     "text": [
      "{1, 2, 3, 5, -3}\n"
     ]
    }
   ],
   "source": [
    "s = {1,2,3,-3,5,1,2,2,2}\n",
    "print(s)"
   ]
  },
  {
   "cell_type": "code",
   "execution_count": 75,
   "id": "6f87db62",
   "metadata": {},
   "outputs": [
    {
     "name": "stdout",
     "output_type": "stream",
     "text": [
      "set()\n"
     ]
    }
   ],
   "source": [
    "# creating empty set\n",
    "st  = set()\n",
    "print(st)"
   ]
  },
  {
   "cell_type": "markdown",
   "id": "346c6505",
   "metadata": {},
   "source": [
    "### Methods and functions of the Set\n",
    "----\n",
    "There are some methods and functions of the set:\n",
    "- `union()`   take the union of the two sets\n",
    "- `intersection()`  take  the intersection  of the  two sets\n",
    "- `add()`   add an item in the  set\n",
    "- `update()` add multiple items in  the set\n",
    "- `remove()`  removing a element\n",
    "- `clear()`   deleting all the  items"
   ]
  },
  {
   "cell_type": "code",
   "execution_count": 76,
   "id": "a8da1dbe",
   "metadata": {},
   "outputs": [
    {
     "name": "stdout",
     "output_type": "stream",
     "text": [
      "{1, 2, 3, 4, 5, 6}\n",
      "{4, 5, 20, 40, 10, 30}\n"
     ]
    }
   ],
   "source": [
    "s1 = {1,2,3,4,5,5,5,6}\n",
    "s2 = {5,4,10,20,30,40}\n",
    "print(s1)\n",
    "print(s2)"
   ]
  },
  {
   "cell_type": "code",
   "execution_count": 77,
   "id": "731ecf8d",
   "metadata": {},
   "outputs": [
    {
     "data": {
      "text/plain": [
       "{1, 2, 3, 4, 5, 6, 10, 20, 30, 40}"
      ]
     },
     "execution_count": 77,
     "metadata": {},
     "output_type": "execute_result"
    }
   ],
   "source": [
    "# union()\n",
    "s1.union(s2)"
   ]
  },
  {
   "cell_type": "code",
   "execution_count": 78,
   "id": "5b8d5be4",
   "metadata": {},
   "outputs": [
    {
     "data": {
      "text/plain": [
       "{4, 5}"
      ]
     },
     "execution_count": 78,
     "metadata": {},
     "output_type": "execute_result"
    }
   ],
   "source": [
    "# intersection\n",
    "s1.intersection(s2)"
   ]
  },
  {
   "cell_type": "code",
   "execution_count": 79,
   "id": "1e184e0f",
   "metadata": {},
   "outputs": [
    {
     "data": {
      "text/plain": [
       "{1, 2, 3, 4, 5, 6, 100}"
      ]
     },
     "execution_count": 79,
     "metadata": {},
     "output_type": "execute_result"
    }
   ],
   "source": [
    "# add()\n",
    "s1.add(100)\n",
    "s1"
   ]
  },
  {
   "cell_type": "code",
   "execution_count": 80,
   "id": "07a338db",
   "metadata": {},
   "outputs": [
    {
     "data": {
      "text/plain": [
       "{1, 2, 3, 4, 5, 6}"
      ]
     },
     "execution_count": 80,
     "metadata": {},
     "output_type": "execute_result"
    }
   ],
   "source": [
    "# remove\n",
    "s1.remove(100)\n",
    "s1"
   ]
  },
  {
   "cell_type": "code",
   "execution_count": 81,
   "id": "050f7be9",
   "metadata": {},
   "outputs": [
    {
     "name": "stdout",
     "output_type": "stream",
     "text": [
      "set()\n"
     ]
    }
   ],
   "source": [
    "# clear() --> this function wipe all the data inside the set\n",
    "s1.clear()\n",
    "print(s1)   # empty set"
   ]
  },
  {
   "cell_type": "markdown",
   "id": "630b02fd",
   "metadata": {},
   "source": [
    "### Q12. Write a program to find the sum of all unique items in a given set.\n",
    "```st = {1,2,1,5,8,3,2,1,2}```"
   ]
  },
  {
   "cell_type": "code",
   "execution_count": null,
   "id": "81abb17c",
   "metadata": {},
   "outputs": [],
   "source": []
  },
  {
   "cell_type": "code",
   "execution_count": null,
   "id": "a35e2f70-9050-477f-85d3-c35d5acce32a",
   "metadata": {},
   "outputs": [],
   "source": []
  },
  {
   "cell_type": "markdown",
   "id": "5b3d9b14-f027-4b04-bf98-6891bf7241cb",
   "metadata": {},
   "source": [
    "### Dictionary, we will discuss in the next session.... <a class = 'anchor' id = 'dict'></a>"
   ]
  },
  {
   "cell_type": "code",
   "execution_count": null,
   "id": "358495f5-316e-4592-a8cf-e5f6561ee35b",
   "metadata": {},
   "outputs": [],
   "source": []
  }
 ],
 "metadata": {
  "kernelspec": {
   "display_name": "Python 3 (ipykernel)",
   "language": "python",
   "name": "python3"
  },
  "language_info": {
   "codemirror_mode": {
    "name": "ipython",
    "version": 3
   },
   "file_extension": ".py",
   "mimetype": "text/x-python",
   "name": "python",
   "nbconvert_exporter": "python",
   "pygments_lexer": "ipython3",
   "version": "3.9.13"
  }
 },
 "nbformat": 4,
 "nbformat_minor": 5
}
