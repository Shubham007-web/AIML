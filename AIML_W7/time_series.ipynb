{
 "cells": [
  {
   "cell_type": "markdown",
   "id": "de2456db-c1a8-4662-a5c2-ab8dc01d7e68",
   "metadata": {},
   "source": [
    "## 1️⃣ **Basic Charts**\n",
    "- 📈 **Line Chart** – Trends over time  \n",
    "- 📊 **Bar Chart** – Categorical comparisons  \n",
    "- 📉 **Histogram** – Distribution of a single variable  \n",
    "- 🥧 **Pie Chart** – Proportion of categories  \n",
    "- 🔵 **Scatter Plot** – Relationship between two variables  "
   ]
  },
  {
   "cell_type": "code",
   "execution_count": 1,
   "id": "18cab748-171a-4b75-b484-5e57bfc6c6b2",
   "metadata": {},
   "outputs": [],
   "source": [
    "import pandas as pd"
   ]
  },
  {
   "cell_type": "code",
   "execution_count": 5,
   "id": "cfd4a3c0-96ad-4d42-b08f-9ac3b77cc6cf",
   "metadata": {},
   "outputs": [
    {
     "data": {
      "text/html": [
       "<div>\n",
       "<style scoped>\n",
       "    .dataframe tbody tr th:only-of-type {\n",
       "        vertical-align: middle;\n",
       "    }\n",
       "\n",
       "    .dataframe tbody tr th {\n",
       "        vertical-align: top;\n",
       "    }\n",
       "\n",
       "    .dataframe thead th {\n",
       "        text-align: right;\n",
       "    }\n",
       "</style>\n",
       "<table border=\"1\" class=\"dataframe\">\n",
       "  <thead>\n",
       "    <tr style=\"text-align: right;\">\n",
       "      <th></th>\n",
       "      <th>Date</th>\n",
       "      <th>Open</th>\n",
       "      <th>High</th>\n",
       "      <th>Low</th>\n",
       "      <th>Close</th>\n",
       "      <th>Adj Close</th>\n",
       "      <th>Volume</th>\n",
       "    </tr>\n",
       "  </thead>\n",
       "  <tbody>\n",
       "    <tr>\n",
       "      <th>0</th>\n",
       "      <td>2021-06-21</td>\n",
       "      <td>130.300003</td>\n",
       "      <td>132.410004</td>\n",
       "      <td>129.210007</td>\n",
       "      <td>132.300003</td>\n",
       "      <td>130.767593</td>\n",
       "      <td>79663300</td>\n",
       "    </tr>\n",
       "    <tr>\n",
       "      <th>1</th>\n",
       "      <td>2021-06-22</td>\n",
       "      <td>132.130005</td>\n",
       "      <td>134.080002</td>\n",
       "      <td>131.619995</td>\n",
       "      <td>133.979996</td>\n",
       "      <td>132.428116</td>\n",
       "      <td>74783600</td>\n",
       "    </tr>\n",
       "    <tr>\n",
       "      <th>2</th>\n",
       "      <td>2021-06-23</td>\n",
       "      <td>133.770004</td>\n",
       "      <td>134.320007</td>\n",
       "      <td>133.229996</td>\n",
       "      <td>133.699997</td>\n",
       "      <td>132.151382</td>\n",
       "      <td>60214200</td>\n",
       "    </tr>\n",
       "    <tr>\n",
       "      <th>3</th>\n",
       "      <td>2021-06-24</td>\n",
       "      <td>134.449997</td>\n",
       "      <td>134.639999</td>\n",
       "      <td>132.929993</td>\n",
       "      <td>133.410004</td>\n",
       "      <td>131.864746</td>\n",
       "      <td>68711000</td>\n",
       "    </tr>\n",
       "    <tr>\n",
       "      <th>4</th>\n",
       "      <td>2021-06-25</td>\n",
       "      <td>133.460007</td>\n",
       "      <td>133.889999</td>\n",
       "      <td>132.809998</td>\n",
       "      <td>133.110001</td>\n",
       "      <td>131.568207</td>\n",
       "      <td>70783700</td>\n",
       "    </tr>\n",
       "  </tbody>\n",
       "</table>\n",
       "</div>"
      ],
      "text/plain": [
       "         Date        Open        High         Low       Close   Adj Close  \\\n",
       "0  2021-06-21  130.300003  132.410004  129.210007  132.300003  130.767593   \n",
       "1  2021-06-22  132.130005  134.080002  131.619995  133.979996  132.428116   \n",
       "2  2021-06-23  133.770004  134.320007  133.229996  133.699997  132.151382   \n",
       "3  2021-06-24  134.449997  134.639999  132.929993  133.410004  131.864746   \n",
       "4  2021-06-25  133.460007  133.889999  132.809998  133.110001  131.568207   \n",
       "\n",
       "     Volume  \n",
       "0  79663300  \n",
       "1  74783600  \n",
       "2  60214200  \n",
       "3  68711000  \n",
       "4  70783700  "
      ]
     },
     "execution_count": 5,
     "metadata": {},
     "output_type": "execute_result"
    }
   ],
   "source": [
    "df = pd.read_csv(\"AAPL.csv\")\n",
    "df.head()"
   ]
  },
  {
   "cell_type": "code",
   "execution_count": 6,
   "id": "833f22d8-2491-4ee1-a8a3-5c29f15494ea",
   "metadata": {},
   "outputs": [
    {
     "data": {
      "text/plain": [
       "Index(['Date', 'Open', 'High', 'Low', 'Close', 'Adj Close', 'Volume'], dtype='object')"
      ]
     },
     "execution_count": 6,
     "metadata": {},
     "output_type": "execute_result"
    }
   ],
   "source": [
    "# columns\n",
    "df.columns"
   ]
  },
  {
   "cell_type": "code",
   "execution_count": 7,
   "id": "8a99bf9c-bacc-4378-8b0f-c3f6c83dd19c",
   "metadata": {},
   "outputs": [
    {
     "data": {
      "text/plain": [
       "(503, 7)"
      ]
     },
     "execution_count": 7,
     "metadata": {},
     "output_type": "execute_result"
    }
   ],
   "source": [
    "df.shape"
   ]
  },
  {
   "cell_type": "code",
   "execution_count": 8,
   "id": "ba46d3fe-8d29-4efd-98f0-562048d73ccb",
   "metadata": {
    "scrolled": true
   },
   "outputs": [
    {
     "data": {
      "text/html": [
       "<div>\n",
       "<style scoped>\n",
       "    .dataframe tbody tr th:only-of-type {\n",
       "        vertical-align: middle;\n",
       "    }\n",
       "\n",
       "    .dataframe tbody tr th {\n",
       "        vertical-align: top;\n",
       "    }\n",
       "\n",
       "    .dataframe thead th {\n",
       "        text-align: right;\n",
       "    }\n",
       "</style>\n",
       "<table border=\"1\" class=\"dataframe\">\n",
       "  <thead>\n",
       "    <tr style=\"text-align: right;\">\n",
       "      <th></th>\n",
       "      <th>Date</th>\n",
       "      <th>Open</th>\n",
       "      <th>High</th>\n",
       "      <th>Low</th>\n",
       "      <th>Close</th>\n",
       "      <th>Adj Close</th>\n",
       "      <th>Volume</th>\n",
       "    </tr>\n",
       "  </thead>\n",
       "  <tbody>\n",
       "    <tr>\n",
       "      <th>498</th>\n",
       "      <td>2023-06-13</td>\n",
       "      <td>182.800003</td>\n",
       "      <td>184.149994</td>\n",
       "      <td>182.440002</td>\n",
       "      <td>183.309998</td>\n",
       "      <td>183.309998</td>\n",
       "      <td>54929100</td>\n",
       "    </tr>\n",
       "    <tr>\n",
       "      <th>499</th>\n",
       "      <td>2023-06-14</td>\n",
       "      <td>183.369995</td>\n",
       "      <td>184.389999</td>\n",
       "      <td>182.020004</td>\n",
       "      <td>183.949997</td>\n",
       "      <td>183.949997</td>\n",
       "      <td>57462900</td>\n",
       "    </tr>\n",
       "    <tr>\n",
       "      <th>500</th>\n",
       "      <td>2023-06-15</td>\n",
       "      <td>183.960007</td>\n",
       "      <td>186.520004</td>\n",
       "      <td>183.779999</td>\n",
       "      <td>186.009995</td>\n",
       "      <td>186.009995</td>\n",
       "      <td>65433200</td>\n",
       "    </tr>\n",
       "    <tr>\n",
       "      <th>501</th>\n",
       "      <td>2023-06-16</td>\n",
       "      <td>186.729996</td>\n",
       "      <td>186.990005</td>\n",
       "      <td>184.270004</td>\n",
       "      <td>184.919998</td>\n",
       "      <td>184.919998</td>\n",
       "      <td>101235600</td>\n",
       "    </tr>\n",
       "    <tr>\n",
       "      <th>502</th>\n",
       "      <td>2023-06-20</td>\n",
       "      <td>184.410004</td>\n",
       "      <td>186.100006</td>\n",
       "      <td>184.410004</td>\n",
       "      <td>185.009995</td>\n",
       "      <td>185.009995</td>\n",
       "      <td>49753200</td>\n",
       "    </tr>\n",
       "  </tbody>\n",
       "</table>\n",
       "</div>"
      ],
      "text/plain": [
       "           Date        Open        High         Low       Close   Adj Close  \\\n",
       "498  2023-06-13  182.800003  184.149994  182.440002  183.309998  183.309998   \n",
       "499  2023-06-14  183.369995  184.389999  182.020004  183.949997  183.949997   \n",
       "500  2023-06-15  183.960007  186.520004  183.779999  186.009995  186.009995   \n",
       "501  2023-06-16  186.729996  186.990005  184.270004  184.919998  184.919998   \n",
       "502  2023-06-20  184.410004  186.100006  184.410004  185.009995  185.009995   \n",
       "\n",
       "        Volume  \n",
       "498   54929100  \n",
       "499   57462900  \n",
       "500   65433200  \n",
       "501  101235600  \n",
       "502   49753200  "
      ]
     },
     "execution_count": 8,
     "metadata": {},
     "output_type": "execute_result"
    }
   ],
   "source": [
    "df.tail()"
   ]
  },
  {
   "cell_type": "code",
   "execution_count": null,
   "id": "4a24b783-4dd3-4714-a860-b5a29e663176",
   "metadata": {},
   "outputs": [],
   "source": []
  }
 ],
 "metadata": {
  "kernelspec": {
   "display_name": "Python 3 (ipykernel)",
   "language": "python",
   "name": "python3"
  },
  "language_info": {
   "codemirror_mode": {
    "name": "ipython",
    "version": 3
   },
   "file_extension": ".py",
   "mimetype": "text/x-python",
   "name": "python",
   "nbconvert_exporter": "python",
   "pygments_lexer": "ipython3",
   "version": "3.12.7"
  }
 },
 "nbformat": 4,
 "nbformat_minor": 5
}
