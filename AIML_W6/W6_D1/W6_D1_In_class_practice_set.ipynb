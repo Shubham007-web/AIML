{
 "cells": [
  {
   "cell_type": "markdown",
   "id": "e2b8f372-8da3-4386-a01e-3944a60c42a3",
   "metadata": {},
   "source": [
    "# In class practice set: Sales Analysis for Retail Company"
   ]
  },
  {
   "cell_type": "markdown",
   "id": "a0ffd70f-55b0-40db-aa54-186adfaab60b",
   "metadata": {},
   "source": [
    "A retail company that wants to analyze their sales data to gain insights into their product performance, revenue generation, and customer behavior. The company has collected a dataset containing information about sales transactions, including the date, product details, quantity sold, price, and revenue."
   ]
  },
  {
   "cell_type": "markdown",
   "id": "4e9947e0-ca75-4399-b007-2c8185bbbf34",
   "metadata": {},
   "source": [
    "The objective of this analysis is to provide meaningful insights and actionable recommendations to improve the company's sales performance, optimize pricing strategies, and identify popular products and customer preferences.  \n",
    " Here is a description of the columns in the dataset:  \n",
    "- **`Date`**: The date on which the sales transaction occurred.\n",
    "- **`Product`**: The product identifier or name.\n",
    "- **`Quantity`**: The quantity of the product sold in each transaction.\n",
    "- **`Price`**: The price of the product."
   ]
  },
  {
   "cell_type": "code",
   "execution_count": 2,
   "id": "f0899314-361b-4a66-b653-b063487d2e61",
   "metadata": {},
   "outputs": [
    {
     "data": {
      "text/html": [
       "<div>\n",
       "<style scoped>\n",
       "    .dataframe tbody tr th:only-of-type {\n",
       "        vertical-align: middle;\n",
       "    }\n",
       "\n",
       "    .dataframe tbody tr th {\n",
       "        vertical-align: top;\n",
       "    }\n",
       "\n",
       "    .dataframe thead th {\n",
       "        text-align: right;\n",
       "    }\n",
       "</style>\n",
       "<table border=\"1\" class=\"dataframe\">\n",
       "  <thead>\n",
       "    <tr style=\"text-align: right;\">\n",
       "      <th></th>\n",
       "      <th>Date</th>\n",
       "      <th>Product</th>\n",
       "      <th>Quantity</th>\n",
       "      <th>Price</th>\n",
       "    </tr>\n",
       "  </thead>\n",
       "  <tbody>\n",
       "    <tr>\n",
       "      <th>0</th>\n",
       "      <td>2022-01-01</td>\n",
       "      <td>A</td>\n",
       "      <td>10</td>\n",
       "      <td>10.99</td>\n",
       "    </tr>\n",
       "    <tr>\n",
       "      <th>1</th>\n",
       "      <td>2022-01-02</td>\n",
       "      <td>B</td>\n",
       "      <td>5</td>\n",
       "      <td>5.99</td>\n",
       "    </tr>\n",
       "    <tr>\n",
       "      <th>2</th>\n",
       "      <td>2022-01-03</td>\n",
       "      <td>C</td>\n",
       "      <td>8</td>\n",
       "      <td>7.99</td>\n",
       "    </tr>\n",
       "    <tr>\n",
       "      <th>3</th>\n",
       "      <td>2022-01-04</td>\n",
       "      <td>A</td>\n",
       "      <td>12</td>\n",
       "      <td>11.99</td>\n",
       "    </tr>\n",
       "    <tr>\n",
       "      <th>4</th>\n",
       "      <td>2022-01-05</td>\n",
       "      <td>B</td>\n",
       "      <td>6</td>\n",
       "      <td>6.99</td>\n",
       "    </tr>\n",
       "  </tbody>\n",
       "</table>\n",
       "</div>"
      ],
      "text/plain": [
       "         Date Product  Quantity  Price\n",
       "0  2022-01-01       A        10  10.99\n",
       "1  2022-01-02       B         5   5.99\n",
       "2  2022-01-03       C         8   7.99\n",
       "3  2022-01-04       A        12  11.99\n",
       "4  2022-01-05       B         6   6.99"
      ]
     },
     "execution_count": 2,
     "metadata": {},
     "output_type": "execute_result"
    }
   ],
   "source": [
    "import pandas as pd\n",
    "\n",
    "# Sample dataset of sales transactions\n",
    "transactions = pd.DataFrame({\n",
    "    'Date': ['2022-01-01', '2022-01-02', '2022-01-03', '2022-01-04', '2022-01-05'],\n",
    "    'Product': ['A', 'B', 'C', 'A', 'B'],\n",
    "    'Quantity': [10, 5, 8, 12, 6],\n",
    "    'Price': [10.99, 5.99, 7.99, 11.99, 6.99]})\n",
    "\n",
    "transactions\n",
    "    \n"
   ]
  },
  {
   "cell_type": "code",
   "execution_count": 2,
   "id": "292b0bd9-6a0b-48b0-bbe3-d600168f968e",
   "metadata": {},
   "outputs": [
    {
     "data": {
      "text/html": [
       "<div>\n",
       "<style scoped>\n",
       "    .dataframe tbody tr th:only-of-type {\n",
       "        vertical-align: middle;\n",
       "    }\n",
       "\n",
       "    .dataframe tbody tr th {\n",
       "        vertical-align: top;\n",
       "    }\n",
       "\n",
       "    .dataframe thead th {\n",
       "        text-align: right;\n",
       "    }\n",
       "</style>\n",
       "<table border=\"1\" class=\"dataframe\">\n",
       "  <thead>\n",
       "    <tr style=\"text-align: right;\">\n",
       "      <th></th>\n",
       "      <th>Date</th>\n",
       "      <th>Product</th>\n",
       "      <th>Quantity</th>\n",
       "      <th>Price</th>\n",
       "    </tr>\n",
       "  </thead>\n",
       "  <tbody>\n",
       "    <tr>\n",
       "      <th>0</th>\n",
       "      <td>2022-01-06</td>\n",
       "      <td>A</td>\n",
       "      <td>15</td>\n",
       "      <td>9.99</td>\n",
       "    </tr>\n",
       "    <tr>\n",
       "      <th>1</th>\n",
       "      <td>2022-01-07</td>\n",
       "      <td>C</td>\n",
       "      <td>9</td>\n",
       "      <td>12.99</td>\n",
       "    </tr>\n",
       "  </tbody>\n",
       "</table>\n",
       "</div>"
      ],
      "text/plain": [
       "         Date Product  Quantity  Price\n",
       "0  2022-01-06       A        15   9.99\n",
       "1  2022-01-07       C         9  12.99"
      ]
     },
     "execution_count": 2,
     "metadata": {},
     "output_type": "execute_result"
    }
   ],
   "source": [
    "# Add more data to the dataset\n",
    "new_data = pd.DataFrame({\n",
    "    'Date': ['2022-01-06', '2022-01-07'],\n",
    "    'Product': ['A', 'C'],\n",
    "    'Quantity': [15, 9],\n",
    "    'Price': [9.99, 12.99]\n",
    "})\n",
    "new_data"
   ]
  },
  {
   "cell_type": "code",
   "execution_count": 3,
   "id": "a467be6c-af7b-4e50-aacf-b34bd1a8b593",
   "metadata": {},
   "outputs": [
    {
     "name": "stderr",
     "output_type": "stream",
     "text": [
      "C:\\Users\\Shubham Soni\\AppData\\Local\\Temp\\ipykernel_10504\\3120837484.py:2: FutureWarning: The frame.append method is deprecated and will be removed from pandas in a future version. Use pandas.concat instead.\n",
      "  transactions = transactions.append(new_data, ignore_index=True)\n"
     ]
    },
    {
     "data": {
      "text/html": [
       "<div>\n",
       "<style scoped>\n",
       "    .dataframe tbody tr th:only-of-type {\n",
       "        vertical-align: middle;\n",
       "    }\n",
       "\n",
       "    .dataframe tbody tr th {\n",
       "        vertical-align: top;\n",
       "    }\n",
       "\n",
       "    .dataframe thead th {\n",
       "        text-align: right;\n",
       "    }\n",
       "</style>\n",
       "<table border=\"1\" class=\"dataframe\">\n",
       "  <thead>\n",
       "    <tr style=\"text-align: right;\">\n",
       "      <th></th>\n",
       "      <th>Date</th>\n",
       "      <th>Product</th>\n",
       "      <th>Quantity</th>\n",
       "      <th>Price</th>\n",
       "    </tr>\n",
       "  </thead>\n",
       "  <tbody>\n",
       "    <tr>\n",
       "      <th>0</th>\n",
       "      <td>2022-01-01</td>\n",
       "      <td>A</td>\n",
       "      <td>10</td>\n",
       "      <td>10.99</td>\n",
       "    </tr>\n",
       "    <tr>\n",
       "      <th>1</th>\n",
       "      <td>2022-01-02</td>\n",
       "      <td>B</td>\n",
       "      <td>5</td>\n",
       "      <td>5.99</td>\n",
       "    </tr>\n",
       "    <tr>\n",
       "      <th>2</th>\n",
       "      <td>2022-01-03</td>\n",
       "      <td>C</td>\n",
       "      <td>8</td>\n",
       "      <td>7.99</td>\n",
       "    </tr>\n",
       "    <tr>\n",
       "      <th>3</th>\n",
       "      <td>2022-01-04</td>\n",
       "      <td>A</td>\n",
       "      <td>12</td>\n",
       "      <td>11.99</td>\n",
       "    </tr>\n",
       "    <tr>\n",
       "      <th>4</th>\n",
       "      <td>2022-01-05</td>\n",
       "      <td>B</td>\n",
       "      <td>6</td>\n",
       "      <td>6.99</td>\n",
       "    </tr>\n",
       "    <tr>\n",
       "      <th>5</th>\n",
       "      <td>2022-01-06</td>\n",
       "      <td>A</td>\n",
       "      <td>15</td>\n",
       "      <td>9.99</td>\n",
       "    </tr>\n",
       "    <tr>\n",
       "      <th>6</th>\n",
       "      <td>2022-01-07</td>\n",
       "      <td>C</td>\n",
       "      <td>9</td>\n",
       "      <td>12.99</td>\n",
       "    </tr>\n",
       "  </tbody>\n",
       "</table>\n",
       "</div>"
      ],
      "text/plain": [
       "         Date Product  Quantity  Price\n",
       "0  2022-01-01       A        10  10.99\n",
       "1  2022-01-02       B         5   5.99\n",
       "2  2022-01-03       C         8   7.99\n",
       "3  2022-01-04       A        12  11.99\n",
       "4  2022-01-05       B         6   6.99\n",
       "5  2022-01-06       A        15   9.99\n",
       "6  2022-01-07       C         9  12.99"
      ]
     },
     "execution_count": 3,
     "metadata": {},
     "output_type": "execute_result"
    }
   ],
   "source": [
    "# Append the new data to the dataset\n",
    "transactions = transactions.append(new_data, ignore_index=True)\n",
    "transactions"
   ]
  },
  {
   "cell_type": "code",
   "execution_count": null,
   "id": "6491a825-7c37-44de-ad93-7d5ca11acdcd",
   "metadata": {},
   "outputs": [],
   "source": []
  },
  {
   "cell_type": "markdown",
   "id": "8f550ec3-ee8e-469a-99dc-d5cdea444d5a",
   "metadata": {},
   "source": [
    "### Q1. Calculate the totatl **`Revenue`**  generated from each sales transaction (calculated as Quantity * Price)."
   ]
  },
  {
   "cell_type": "code",
   "execution_count": null,
   "id": "7479ec21-d4bb-4839-862e-cd70baadb30b",
   "metadata": {},
   "outputs": [],
   "source": []
  },
  {
   "cell_type": "markdown",
   "id": "da797638-4e68-4ab4-ae6c-6dd2b3af67e3",
   "metadata": {},
   "source": [
    "<details>\n",
    "    <summary> Solution </summary>\n",
    "    \n",
    "```python\n",
    "    \n",
    "transactions['Revenue'] = transactions['Quantity']* transactions['Price']\n",
    "transactions\n",
    "    \n",
    "```\n",
    "    \n",
    "</details>"
   ]
  },
  {
   "cell_type": "markdown",
   "id": "00c51260-3d9b-44e9-a81d-2312b79974de",
   "metadata": {},
   "source": [
    "### Q2. What is the total quantity sold?"
   ]
  },
  {
   "cell_type": "code",
   "execution_count": null,
   "id": "bb12c948-c407-4166-95c8-ce84c1b46d54",
   "metadata": {},
   "outputs": [],
   "source": []
  },
  {
   "cell_type": "markdown",
   "id": "df457906-933a-41d7-b09b-3c2d655fa896",
   "metadata": {},
   "source": [
    "<details>\n",
    "    <summary> Solution </summary>\n",
    "\n",
    "```python\n",
    "\n",
    "total_quantity_sold = transactions['Quantity'].sum()\n",
    "print(\"Total Quantity Sold:\", total_quantity_sold)\n",
    "\n",
    "```\n",
    "    \n",
    "</details>"
   ]
  },
  {
   "cell_type": "markdown",
   "id": "a1f990fe-7cc2-4c4e-b875-f224b08f43ab",
   "metadata": {},
   "source": [
    "### Q3. What is the average price of the products?"
   ]
  },
  {
   "cell_type": "code",
   "execution_count": null,
   "id": "2555d18e-1f91-42f2-a352-2fbcc0f377ff",
   "metadata": {},
   "outputs": [],
   "source": []
  },
  {
   "cell_type": "markdown",
   "id": "36a95bb7-2390-4ccd-a986-f3f501fb7b22",
   "metadata": {},
   "source": [
    "<details>\n",
    "    <summary> Solution </summary>\n",
    "\n",
    "```python\n",
    "\n",
    "average_price = transactions['Price'].mean()\n",
    "print(\"Average Price:\", average_price)\n",
    "\n",
    "```\n",
    "    \n",
    "</details>"
   ]
  },
  {
   "cell_type": "markdown",
   "id": "20550720-b2b9-4349-baa5-abd33dde5725",
   "metadata": {},
   "source": [
    "### Q4. What is the highest quantity sold for a single product?"
   ]
  },
  {
   "cell_type": "code",
   "execution_count": null,
   "id": "c799e79b-cebd-4395-baec-e08a1a37e94c",
   "metadata": {},
   "outputs": [],
   "source": []
  },
  {
   "cell_type": "markdown",
   "id": "94e2c43c-f3bd-4e08-a45e-706bf2a12685",
   "metadata": {},
   "source": [
    "<details>\n",
    "    <summary> Solution </summary>\n",
    "\n",
    "```python\n",
    "\n",
    "max_quantity = transactions['Quantity'].max()\n",
    "print(\"Highest Quantity Sold:\", max_quantity)\n",
    "\n",
    "```\n",
    "\n",
    "</details>"
   ]
  },
  {
   "cell_type": "markdown",
   "id": "389553f3-b58a-4ef0-b959-798a32b3060d",
   "metadata": {},
   "source": [
    "### Q5. How many unique products are in the dataset?\n"
   ]
  },
  {
   "cell_type": "code",
   "execution_count": null,
   "id": "d3088885-bba0-4bfb-9156-a79aeec3cd45",
   "metadata": {},
   "outputs": [],
   "source": []
  },
  {
   "cell_type": "markdown",
   "id": "1da28096-4ba4-441c-bdc3-dad98a791b24",
   "metadata": {},
   "source": [
    "<details>\n",
    "    <summary> Solution </summary>\n",
    "\n",
    "```python\n",
    "\n",
    "unique_products = transactions['Product'].nunique()\n",
    "print(\"Unique Products:\", unique_products)\n",
    "\n",
    "```\n",
    "    \n",
    "</details>"
   ]
  },
  {
   "cell_type": "markdown",
   "id": "9006a938-2e6c-4186-9d15-a90a9a89e57e",
   "metadata": {},
   "source": [
    "### Q6. What is the total sales revenue?"
   ]
  },
  {
   "cell_type": "code",
   "execution_count": null,
   "id": "f0c27c55-2cb3-4ef7-b5a4-ce04242da454",
   "metadata": {},
   "outputs": [],
   "source": []
  },
  {
   "cell_type": "markdown",
   "id": "8caecf0d-abd6-4495-a114-4fc67878a490",
   "metadata": {},
   "source": [
    "<details>\n",
    "    <summary> Solution </summary>\n",
    "\n",
    "```python\n",
    "\n",
    "transactions['Revenue'] = transactions['Quantity'] * transactions['Price']\n",
    "total_revenue = transactions['Revenue'].sum()\n",
    "print(\"Total Revenue:\", total_revenue)\n",
    "\n",
    "```\n",
    "    \n",
    "</details>"
   ]
  },
  {
   "cell_type": "markdown",
   "id": "84e969a5-99fd-4904-be7d-993ec02f1d49",
   "metadata": {},
   "source": [
    "### Q7. How many sales transactions occurred on each date?"
   ]
  },
  {
   "cell_type": "code",
   "execution_count": null,
   "id": "d28af4af-d72b-4e92-89fa-4d38a27669b3",
   "metadata": {},
   "outputs": [],
   "source": []
  },
  {
   "cell_type": "markdown",
   "id": "8ff0c781-d01e-4d31-b151-9f94a39fde23",
   "metadata": {},
   "source": [
    "<details>\n",
    "    <summary> Solution </summary>\n",
    "\n",
    "```python\n",
    "\n",
    "transaction_count = transactions['Date'].value_counts()\n",
    "print(\"Sales Transactions by Date:\")\n",
    "print(transaction_count)\n",
    "\n",
    "```\n",
    "    \n",
    "</details>"
   ]
  },
  {
   "cell_type": "markdown",
   "id": "cd28d9f3-558d-4e86-8164-4fdbf29741dc",
   "metadata": {},
   "source": [
    "### Q8. What is the average quantity sold per product?"
   ]
  },
  {
   "cell_type": "code",
   "execution_count": null,
   "id": "4389d127-8208-4289-8f5a-cb2f775ff89d",
   "metadata": {},
   "outputs": [],
   "source": []
  },
  {
   "cell_type": "markdown",
   "id": "52ff9f81-19f1-44a2-a7c3-ee4868b0b621",
   "metadata": {},
   "source": [
    "<details>\n",
    "    <summary> Solution </summary>\n",
    "\n",
    "```python\n",
    "\n",
    "average_quantity_per_product = transactions.groupby('Product')['Quantity'].mean()\n",
    "print(\"Average Quantity Sold per Product:\")\n",
    "print(average_quantity_per_product)\n",
    "```\n",
    "    \n",
    "</details>"
   ]
  },
  {
   "cell_type": "markdown",
   "id": "9a6e82d3-dd42-4b45-abda-9bcecb5bfb7a",
   "metadata": {},
   "source": [
    "### Q9. What is the total revenue generated per product?"
   ]
  },
  {
   "cell_type": "code",
   "execution_count": null,
   "id": "4b81293d-26b5-48c3-8eac-bf3423703023",
   "metadata": {},
   "outputs": [],
   "source": []
  },
  {
   "cell_type": "markdown",
   "id": "73c3b427-2e0e-4f5c-be29-49ffeb63225a",
   "metadata": {},
   "source": [
    "<details>\n",
    "    <summary> Solution </summary>\n",
    "\n",
    "```python\n",
    "\n",
    "revenue_per_product = transactions.groupby('Product')['Revenue'].sum()\n",
    "print(\"Total Revenue Generated per Product:\")\n",
    "print(revenue_per_product)\n",
    "```\n",
    "    \n",
    "</details>"
   ]
  },
  {
   "cell_type": "markdown",
   "id": "891dcf99-e2d4-4659-bd66-26e59f5a4d22",
   "metadata": {},
   "source": [
    "### Q10. What is the highest price among the products?"
   ]
  },
  {
   "cell_type": "code",
   "execution_count": null,
   "id": "3afd0ff9-5d65-45f0-aea9-8448bac22002",
   "metadata": {},
   "outputs": [],
   "source": []
  },
  {
   "cell_type": "markdown",
   "id": "574ce713-7652-4b6b-a7b8-98f6e4f34a47",
   "metadata": {},
   "source": [
    "<details>\n",
    "    <summary> Solution </summary>\n",
    "\n",
    "```python\n",
    "\n",
    "max_price = transactions['Price'].max()\n",
    "print(\"Highest Price:\", max_price)\n",
    "```\n",
    "    \n",
    "</details>"
   ]
  },
  {
   "cell_type": "markdown",
   "id": "079481ad-7d75-410f-a486-6d4f6f820563",
   "metadata": {},
   "source": [
    "### Q11. What is the total quantity sold for each product?"
   ]
  },
  {
   "cell_type": "code",
   "execution_count": null,
   "id": "71b38976-37c3-4b78-a700-a7ee8c8ad7bd",
   "metadata": {},
   "outputs": [],
   "source": []
  },
  {
   "cell_type": "markdown",
   "id": "0d32f490-b25d-4aed-802f-29e5d0867846",
   "metadata": {},
   "source": [
    "<details>\n",
    "    <summary> Solution </summary>\n",
    "\n",
    "```python\n",
    "\n",
    "total_quantity_per_product = transactions.groupby('Product')['Quantity'].sum()\n",
    "print(\"Total Quantity Sold per Product:\")\n",
    "print(total_quantity_per_product)\n",
    "```\n",
    "    \n",
    "</details>"
   ]
  },
  {
   "cell_type": "code",
   "execution_count": null,
   "id": "4d7c3b63-8ca9-49ac-9ab1-f4087ffb617c",
   "metadata": {},
   "outputs": [],
   "source": []
  }
 ],
 "metadata": {
  "kernelspec": {
   "display_name": "Python 3 (ipykernel)",
   "language": "python",
   "name": "python3"
  },
  "language_info": {
   "codemirror_mode": {
    "name": "ipython",
    "version": 3
   },
   "file_extension": ".py",
   "mimetype": "text/x-python",
   "name": "python",
   "nbconvert_exporter": "python",
   "pygments_lexer": "ipython3",
   "version": "3.9.13"
  }
 },
 "nbformat": 4,
 "nbformat_minor": 5
}
