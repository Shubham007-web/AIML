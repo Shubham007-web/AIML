{
 "cells": [
  {
   "cell_type": "markdown",
   "id": "802f2547-1aff-49e8-be40-958003313cf8",
   "metadata": {},
   "source": [
    "# Table of Contents\n",
    "\n",
    "1. [Handling Dates, Timezones, Unix Timestamps](#time)\n",
    "    - [Handling Dates and Times](#htd)\n",
    "    - [Handling Timezones](#Tzone)\n",
    "    - [Handling Unix Timestamps](#unix)\n",
    "    - [Date Range](#drange)\n",
    "    - [Resample](#resample)\n",
    "2. [Introduction to Rolling Operations](#roll_intro)\n",
    "    - [Rolling Sum](#rsum)\n",
    "    - [Rolling Mean](#rmean)\n",
    "    - [Rolling Rank](#rrank)\n",
    "3. [Shifting and Lagging](#sl) "
   ]
  },
  {
   "cell_type": "markdown",
   "id": "d34f2055",
   "metadata": {},
   "source": [
    "# 1.Handling Dates, Timezones, Unix Timestamps <a class = 'anchor' id = time></a> "
   ]
  },
  {
   "cell_type": "markdown",
   "id": "f41202db",
   "metadata": {},
   "source": [
    "### Handling Dates and Times <a class = 'anchor' id = htd></a>\n",
    "Pandas has a number of methods for working with dates and times. We can create a new DataFrame column of datetime objects from an existing column containing dates using the `to_datetime()` method:"
   ]
  },
  {
   "cell_type": "code",
   "execution_count": 1,
   "id": "ae742271",
   "metadata": {},
   "outputs": [
    {
     "data": {
      "text/html": [
       "<div>\n",
       "<style scoped>\n",
       "    .dataframe tbody tr th:only-of-type {\n",
       "        vertical-align: middle;\n",
       "    }\n",
       "\n",
       "    .dataframe tbody tr th {\n",
       "        vertical-align: top;\n",
       "    }\n",
       "\n",
       "    .dataframe thead th {\n",
       "        text-align: right;\n",
       "    }\n",
       "</style>\n",
       "<table border=\"1\" class=\"dataframe\">\n",
       "  <thead>\n",
       "    <tr style=\"text-align: right;\">\n",
       "      <th></th>\n",
       "      <th>date</th>\n",
       "      <th>value</th>\n",
       "    </tr>\n",
       "  </thead>\n",
       "  <tbody>\n",
       "    <tr>\n",
       "      <th>0</th>\n",
       "      <td>2023-04-01</td>\n",
       "      <td>1</td>\n",
       "    </tr>\n",
       "    <tr>\n",
       "      <th>1</th>\n",
       "      <td>2023-04-02</td>\n",
       "      <td>2</td>\n",
       "    </tr>\n",
       "    <tr>\n",
       "      <th>2</th>\n",
       "      <td>2023-04-03</td>\n",
       "      <td>3</td>\n",
       "    </tr>\n",
       "    <tr>\n",
       "      <th>3</th>\n",
       "      <td>2023-04-04</td>\n",
       "      <td>4</td>\n",
       "    </tr>\n",
       "  </tbody>\n",
       "</table>\n",
       "</div>"
      ],
      "text/plain": [
       "         date  value\n",
       "0  2023-04-01      1\n",
       "1  2023-04-02      2\n",
       "2  2023-04-03      3\n",
       "3  2023-04-04      4"
      ]
     },
     "execution_count": 1,
     "metadata": {},
     "output_type": "execute_result"
    }
   ],
   "source": [
    "# create a sample DataFrame\n",
    "import pandas as pd\n",
    "df = pd.DataFrame({\n",
    "    'date': ['2023-04-01', '2023-04-02', '2023-04-03', '2023-04-04'],\n",
    "    'value': [1, 2, 3, 4]})\n",
    "df"
   ]
  },
  {
   "cell_type": "code",
   "execution_count": 2,
   "id": "fb10f9ba",
   "metadata": {},
   "outputs": [
    {
     "data": {
      "text/plain": [
       "date     object\n",
       "value     int64\n",
       "dtype: object"
      ]
     },
     "execution_count": 2,
     "metadata": {},
     "output_type": "execute_result"
    }
   ],
   "source": [
    "df.dtypes"
   ]
  },
  {
   "cell_type": "markdown",
   "id": "83dbbc7b",
   "metadata": {},
   "source": [
    "- Here the `date` column is obejct, we can also convert datatime object, that allows us to perform **Time** series related task.\n",
    "- Pandas' obejct `to_date_time()` is used to typecast the data into datetime object."
   ]
  },
  {
   "cell_type": "code",
   "execution_count": 3,
   "id": "15fe0dee",
   "metadata": {},
   "outputs": [
    {
     "data": {
      "text/html": [
       "<div>\n",
       "<style scoped>\n",
       "    .dataframe tbody tr th:only-of-type {\n",
       "        vertical-align: middle;\n",
       "    }\n",
       "\n",
       "    .dataframe tbody tr th {\n",
       "        vertical-align: top;\n",
       "    }\n",
       "\n",
       "    .dataframe thead th {\n",
       "        text-align: right;\n",
       "    }\n",
       "</style>\n",
       "<table border=\"1\" class=\"dataframe\">\n",
       "  <thead>\n",
       "    <tr style=\"text-align: right;\">\n",
       "      <th></th>\n",
       "      <th>date</th>\n",
       "      <th>value</th>\n",
       "    </tr>\n",
       "  </thead>\n",
       "  <tbody>\n",
       "    <tr>\n",
       "      <th>0</th>\n",
       "      <td>2023-04-01</td>\n",
       "      <td>1</td>\n",
       "    </tr>\n",
       "    <tr>\n",
       "      <th>1</th>\n",
       "      <td>2023-04-02</td>\n",
       "      <td>2</td>\n",
       "    </tr>\n",
       "    <tr>\n",
       "      <th>2</th>\n",
       "      <td>2023-04-03</td>\n",
       "      <td>3</td>\n",
       "    </tr>\n",
       "    <tr>\n",
       "      <th>3</th>\n",
       "      <td>2023-04-04</td>\n",
       "      <td>4</td>\n",
       "    </tr>\n",
       "  </tbody>\n",
       "</table>\n",
       "</div>"
      ],
      "text/plain": [
       "        date  value\n",
       "0 2023-04-01      1\n",
       "1 2023-04-02      2\n",
       "2 2023-04-03      3\n",
       "3 2023-04-04      4"
      ]
     },
     "execution_count": 3,
     "metadata": {},
     "output_type": "execute_result"
    }
   ],
   "source": [
    "# convert the 'date' column to a datetime object\n",
    "df['date'] = pd.to_datetime(df['date'])\n",
    "\n",
    "# print the resulting DataFrame\n",
    "df"
   ]
  },
  {
   "cell_type": "code",
   "execution_count": 4,
   "id": "6c5183e7",
   "metadata": {},
   "outputs": [
    {
     "name": "stdout",
     "output_type": "stream",
     "text": [
      "<class 'pandas.core.frame.DataFrame'>\n",
      "RangeIndex: 4 entries, 0 to 3\n",
      "Data columns (total 2 columns):\n",
      " #   Column  Non-Null Count  Dtype         \n",
      "---  ------  --------------  -----         \n",
      " 0   date    4 non-null      datetime64[ns]\n",
      " 1   value   4 non-null      int64         \n",
      "dtypes: datetime64[ns](1), int64(1)\n",
      "memory usage: 192.0 bytes\n"
     ]
    }
   ],
   "source": [
    "df.info()"
   ]
  },
  {
   "cell_type": "markdown",
   "id": "c815bd0a",
   "metadata": {},
   "source": [
    "- This creates a new `date` column containing datetime objects that can be used for further calculations or manipulations."
   ]
  },
  {
   "cell_type": "markdown",
   "id": "7f00f46b",
   "metadata": {},
   "source": [
    "### Handling Timezones <a class = 'anchor' id = Tzone ></a>\n",
    "Pandas allows us to work with timezones using the tz parameter of the DatetimeIndex object. To convert a datetime column to a specific timezone, we can use the `tz_localize()` method. \n"
   ]
  },
  {
   "cell_type": "code",
   "execution_count": 5,
   "id": "4ddad59e",
   "metadata": {},
   "outputs": [
    {
     "data": {
      "text/html": [
       "<div>\n",
       "<style scoped>\n",
       "    .dataframe tbody tr th:only-of-type {\n",
       "        vertical-align: middle;\n",
       "    }\n",
       "\n",
       "    .dataframe tbody tr th {\n",
       "        vertical-align: top;\n",
       "    }\n",
       "\n",
       "    .dataframe thead th {\n",
       "        text-align: right;\n",
       "    }\n",
       "</style>\n",
       "<table border=\"1\" class=\"dataframe\">\n",
       "  <thead>\n",
       "    <tr style=\"text-align: right;\">\n",
       "      <th></th>\n",
       "      <th>date</th>\n",
       "      <th>value</th>\n",
       "    </tr>\n",
       "  </thead>\n",
       "  <tbody>\n",
       "    <tr>\n",
       "      <th>0</th>\n",
       "      <td>2023-04-01</td>\n",
       "      <td>1</td>\n",
       "    </tr>\n",
       "    <tr>\n",
       "      <th>1</th>\n",
       "      <td>2023-04-02</td>\n",
       "      <td>2</td>\n",
       "    </tr>\n",
       "    <tr>\n",
       "      <th>2</th>\n",
       "      <td>2023-04-03</td>\n",
       "      <td>3</td>\n",
       "    </tr>\n",
       "    <tr>\n",
       "      <th>3</th>\n",
       "      <td>2023-04-04</td>\n",
       "      <td>4</td>\n",
       "    </tr>\n",
       "  </tbody>\n",
       "</table>\n",
       "</div>"
      ],
      "text/plain": [
       "          date  value\n",
       "0   2023-04-01      1\n",
       "1   2023-04-02      2\n",
       "2   2023-04-03      3\n",
       "3  2023-04-04       4"
      ]
     },
     "execution_count": 5,
     "metadata": {},
     "output_type": "execute_result"
    }
   ],
   "source": [
    "import pytz  # time zone python module\n",
    "\n",
    "# create a sample DataFrame\n",
    "df = pd.DataFrame({\n",
    "    'date': ['2023-04-01', '2023-04-02', '2023-04-03', '2023-04-04 '],\n",
    "    'value': [1, 2, 3, 4]})\n",
    "df"
   ]
  },
  {
   "cell_type": "code",
   "execution_count": 6,
   "id": "405721d8",
   "metadata": {},
   "outputs": [
    {
     "data": {
      "text/html": [
       "<div>\n",
       "<style scoped>\n",
       "    .dataframe tbody tr th:only-of-type {\n",
       "        vertical-align: middle;\n",
       "    }\n",
       "\n",
       "    .dataframe tbody tr th {\n",
       "        vertical-align: top;\n",
       "    }\n",
       "\n",
       "    .dataframe thead th {\n",
       "        text-align: right;\n",
       "    }\n",
       "</style>\n",
       "<table border=\"1\" class=\"dataframe\">\n",
       "  <thead>\n",
       "    <tr style=\"text-align: right;\">\n",
       "      <th></th>\n",
       "      <th>date</th>\n",
       "      <th>value</th>\n",
       "    </tr>\n",
       "  </thead>\n",
       "  <tbody>\n",
       "    <tr>\n",
       "      <th>0</th>\n",
       "      <td>2023-04-01</td>\n",
       "      <td>1</td>\n",
       "    </tr>\n",
       "    <tr>\n",
       "      <th>1</th>\n",
       "      <td>2023-04-02</td>\n",
       "      <td>2</td>\n",
       "    </tr>\n",
       "    <tr>\n",
       "      <th>2</th>\n",
       "      <td>2023-04-03</td>\n",
       "      <td>3</td>\n",
       "    </tr>\n",
       "    <tr>\n",
       "      <th>3</th>\n",
       "      <td>2023-04-04</td>\n",
       "      <td>4</td>\n",
       "    </tr>\n",
       "  </tbody>\n",
       "</table>\n",
       "</div>"
      ],
      "text/plain": [
       "        date  value\n",
       "0 2023-04-01      1\n",
       "1 2023-04-02      2\n",
       "2 2023-04-03      3\n",
       "3 2023-04-04      4"
      ]
     },
     "execution_count": 6,
     "metadata": {},
     "output_type": "execute_result"
    }
   ],
   "source": [
    "# convert the 'date' column to a datetime object and set the timezone to 'US/Eastern'\n",
    "df['date'] = pd.to_datetime(df['date'])\n",
    "# print the resulting DataFrame\n",
    "df"
   ]
  },
  {
   "cell_type": "code",
   "execution_count": 7,
   "id": "df6660b5",
   "metadata": {},
   "outputs": [
    {
     "data": {
      "text/plain": [
       "0   2023-04-01\n",
       "1   2023-04-02\n",
       "2   2023-04-03\n",
       "3   2023-04-04\n",
       "Name: date, dtype: datetime64[ns]"
      ]
     },
     "execution_count": 7,
     "metadata": {},
     "output_type": "execute_result"
    }
   ],
   "source": [
    "# now let's check time zone\n",
    "df['date']"
   ]
  },
  {
   "cell_type": "code",
   "execution_count": 8,
   "id": "86f02468",
   "metadata": {},
   "outputs": [
    {
     "name": "stdout",
     "output_type": "stream",
     "text": [
      "<class 'pandas.core.series.Series'>\n",
      "RangeIndex: 4 entries, 0 to 3\n",
      "Series name: date\n",
      "Non-Null Count  Dtype         \n",
      "--------------  -----         \n",
      "4 non-null      datetime64[ns]\n",
      "dtypes: datetime64[ns](1)\n",
      "memory usage: 160.0 bytes\n"
     ]
    }
   ],
   "source": [
    "df['date'].info()"
   ]
  },
  {
   "cell_type": "markdown",
   "id": "d01d6c72",
   "metadata": {},
   "source": [
    "- We can see that there is no timezone specified. Lets fiex the time zones (`US/Eastern`).\n",
    "- We used the dt accessor to access the **`tz_localize()`** method, which set the timezone to `'US/Eastern'`. This created a new column containing `timezone-aware` datetime objects."
   ]
  },
  {
   "cell_type": "code",
   "execution_count": 9,
   "id": "11a2f0da",
   "metadata": {},
   "outputs": [
    {
     "data": {
      "text/html": [
       "<div>\n",
       "<style scoped>\n",
       "    .dataframe tbody tr th:only-of-type {\n",
       "        vertical-align: middle;\n",
       "    }\n",
       "\n",
       "    .dataframe tbody tr th {\n",
       "        vertical-align: top;\n",
       "    }\n",
       "\n",
       "    .dataframe thead th {\n",
       "        text-align: right;\n",
       "    }\n",
       "</style>\n",
       "<table border=\"1\" class=\"dataframe\">\n",
       "  <thead>\n",
       "    <tr style=\"text-align: right;\">\n",
       "      <th></th>\n",
       "      <th>date</th>\n",
       "      <th>value</th>\n",
       "    </tr>\n",
       "  </thead>\n",
       "  <tbody>\n",
       "    <tr>\n",
       "      <th>0</th>\n",
       "      <td>2023-04-01 00:00:00-04:00</td>\n",
       "      <td>1</td>\n",
       "    </tr>\n",
       "    <tr>\n",
       "      <th>1</th>\n",
       "      <td>2023-04-02 00:00:00-04:00</td>\n",
       "      <td>2</td>\n",
       "    </tr>\n",
       "    <tr>\n",
       "      <th>2</th>\n",
       "      <td>2023-04-03 00:00:00-04:00</td>\n",
       "      <td>3</td>\n",
       "    </tr>\n",
       "    <tr>\n",
       "      <th>3</th>\n",
       "      <td>2023-04-04 00:00:00-04:00</td>\n",
       "      <td>4</td>\n",
       "    </tr>\n",
       "  </tbody>\n",
       "</table>\n",
       "</div>"
      ],
      "text/plain": [
       "                       date  value\n",
       "0 2023-04-01 00:00:00-04:00      1\n",
       "1 2023-04-02 00:00:00-04:00      2\n",
       "2 2023-04-03 00:00:00-04:00      3\n",
       "3 2023-04-04 00:00:00-04:00      4"
      ]
     },
     "execution_count": 9,
     "metadata": {},
     "output_type": "execute_result"
    }
   ],
   "source": [
    "df['date'] = pd.to_datetime(df['date']).dt.tz_localize('US/Eastern')\n",
    "# print the resulting DataFrame\n",
    "df"
   ]
  },
  {
   "cell_type": "code",
   "execution_count": 10,
   "id": "63c03706",
   "metadata": {},
   "outputs": [
    {
     "name": "stdout",
     "output_type": "stream",
     "text": [
      "<class 'pandas.core.series.Series'>\n",
      "RangeIndex: 4 entries, 0 to 3\n",
      "Series name: date\n",
      "Non-Null Count  Dtype                     \n",
      "--------------  -----                     \n",
      "4 non-null      datetime64[ns, US/Eastern]\n",
      "dtypes: datetime64[ns, US/Eastern](1)\n",
      "memory usage: 160.0 bytes\n"
     ]
    }
   ],
   "source": [
    "df['date'].info()"
   ]
  },
  {
   "cell_type": "markdown",
   "id": "e2270e5d",
   "metadata": {},
   "source": [
    "- Here, we can see that now time zone has convert from `None` to ` US/Eastern`\n",
    "- But once again the question is --\n",
    "### How to know many time_zones are?\n",
    "`pytz.all_timezones`"
   ]
  },
  {
   "cell_type": "code",
   "execution_count": 11,
   "id": "64cd9029",
   "metadata": {},
   "outputs": [],
   "source": [
    "# print(pytz.all_timezones)"
   ]
  },
  {
   "cell_type": "markdown",
   "id": "3d3053b0",
   "metadata": {},
   "source": [
    "#### How convert time zones?\n",
    "``` tz_convert()``` method is used to convert time zones."
   ]
  },
  {
   "cell_type": "markdown",
   "id": "571264e2",
   "metadata": {},
   "source": [
    "Let's create **Indian** and **Israel** time zones and put these into columns."
   ]
  },
  {
   "cell_type": "code",
   "execution_count": 12,
   "id": "f48e7398",
   "metadata": {},
   "outputs": [
    {
     "data": {
      "text/html": [
       "<div>\n",
       "<style scoped>\n",
       "    .dataframe tbody tr th:only-of-type {\n",
       "        vertical-align: middle;\n",
       "    }\n",
       "\n",
       "    .dataframe tbody tr th {\n",
       "        vertical-align: top;\n",
       "    }\n",
       "\n",
       "    .dataframe thead th {\n",
       "        text-align: right;\n",
       "    }\n",
       "</style>\n",
       "<table border=\"1\" class=\"dataframe\">\n",
       "  <thead>\n",
       "    <tr style=\"text-align: right;\">\n",
       "      <th></th>\n",
       "      <th>date</th>\n",
       "      <th>value</th>\n",
       "      <th>date_Indian_time_zone</th>\n",
       "    </tr>\n",
       "  </thead>\n",
       "  <tbody>\n",
       "    <tr>\n",
       "      <th>0</th>\n",
       "      <td>2023-04-01 00:00:00-04:00</td>\n",
       "      <td>1</td>\n",
       "      <td>2023-04-01 09:30:00+05:30</td>\n",
       "    </tr>\n",
       "    <tr>\n",
       "      <th>1</th>\n",
       "      <td>2023-04-02 00:00:00-04:00</td>\n",
       "      <td>2</td>\n",
       "      <td>2023-04-02 09:30:00+05:30</td>\n",
       "    </tr>\n",
       "    <tr>\n",
       "      <th>2</th>\n",
       "      <td>2023-04-03 00:00:00-04:00</td>\n",
       "      <td>3</td>\n",
       "      <td>2023-04-03 09:30:00+05:30</td>\n",
       "    </tr>\n",
       "    <tr>\n",
       "      <th>3</th>\n",
       "      <td>2023-04-04 00:00:00-04:00</td>\n",
       "      <td>4</td>\n",
       "      <td>2023-04-04 09:30:00+05:30</td>\n",
       "    </tr>\n",
       "  </tbody>\n",
       "</table>\n",
       "</div>"
      ],
      "text/plain": [
       "                       date  value     date_Indian_time_zone\n",
       "0 2023-04-01 00:00:00-04:00      1 2023-04-01 09:30:00+05:30\n",
       "1 2023-04-02 00:00:00-04:00      2 2023-04-02 09:30:00+05:30\n",
       "2 2023-04-03 00:00:00-04:00      3 2023-04-03 09:30:00+05:30\n",
       "3 2023-04-04 00:00:00-04:00      4 2023-04-04 09:30:00+05:30"
      ]
     },
     "execution_count": 12,
     "metadata": {},
     "output_type": "execute_result"
    }
   ],
   "source": [
    "df['date_Indian_time_zone'] = pd.to_datetime(df['date']).dt.tz_convert('Asia/Kolkata')\n",
    "# print the resulting DataFrame\n",
    "df\n"
   ]
  },
  {
   "cell_type": "code",
   "execution_count": 13,
   "id": "05dbedc2",
   "metadata": {},
   "outputs": [
    {
     "data": {
      "text/html": [
       "<div>\n",
       "<style scoped>\n",
       "    .dataframe tbody tr th:only-of-type {\n",
       "        vertical-align: middle;\n",
       "    }\n",
       "\n",
       "    .dataframe tbody tr th {\n",
       "        vertical-align: top;\n",
       "    }\n",
       "\n",
       "    .dataframe thead th {\n",
       "        text-align: right;\n",
       "    }\n",
       "</style>\n",
       "<table border=\"1\" class=\"dataframe\">\n",
       "  <thead>\n",
       "    <tr style=\"text-align: right;\">\n",
       "      <th></th>\n",
       "      <th>date</th>\n",
       "      <th>value</th>\n",
       "      <th>date_Indian_time_zone</th>\n",
       "      <th>Israel_time_zone</th>\n",
       "    </tr>\n",
       "  </thead>\n",
       "  <tbody>\n",
       "    <tr>\n",
       "      <th>0</th>\n",
       "      <td>2023-04-01 00:00:00-04:00</td>\n",
       "      <td>1</td>\n",
       "      <td>2023-04-01 09:30:00+05:30</td>\n",
       "      <td>2023-04-01 07:00:00+03:00</td>\n",
       "    </tr>\n",
       "    <tr>\n",
       "      <th>1</th>\n",
       "      <td>2023-04-02 00:00:00-04:00</td>\n",
       "      <td>2</td>\n",
       "      <td>2023-04-02 09:30:00+05:30</td>\n",
       "      <td>2023-04-02 07:00:00+03:00</td>\n",
       "    </tr>\n",
       "    <tr>\n",
       "      <th>2</th>\n",
       "      <td>2023-04-03 00:00:00-04:00</td>\n",
       "      <td>3</td>\n",
       "      <td>2023-04-03 09:30:00+05:30</td>\n",
       "      <td>2023-04-03 07:00:00+03:00</td>\n",
       "    </tr>\n",
       "    <tr>\n",
       "      <th>3</th>\n",
       "      <td>2023-04-04 00:00:00-04:00</td>\n",
       "      <td>4</td>\n",
       "      <td>2023-04-04 09:30:00+05:30</td>\n",
       "      <td>2023-04-04 07:00:00+03:00</td>\n",
       "    </tr>\n",
       "  </tbody>\n",
       "</table>\n",
       "</div>"
      ],
      "text/plain": [
       "                       date  value     date_Indian_time_zone  \\\n",
       "0 2023-04-01 00:00:00-04:00      1 2023-04-01 09:30:00+05:30   \n",
       "1 2023-04-02 00:00:00-04:00      2 2023-04-02 09:30:00+05:30   \n",
       "2 2023-04-03 00:00:00-04:00      3 2023-04-03 09:30:00+05:30   \n",
       "3 2023-04-04 00:00:00-04:00      4 2023-04-04 09:30:00+05:30   \n",
       "\n",
       "           Israel_time_zone  \n",
       "0 2023-04-01 07:00:00+03:00  \n",
       "1 2023-04-02 07:00:00+03:00  \n",
       "2 2023-04-03 07:00:00+03:00  \n",
       "3 2023-04-04 07:00:00+03:00  "
      ]
     },
     "execution_count": 13,
     "metadata": {},
     "output_type": "execute_result"
    }
   ],
   "source": [
    "df['Israel_time_zone'] = pd.to_datetime(df['date']).dt.tz_convert('Israel')\n",
    "# print the resulting DataFrame\n",
    "df"
   ]
  },
  {
   "cell_type": "markdown",
   "id": "adba68ca",
   "metadata": {},
   "source": [
    "### Handling Unix Timestamps <a class ='anchor' id = unix ></a>\n",
    "- Unix timestamps represent the number of seconds that have elapsed since **January 1, 1970** at **00:00:00 UTC**. \n",
    "- It is a common way to represent time in computer systems. \n",
    "- Pandas provides functions to convert Unix timestamps to datetime objects, allowing for easier manipulation and analysis.\n",
    "- The **`to_datetime()`** function can be used to convert a Unix timestamp column to a datetime column"
   ]
  },
  {
   "cell_type": "code",
   "execution_count": 14,
   "id": "008f2aac",
   "metadata": {},
   "outputs": [
    {
     "data": {
      "text/html": [
       "<div>\n",
       "<style scoped>\n",
       "    .dataframe tbody tr th:only-of-type {\n",
       "        vertical-align: middle;\n",
       "    }\n",
       "\n",
       "    .dataframe tbody tr th {\n",
       "        vertical-align: top;\n",
       "    }\n",
       "\n",
       "    .dataframe thead th {\n",
       "        text-align: right;\n",
       "    }\n",
       "</style>\n",
       "<table border=\"1\" class=\"dataframe\">\n",
       "  <thead>\n",
       "    <tr style=\"text-align: right;\">\n",
       "      <th></th>\n",
       "      <th>Date</th>\n",
       "      <th>Value</th>\n",
       "    </tr>\n",
       "  </thead>\n",
       "  <tbody>\n",
       "    <tr>\n",
       "      <th>0</th>\n",
       "      <td>2023-06-14 12:30:45</td>\n",
       "      <td>10</td>\n",
       "    </tr>\n",
       "    <tr>\n",
       "      <th>1</th>\n",
       "      <td>2023-06-14 14:45:30</td>\n",
       "      <td>20</td>\n",
       "    </tr>\n",
       "    <tr>\n",
       "      <th>2</th>\n",
       "      <td>2023-06-14 18:20:15</td>\n",
       "      <td>30</td>\n",
       "    </tr>\n",
       "  </tbody>\n",
       "</table>\n",
       "</div>"
      ],
      "text/plain": [
       "                  Date  Value\n",
       "0  2023-06-14 12:30:45     10\n",
       "1  2023-06-14 14:45:30     20\n",
       "2  2023-06-14 18:20:15     30"
      ]
     },
     "execution_count": 14,
     "metadata": {},
     "output_type": "execute_result"
    }
   ],
   "source": [
    "# Create a sample DataFrame with datetime data\n",
    "data = {\n",
    "    'Date': ['2023-06-14 12:30:45', '2023-06-14 14:45:30', '2023-06-14 18:20:15'],\n",
    "    'Value': [10, 20, 30]\n",
    "}\n",
    "df = pd.DataFrame(data)\n",
    "\n",
    "# Convert 'Date' column to datetime\n",
    "# df['Date'] = pd.to_datetime(df['Date'])\n",
    "df"
   ]
  },
  {
   "cell_type": "code",
   "execution_count": 15,
   "id": "18f6b139",
   "metadata": {},
   "outputs": [],
   "source": [
    "# Create a  DataFrame with datetime data\n",
    "data = {\n",
    "    'Date': ['2023-06-14 12:30:45', '2023-06-14 14:45:30', '2023-06-14 18:20:15'],\n",
    "    'Value': [10, 20, 30]\n",
    "}\n",
    "df = pd.DataFrame(data)\n",
    "\n"
   ]
  },
  {
   "cell_type": "code",
   "execution_count": 16,
   "id": "f8b25ab8",
   "metadata": {},
   "outputs": [
    {
     "data": {
      "text/html": [
       "<div>\n",
       "<style scoped>\n",
       "    .dataframe tbody tr th:only-of-type {\n",
       "        vertical-align: middle;\n",
       "    }\n",
       "\n",
       "    .dataframe tbody tr th {\n",
       "        vertical-align: top;\n",
       "    }\n",
       "\n",
       "    .dataframe thead th {\n",
       "        text-align: right;\n",
       "    }\n",
       "</style>\n",
       "<table border=\"1\" class=\"dataframe\">\n",
       "  <thead>\n",
       "    <tr style=\"text-align: right;\">\n",
       "      <th></th>\n",
       "      <th>Date</th>\n",
       "      <th>Value</th>\n",
       "    </tr>\n",
       "  </thead>\n",
       "  <tbody>\n",
       "    <tr>\n",
       "      <th>0</th>\n",
       "      <td>2023-06-14 12:30:45</td>\n",
       "      <td>10</td>\n",
       "    </tr>\n",
       "    <tr>\n",
       "      <th>1</th>\n",
       "      <td>2023-06-14 14:45:30</td>\n",
       "      <td>20</td>\n",
       "    </tr>\n",
       "    <tr>\n",
       "      <th>2</th>\n",
       "      <td>2023-06-14 18:20:15</td>\n",
       "      <td>30</td>\n",
       "    </tr>\n",
       "  </tbody>\n",
       "</table>\n",
       "</div>"
      ],
      "text/plain": [
       "                 Date  Value\n",
       "0 2023-06-14 12:30:45     10\n",
       "1 2023-06-14 14:45:30     20\n",
       "2 2023-06-14 18:20:15     30"
      ]
     },
     "execution_count": 16,
     "metadata": {},
     "output_type": "execute_result"
    }
   ],
   "source": [
    "# Convert 'Date' column to datetime\n",
    "df['Date'] = pd.to_datetime(df['Date'])\n",
    "df"
   ]
  },
  {
   "cell_type": "code",
   "execution_count": 17,
   "id": "bac68d69",
   "metadata": {},
   "outputs": [
    {
     "name": "stdout",
     "output_type": "stream",
     "text": [
      "<class 'pandas.core.frame.DataFrame'>\n",
      "RangeIndex: 3 entries, 0 to 2\n",
      "Data columns (total 2 columns):\n",
      " #   Column  Non-Null Count  Dtype         \n",
      "---  ------  --------------  -----         \n",
      " 0   Date    3 non-null      datetime64[ns]\n",
      " 1   Value   3 non-null      int64         \n",
      "dtypes: datetime64[ns](1), int64(1)\n",
      "memory usage: 176.0 bytes\n"
     ]
    }
   ],
   "source": [
    "df.info()"
   ]
  },
  {
   "cell_type": "code",
   "execution_count": 18,
   "id": "daf54759",
   "metadata": {},
   "outputs": [
    {
     "data": {
      "text/html": [
       "<div>\n",
       "<style scoped>\n",
       "    .dataframe tbody tr th:only-of-type {\n",
       "        vertical-align: middle;\n",
       "    }\n",
       "\n",
       "    .dataframe tbody tr th {\n",
       "        vertical-align: top;\n",
       "    }\n",
       "\n",
       "    .dataframe thead th {\n",
       "        text-align: right;\n",
       "    }\n",
       "</style>\n",
       "<table border=\"1\" class=\"dataframe\">\n",
       "  <thead>\n",
       "    <tr style=\"text-align: right;\">\n",
       "      <th></th>\n",
       "      <th>Date</th>\n",
       "      <th>Value</th>\n",
       "      <th>Timestamp</th>\n",
       "    </tr>\n",
       "  </thead>\n",
       "  <tbody>\n",
       "    <tr>\n",
       "      <th>0</th>\n",
       "      <td>2023-06-14 12:30:45</td>\n",
       "      <td>10</td>\n",
       "      <td>1.686746e+09</td>\n",
       "    </tr>\n",
       "    <tr>\n",
       "      <th>1</th>\n",
       "      <td>2023-06-14 14:45:30</td>\n",
       "      <td>20</td>\n",
       "      <td>1.686754e+09</td>\n",
       "    </tr>\n",
       "    <tr>\n",
       "      <th>2</th>\n",
       "      <td>2023-06-14 18:20:15</td>\n",
       "      <td>30</td>\n",
       "      <td>1.686767e+09</td>\n",
       "    </tr>\n",
       "  </tbody>\n",
       "</table>\n",
       "</div>"
      ],
      "text/plain": [
       "                 Date  Value     Timestamp\n",
       "0 2023-06-14 12:30:45     10  1.686746e+09\n",
       "1 2023-06-14 14:45:30     20  1.686754e+09\n",
       "2 2023-06-14 18:20:15     30  1.686767e+09"
      ]
     },
     "execution_count": 18,
     "metadata": {},
     "output_type": "execute_result"
    }
   ],
   "source": [
    "# Convert datetime to Unix timestamp\n",
    "df['Timestamp'] = df['Date'].apply(lambda x: x.timestamp())\n",
    "df"
   ]
  },
  {
   "cell_type": "code",
   "execution_count": 19,
   "id": "351e22fb",
   "metadata": {},
   "outputs": [
    {
     "data": {
      "text/html": [
       "<div>\n",
       "<style scoped>\n",
       "    .dataframe tbody tr th:only-of-type {\n",
       "        vertical-align: middle;\n",
       "    }\n",
       "\n",
       "    .dataframe tbody tr th {\n",
       "        vertical-align: top;\n",
       "    }\n",
       "\n",
       "    .dataframe thead th {\n",
       "        text-align: right;\n",
       "    }\n",
       "</style>\n",
       "<table border=\"1\" class=\"dataframe\">\n",
       "  <thead>\n",
       "    <tr style=\"text-align: right;\">\n",
       "      <th></th>\n",
       "      <th>Date</th>\n",
       "      <th>Value</th>\n",
       "      <th>Timestamp</th>\n",
       "      <th>Date_from_timestamp</th>\n",
       "    </tr>\n",
       "  </thead>\n",
       "  <tbody>\n",
       "    <tr>\n",
       "      <th>0</th>\n",
       "      <td>2023-06-14 12:30:45</td>\n",
       "      <td>10</td>\n",
       "      <td>1.686746e+09</td>\n",
       "      <td>2023-06-14 12:30:45</td>\n",
       "    </tr>\n",
       "    <tr>\n",
       "      <th>1</th>\n",
       "      <td>2023-06-14 14:45:30</td>\n",
       "      <td>20</td>\n",
       "      <td>1.686754e+09</td>\n",
       "      <td>2023-06-14 14:45:30</td>\n",
       "    </tr>\n",
       "    <tr>\n",
       "      <th>2</th>\n",
       "      <td>2023-06-14 18:20:15</td>\n",
       "      <td>30</td>\n",
       "      <td>1.686767e+09</td>\n",
       "      <td>2023-06-14 18:20:15</td>\n",
       "    </tr>\n",
       "  </tbody>\n",
       "</table>\n",
       "</div>"
      ],
      "text/plain": [
       "                 Date  Value     Timestamp Date_from_timestamp\n",
       "0 2023-06-14 12:30:45     10  1.686746e+09 2023-06-14 12:30:45\n",
       "1 2023-06-14 14:45:30     20  1.686754e+09 2023-06-14 14:45:30\n",
       "2 2023-06-14 18:20:15     30  1.686767e+09 2023-06-14 18:20:15"
      ]
     },
     "execution_count": 19,
     "metadata": {},
     "output_type": "execute_result"
    }
   ],
   "source": [
    "# Convert Unix timestamp back to datetime\n",
    "df['Date_from_timestamp'] = df['Timestamp'].apply(lambda x: pd.to_datetime(x, unit='s'))\n",
    "df"
   ]
  },
  {
   "cell_type": "code",
   "execution_count": 20,
   "id": "84dd4c0c",
   "metadata": {},
   "outputs": [
    {
     "name": "stdout",
     "output_type": "stream",
     "text": [
      "<class 'pandas.core.frame.DataFrame'>\n",
      "RangeIndex: 3 entries, 0 to 2\n",
      "Data columns (total 4 columns):\n",
      " #   Column               Non-Null Count  Dtype         \n",
      "---  ------               --------------  -----         \n",
      " 0   Date                 3 non-null      datetime64[ns]\n",
      " 1   Value                3 non-null      int64         \n",
      " 2   Timestamp            3 non-null      float64       \n",
      " 3   Date_from_timestamp  3 non-null      datetime64[ns]\n",
      "dtypes: datetime64[ns](2), float64(1), int64(1)\n",
      "memory usage: 224.0 bytes\n"
     ]
    }
   ],
   "source": [
    "df.info()"
   ]
  },
  {
   "cell_type": "markdown",
   "id": "35bc9a59",
   "metadata": {},
   "source": [
    "- The application of **timestamps** in data science and machine learning have specific applications, including time series forecasting, fraud detection, user behavior analysis, time-based recommendations, time-dependent predictive modeling, A/B testing, resource allocation, real-time analytics, and event streaming.\n",
    "- They enable accurate predictions, identify anomalies, personalize recommendations, analyze user behavior, optimize resource allocation, and process real-time data."
   ]
  },
  {
   "cell_type": "markdown",
   "id": "12bb0622",
   "metadata": {},
   "source": [
    "## Date Range <a class = 'anchor' id = drange></a>\n",
    "\n",
    "The **`date_range()`** function in pandas is used to generate a fixed frequency DatetimeIndex. It allows us to create a **range of dates** or **timestamps** based on a specified frequency.  \n",
    "\n",
    "   \n",
    "**`pd.date_range(start=None, end=None, periods=None, freq= \"D\", tz=None)\n",
    "`**  \n",
    "\n",
    "Parameters:\n",
    "- `start`: The starting date or timestamp of the range.\n",
    "- `end`: The ending date or timestamp of the range.\n",
    "- `periods`: The number of periods to generate. Either end or periods can be specified, but not both.  \n",
    "  \n",
    "\n",
    "- `freq`: The frequency at which to generate the dates. It can be a string or a pandas offset alias. Some common aliases include `'D'` for **daily**, `'H'` for **hourly**, `'M'` for **monthly**, `'Y'` for **yearly**, etc.\n",
    "     - We can also specify custom frequencies using the pandas offset strings, such as '`2H'` for every **2 hours**, `'W'` for **weekly**, `'MS'` for **month start**, `'B'` for **business days**, etc.  \n",
    "       \n",
    "\n",
    "- `tz`: The time zone for the generated dates. It can be a string representing a time zone name or a pytz timezone object.  \n",
    "For more information, please check the documentation [Here](https://pandas.pydata.org/docs/reference/api/pandas.date_range.html)."
   ]
  },
  {
   "cell_type": "code",
   "execution_count": 21,
   "id": "01a25b1e",
   "metadata": {},
   "outputs": [
    {
     "name": "stdout",
     "output_type": "stream",
     "text": [
      "DatetimeIndex(['2023-04-01', '2023-04-02', '2023-04-03', '2023-04-04',\n",
      "               '2023-04-05', '2023-04-06', '2023-04-07', '2023-04-08',\n",
      "               '2023-04-09', '2023-04-10'],\n",
      "              dtype='datetime64[ns]', freq='D')\n"
     ]
    }
   ],
   "source": [
    "# Generate a range of dates\n",
    "date_range = pd.date_range(start='2023-04-01', end='2023-04-10', freq='D')\n",
    "\n",
    "# Print the generated dates\n",
    "print(date_range)\n"
   ]
  },
  {
   "cell_type": "code",
   "execution_count": 22,
   "id": "1d02acab",
   "metadata": {},
   "outputs": [
    {
     "data": {
      "text/plain": [
       "DatetimeIndex(['2023-04-01', '2023-04-02', '2023-04-03', '2023-04-04',\n",
       "               '2023-04-05', '2023-04-06', '2023-04-07', '2023-04-08',\n",
       "               '2023-04-09', '2023-04-10'],\n",
       "              dtype='datetime64[ns]', freq='D')"
      ]
     },
     "execution_count": 22,
     "metadata": {},
     "output_type": "execute_result"
    }
   ],
   "source": [
    "pd.date_range(start = '2023-04-01', periods = 10)"
   ]
  },
  {
   "cell_type": "code",
   "execution_count": 23,
   "id": "ce9ff981",
   "metadata": {},
   "outputs": [
    {
     "data": {
      "text/plain": [
       "DatetimeIndex(['2023-12-31', '2024-12-31', '2025-12-31', '2026-12-31',\n",
       "               '2027-12-31'],\n",
       "              dtype='datetime64[ns]', freq='A-DEC')"
      ]
     },
     "execution_count": 23,
     "metadata": {},
     "output_type": "execute_result"
    }
   ],
   "source": [
    "# freq\n",
    "pd.date_range(start = '04-01-2023',periods = 5,freq  = 'Y' )  # here alias is 'Y' year"
   ]
  },
  {
   "cell_type": "code",
   "execution_count": 24,
   "id": "832fcc87",
   "metadata": {},
   "outputs": [
    {
     "data": {
      "text/plain": [
       "DatetimeIndex(['2023-04-01 00:00:00', '2023-04-01 05:00:00',\n",
       "               '2023-04-01 10:00:00', '2023-04-01 15:00:00',\n",
       "               '2023-04-01 20:00:00'],\n",
       "              dtype='datetime64[ns]', freq='5H')"
      ]
     },
     "execution_count": 24,
     "metadata": {},
     "output_type": "execute_result"
    }
   ],
   "source": [
    "#  \n",
    "pd.date_range(start = '04-01-2023',periods = 5,freq  = '5H' )  # here alias is '5H', 5 hours"
   ]
  },
  {
   "cell_type": "code",
   "execution_count": 25,
   "id": "a46bcae6",
   "metadata": {},
   "outputs": [
    {
     "data": {
      "text/plain": [
       "DatetimeIndex(['2023-12-31 00:00:00+05:30', '2024-12-31 00:00:00+05:30',\n",
       "               '2025-12-31 00:00:00+05:30', '2026-12-31 00:00:00+05:30',\n",
       "               '2027-12-31 00:00:00+05:30'],\n",
       "              dtype='datetime64[ns, Asia/Kolkata]', freq='A-DEC')"
      ]
     },
     "execution_count": 25,
     "metadata": {},
     "output_type": "execute_result"
    }
   ],
   "source": [
    "# time aware date --> Let's fix time zone \"Asia/Kolkata\"\n",
    "pd.date_range(start = '04-01-2023',periods = 5,freq  = 'Y' , tz = 'Asia/Kolkata')  # here alias is 'Y' year"
   ]
  },
  {
   "cell_type": "code",
   "execution_count": 26,
   "id": "45b57d3b",
   "metadata": {},
   "outputs": [
    {
     "data": {
      "text/plain": [
       "DatetimeIndex(['2023-12-31 00:00:00-05:00', '2024-12-31 00:00:00-05:00',\n",
       "               '2025-12-31 00:00:00-05:00', '2026-12-31 00:00:00-05:00',\n",
       "               '2027-12-31 00:00:00-05:00'],\n",
       "              dtype='datetime64[ns, US/Eastern]', freq='A-DEC')"
      ]
     },
     "execution_count": 26,
     "metadata": {},
     "output_type": "execute_result"
    }
   ],
   "source": [
    "# time aware date --> Let's fix time zone \"US/Eastern\"\n",
    "pd.date_range(start = '04-01-2023', periods = 5, freq = 'Y', tz = \"US/Eastern\")"
   ]
  },
  {
   "cell_type": "markdown",
   "id": "3b922a2d",
   "metadata": {},
   "source": [
    "## Resample  <a class = 'anchor' id = resample></a>\n",
    "\n",
    "- The `resample()` function in pandas is used to **resample time-series data**. \n",
    "- It allows you to change the frequency of your data, aggregate  it, or apply other transformations (mean, median,sum, max, min, std and etc.)."
   ]
  },
  {
   "cell_type": "code",
   "execution_count": 27,
   "id": "5f1a6132",
   "metadata": {},
   "outputs": [
    {
     "name": "stdout",
     "output_type": "stream",
     "text": [
      "The shape of the data :  (200, 2)\n"
     ]
    },
    {
     "data": {
      "text/html": [
       "<div>\n",
       "<style scoped>\n",
       "    .dataframe tbody tr th:only-of-type {\n",
       "        vertical-align: middle;\n",
       "    }\n",
       "\n",
       "    .dataframe tbody tr th {\n",
       "        vertical-align: top;\n",
       "    }\n",
       "\n",
       "    .dataframe thead th {\n",
       "        text-align: right;\n",
       "    }\n",
       "</style>\n",
       "<table border=\"1\" class=\"dataframe\">\n",
       "  <thead>\n",
       "    <tr style=\"text-align: right;\">\n",
       "      <th></th>\n",
       "      <th>Date</th>\n",
       "      <th>Value</th>\n",
       "    </tr>\n",
       "  </thead>\n",
       "  <tbody>\n",
       "    <tr>\n",
       "      <th>0</th>\n",
       "      <td>2023-03-03</td>\n",
       "      <td>10</td>\n",
       "    </tr>\n",
       "    <tr>\n",
       "      <th>1</th>\n",
       "      <td>2023-03-04</td>\n",
       "      <td>11</td>\n",
       "    </tr>\n",
       "    <tr>\n",
       "      <th>2</th>\n",
       "      <td>2023-03-05</td>\n",
       "      <td>12</td>\n",
       "    </tr>\n",
       "    <tr>\n",
       "      <th>3</th>\n",
       "      <td>2023-03-06</td>\n",
       "      <td>13</td>\n",
       "    </tr>\n",
       "    <tr>\n",
       "      <th>4</th>\n",
       "      <td>2023-03-07</td>\n",
       "      <td>14</td>\n",
       "    </tr>\n",
       "  </tbody>\n",
       "</table>\n",
       "</div>"
      ],
      "text/plain": [
       "        Date  Value\n",
       "0 2023-03-03     10\n",
       "1 2023-03-04     11\n",
       "2 2023-03-05     12\n",
       "3 2023-03-06     13\n",
       "4 2023-03-07     14"
      ]
     },
     "execution_count": 27,
     "metadata": {},
     "output_type": "execute_result"
    }
   ],
   "source": [
    "# creating dataframe\n",
    "\n",
    "data = {\"Date\" : pd.date_range(start = '3 March 2023', periods = 200, freq = \"D\"),\n",
    "       \"Value\" : range(10,210)}\n",
    "\n",
    "df = pd.DataFrame(data)\n",
    "\n",
    "print(\"The shape of the data : \",df.shape)\n",
    "df.head()"
   ]
  },
  {
   "cell_type": "code",
   "execution_count": 28,
   "id": "12840d1d",
   "metadata": {},
   "outputs": [
    {
     "data": {
      "text/html": [
       "<div>\n",
       "<style scoped>\n",
       "    .dataframe tbody tr th:only-of-type {\n",
       "        vertical-align: middle;\n",
       "    }\n",
       "\n",
       "    .dataframe tbody tr th {\n",
       "        vertical-align: top;\n",
       "    }\n",
       "\n",
       "    .dataframe thead th {\n",
       "        text-align: right;\n",
       "    }\n",
       "</style>\n",
       "<table border=\"1\" class=\"dataframe\">\n",
       "  <thead>\n",
       "    <tr style=\"text-align: right;\">\n",
       "      <th></th>\n",
       "      <th>Value</th>\n",
       "    </tr>\n",
       "    <tr>\n",
       "      <th>Date</th>\n",
       "      <th></th>\n",
       "    </tr>\n",
       "  </thead>\n",
       "  <tbody>\n",
       "    <tr>\n",
       "      <th>2023-03-31</th>\n",
       "      <td>24.0</td>\n",
       "    </tr>\n",
       "    <tr>\n",
       "      <th>2023-04-30</th>\n",
       "      <td>53.5</td>\n",
       "    </tr>\n",
       "    <tr>\n",
       "      <th>2023-05-31</th>\n",
       "      <td>84.0</td>\n",
       "    </tr>\n",
       "    <tr>\n",
       "      <th>2023-06-30</th>\n",
       "      <td>114.5</td>\n",
       "    </tr>\n",
       "    <tr>\n",
       "      <th>2023-07-31</th>\n",
       "      <td>145.0</td>\n",
       "    </tr>\n",
       "    <tr>\n",
       "      <th>2023-08-31</th>\n",
       "      <td>176.0</td>\n",
       "    </tr>\n",
       "    <tr>\n",
       "      <th>2023-09-30</th>\n",
       "      <td>200.5</td>\n",
       "    </tr>\n",
       "  </tbody>\n",
       "</table>\n",
       "</div>"
      ],
      "text/plain": [
       "            Value\n",
       "Date             \n",
       "2023-03-31   24.0\n",
       "2023-04-30   53.5\n",
       "2023-05-31   84.0\n",
       "2023-06-30  114.5\n",
       "2023-07-31  145.0\n",
       "2023-08-31  176.0\n",
       "2023-09-30  200.5"
      ]
     },
     "execution_count": 28,
     "metadata": {},
     "output_type": "execute_result"
    }
   ],
   "source": [
    "# Resample the DataFrame to a monthly frequency and calculate the mean\n",
    "df_resampled_mean = df.resample('M',on = 'Date').mean()\n",
    "df_resampled_mean"
   ]
  },
  {
   "cell_type": "code",
   "execution_count": 29,
   "id": "13391af7",
   "metadata": {},
   "outputs": [
    {
     "data": {
      "text/html": [
       "<div>\n",
       "<style scoped>\n",
       "    .dataframe tbody tr th:only-of-type {\n",
       "        vertical-align: middle;\n",
       "    }\n",
       "\n",
       "    .dataframe tbody tr th {\n",
       "        vertical-align: top;\n",
       "    }\n",
       "\n",
       "    .dataframe thead th {\n",
       "        text-align: right;\n",
       "    }\n",
       "</style>\n",
       "<table border=\"1\" class=\"dataframe\">\n",
       "  <thead>\n",
       "    <tr style=\"text-align: right;\">\n",
       "      <th></th>\n",
       "      <th>Value</th>\n",
       "    </tr>\n",
       "    <tr>\n",
       "      <th>Date</th>\n",
       "      <th></th>\n",
       "    </tr>\n",
       "  </thead>\n",
       "  <tbody>\n",
       "    <tr>\n",
       "      <th>2023-03-31</th>\n",
       "      <td>24.0</td>\n",
       "    </tr>\n",
       "    <tr>\n",
       "      <th>2023-04-30</th>\n",
       "      <td>53.5</td>\n",
       "    </tr>\n",
       "    <tr>\n",
       "      <th>2023-05-31</th>\n",
       "      <td>84.0</td>\n",
       "    </tr>\n",
       "    <tr>\n",
       "      <th>2023-06-30</th>\n",
       "      <td>114.5</td>\n",
       "    </tr>\n",
       "    <tr>\n",
       "      <th>2023-07-31</th>\n",
       "      <td>145.0</td>\n",
       "    </tr>\n",
       "    <tr>\n",
       "      <th>2023-08-31</th>\n",
       "      <td>176.0</td>\n",
       "    </tr>\n",
       "    <tr>\n",
       "      <th>2023-09-30</th>\n",
       "      <td>200.5</td>\n",
       "    </tr>\n",
       "  </tbody>\n",
       "</table>\n",
       "</div>"
      ],
      "text/plain": [
       "            Value\n",
       "Date             \n",
       "2023-03-31   24.0\n",
       "2023-04-30   53.5\n",
       "2023-05-31   84.0\n",
       "2023-06-30  114.5\n",
       "2023-07-31  145.0\n",
       "2023-08-31  176.0\n",
       "2023-09-30  200.5"
      ]
     },
     "execution_count": 29,
     "metadata": {},
     "output_type": "execute_result"
    }
   ],
   "source": [
    "df_resampled_median = df.resample('M', on = 'Date').median()\n",
    "df_resampled_median"
   ]
  },
  {
   "cell_type": "code",
   "execution_count": 30,
   "id": "99a03100",
   "metadata": {},
   "outputs": [
    {
     "data": {
      "text/html": [
       "<div>\n",
       "<style scoped>\n",
       "    .dataframe tbody tr th:only-of-type {\n",
       "        vertical-align: middle;\n",
       "    }\n",
       "\n",
       "    .dataframe tbody tr th {\n",
       "        vertical-align: top;\n",
       "    }\n",
       "\n",
       "    .dataframe thead th {\n",
       "        text-align: right;\n",
       "    }\n",
       "</style>\n",
       "<table border=\"1\" class=\"dataframe\">\n",
       "  <thead>\n",
       "    <tr style=\"text-align: right;\">\n",
       "      <th></th>\n",
       "      <th>Value</th>\n",
       "    </tr>\n",
       "    <tr>\n",
       "      <th>Date</th>\n",
       "      <th></th>\n",
       "    </tr>\n",
       "  </thead>\n",
       "  <tbody>\n",
       "    <tr>\n",
       "      <th>2023-03-05</th>\n",
       "      <td>11.0</td>\n",
       "    </tr>\n",
       "    <tr>\n",
       "      <th>2023-03-12</th>\n",
       "      <td>16.0</td>\n",
       "    </tr>\n",
       "    <tr>\n",
       "      <th>2023-03-19</th>\n",
       "      <td>23.0</td>\n",
       "    </tr>\n",
       "    <tr>\n",
       "      <th>2023-03-26</th>\n",
       "      <td>30.0</td>\n",
       "    </tr>\n",
       "    <tr>\n",
       "      <th>2023-04-02</th>\n",
       "      <td>37.0</td>\n",
       "    </tr>\n",
       "    <tr>\n",
       "      <th>2023-04-09</th>\n",
       "      <td>44.0</td>\n",
       "    </tr>\n",
       "    <tr>\n",
       "      <th>2023-04-16</th>\n",
       "      <td>51.0</td>\n",
       "    </tr>\n",
       "    <tr>\n",
       "      <th>2023-04-23</th>\n",
       "      <td>58.0</td>\n",
       "    </tr>\n",
       "    <tr>\n",
       "      <th>2023-04-30</th>\n",
       "      <td>65.0</td>\n",
       "    </tr>\n",
       "    <tr>\n",
       "      <th>2023-05-07</th>\n",
       "      <td>72.0</td>\n",
       "    </tr>\n",
       "    <tr>\n",
       "      <th>2023-05-14</th>\n",
       "      <td>79.0</td>\n",
       "    </tr>\n",
       "    <tr>\n",
       "      <th>2023-05-21</th>\n",
       "      <td>86.0</td>\n",
       "    </tr>\n",
       "    <tr>\n",
       "      <th>2023-05-28</th>\n",
       "      <td>93.0</td>\n",
       "    </tr>\n",
       "    <tr>\n",
       "      <th>2023-06-04</th>\n",
       "      <td>100.0</td>\n",
       "    </tr>\n",
       "    <tr>\n",
       "      <th>2023-06-11</th>\n",
       "      <td>107.0</td>\n",
       "    </tr>\n",
       "    <tr>\n",
       "      <th>2023-06-18</th>\n",
       "      <td>114.0</td>\n",
       "    </tr>\n",
       "    <tr>\n",
       "      <th>2023-06-25</th>\n",
       "      <td>121.0</td>\n",
       "    </tr>\n",
       "    <tr>\n",
       "      <th>2023-07-02</th>\n",
       "      <td>128.0</td>\n",
       "    </tr>\n",
       "    <tr>\n",
       "      <th>2023-07-09</th>\n",
       "      <td>135.0</td>\n",
       "    </tr>\n",
       "    <tr>\n",
       "      <th>2023-07-16</th>\n",
       "      <td>142.0</td>\n",
       "    </tr>\n",
       "    <tr>\n",
       "      <th>2023-07-23</th>\n",
       "      <td>149.0</td>\n",
       "    </tr>\n",
       "    <tr>\n",
       "      <th>2023-07-30</th>\n",
       "      <td>156.0</td>\n",
       "    </tr>\n",
       "    <tr>\n",
       "      <th>2023-08-06</th>\n",
       "      <td>163.0</td>\n",
       "    </tr>\n",
       "    <tr>\n",
       "      <th>2023-08-13</th>\n",
       "      <td>170.0</td>\n",
       "    </tr>\n",
       "    <tr>\n",
       "      <th>2023-08-20</th>\n",
       "      <td>177.0</td>\n",
       "    </tr>\n",
       "    <tr>\n",
       "      <th>2023-08-27</th>\n",
       "      <td>184.0</td>\n",
       "    </tr>\n",
       "    <tr>\n",
       "      <th>2023-09-03</th>\n",
       "      <td>191.0</td>\n",
       "    </tr>\n",
       "    <tr>\n",
       "      <th>2023-09-10</th>\n",
       "      <td>198.0</td>\n",
       "    </tr>\n",
       "    <tr>\n",
       "      <th>2023-09-17</th>\n",
       "      <td>205.0</td>\n",
       "    </tr>\n",
       "    <tr>\n",
       "      <th>2023-09-24</th>\n",
       "      <td>209.0</td>\n",
       "    </tr>\n",
       "  </tbody>\n",
       "</table>\n",
       "</div>"
      ],
      "text/plain": [
       "            Value\n",
       "Date             \n",
       "2023-03-05   11.0\n",
       "2023-03-12   16.0\n",
       "2023-03-19   23.0\n",
       "2023-03-26   30.0\n",
       "2023-04-02   37.0\n",
       "2023-04-09   44.0\n",
       "2023-04-16   51.0\n",
       "2023-04-23   58.0\n",
       "2023-04-30   65.0\n",
       "2023-05-07   72.0\n",
       "2023-05-14   79.0\n",
       "2023-05-21   86.0\n",
       "2023-05-28   93.0\n",
       "2023-06-04  100.0\n",
       "2023-06-11  107.0\n",
       "2023-06-18  114.0\n",
       "2023-06-25  121.0\n",
       "2023-07-02  128.0\n",
       "2023-07-09  135.0\n",
       "2023-07-16  142.0\n",
       "2023-07-23  149.0\n",
       "2023-07-30  156.0\n",
       "2023-08-06  163.0\n",
       "2023-08-13  170.0\n",
       "2023-08-20  177.0\n",
       "2023-08-27  184.0\n",
       "2023-09-03  191.0\n",
       "2023-09-10  198.0\n",
       "2023-09-17  205.0\n",
       "2023-09-24  209.0"
      ]
     },
     "execution_count": 30,
     "metadata": {},
     "output_type": "execute_result"
    }
   ],
   "source": [
    "# we can resample the data on \"weekly\"\n",
    "df_resampled_median1 = df.resample('W', on = 'Date').median()\n",
    "df_resampled_median1"
   ]
  },
  {
   "cell_type": "markdown",
   "id": "98e6caf6",
   "metadata": {},
   "source": [
    "The **`resample()`** method in pandas has several useful applications for working with time-series data. Here are some common applications of the **`resample()`** method :\n",
    "- **Changing the Frequency**: Adjust the frequency of time-series data (upsampling or downsampling).\n",
    "- **Aggregating Data**: Calculate summary statistics over specific time intervals.\n",
    "- **Handling Missing Data**: Fill or interpolate missing values in the time-series.\n",
    "- **Time-Series Plotting**: Downsample data for better visualization.\n",
    "- **Grouping and Aggregating by Time**: Perform complex operations on grouped time-series data."
   ]
  },
  {
   "cell_type": "markdown",
   "id": "2a806ccc",
   "metadata": {},
   "source": [
    "# 4.Introduction to Rolling Operations <a class = 'anchor' id = roll_intro></a>\n",
    "The rolling operations are useful for calculating rolling statistics or aggregations, such as **rolling mean, rolling sum, rolling standard deviation, etc**. These operations allow you to analyze data **trends** over time or **to smooth out noisy data** by calculating aggregated values over a specified window."
   ]
  },
  {
   "cell_type": "markdown",
   "id": "f05234ad",
   "metadata": {},
   "source": [
    "\n",
    "- Rolling operations in pandas refer to performing calculations over a sliding window of data points in a time series or a moving window of data points in a numerical series. The `rolling()` function in pandas is used to perform rolling operations on a pandas dataframe or a pandas series.\n",
    "- The `rolling()` function generates a rolling object which can be used to apply various mathematical and statistical functions over a rolling window of data points. The size of the rolling window can be specified using the window parameter of the `rolling()` function.\n",
    "- We can then apply various aggregation functions, such as **`mean()`, `sum()`, `std()`, `min()`, `max()`**, etc., to the Rolling object to compute the desired rolling statistic.\n",
    "#### Rolling Sum <a class = 'anchor' id = 'rsum'></a>\n",
    "The rolling sum is the sum of the values in a rolling window. The `rolling()` function in pandas can be used to calculate the rolling sum of a pandas series or a pandas dataframe."
   ]
  },
  {
   "cell_type": "code",
   "execution_count": 31,
   "id": "1fb9adf9",
   "metadata": {},
   "outputs": [
    {
     "data": {
      "text/plain": [
       "0      NaN\n",
       "1      NaN\n",
       "2     60.0\n",
       "3     90.0\n",
       "4    120.0\n",
       "5    150.0\n",
       "dtype: float64"
      ]
     },
     "execution_count": 31,
     "metadata": {},
     "output_type": "execute_result"
    }
   ],
   "source": [
    "# create a pandas series\n",
    "data = pd.Series([10, 20, 30, 40, 50, 60])\n",
    "\n",
    "# calculate the rolling sum with window size 3\n",
    "rolling_sum = data.rolling(window=3).sum()\n",
    "\n",
    "rolling_sum"
   ]
  },
  {
   "cell_type": "markdown",
   "id": "f5da1a1c",
   "metadata": {},
   "source": [
    "- We first create a pandas series data with values `10, 20, 30, 40, 50`, and `60`. \n",
    "- We then use the rolling() function to calculate the rolling sum of the series with a window size of 3. \n",
    "- The resulting rolling sum is `[NaN, NaN, 60.0, 90.0, 120.0, 150.0]`."
   ]
  },
  {
   "cell_type": "markdown",
   "id": "806c22bc",
   "metadata": {},
   "source": [
    "#### Rolling Mean <a class = 'anchor' id = 'rmean'></a>\n",
    "The rolling mean is the mean of the values in a rolling window. The `rolling()` function in pandas can be used to calculate the rolling mean of a pandas series or a pandas dataframe."
   ]
  },
  {
   "cell_type": "code",
   "execution_count": 32,
   "id": "45ff1c7a",
   "metadata": {},
   "outputs": [
    {
     "name": "stdout",
     "output_type": "stream",
     "text": [
      "0     NaN\n",
      "1     NaN\n",
      "2    20.0\n",
      "3    30.0\n",
      "4    40.0\n",
      "5    50.0\n",
      "dtype: float64\n"
     ]
    }
   ],
   "source": [
    "# create a pandas series\n",
    "data = pd.Series([10, 20, 30, 40, 50, 60])\n",
    "\n",
    "# calculate the rolling sum with window size 3\n",
    "rolling_mean = data.rolling(window=3).mean()\n",
    "\n",
    "print(rolling_mean)"
   ]
  },
  {
   "cell_type": "markdown",
   "id": "e1d669d7",
   "metadata": {},
   "source": [
    "- We first create a pandas series data with values `10, 20, 30, 40, 50`, and `60`. \n",
    "- We then use the rolling() function to calculate the rolling mean of the series with a window size of 3. \n",
    "- The resulting rolling sum is `[NaN, NaN, 20,30,40,50]`."
   ]
  },
  {
   "cell_type": "markdown",
   "id": "7f2d5a11",
   "metadata": {},
   "source": [
    "#### Rolling Ranks <a class = 'anchor' id = 'rrank'></a>\n",
    "The rolling rank is the rank of the values in a rolling window. The `rolling()` function in pandas can be used to calculate the rolling rank of a pandas series or a pandas dataframe."
   ]
  },
  {
   "cell_type": "code",
   "execution_count": 33,
   "id": "d0b2e61b",
   "metadata": {},
   "outputs": [
    {
     "name": "stdout",
     "output_type": "stream",
     "text": [
      "0    NaN\n",
      "1    NaN\n",
      "2    3.0\n",
      "3    3.0\n",
      "4    3.0\n",
      "5    3.0\n",
      "dtype: float64\n"
     ]
    }
   ],
   "source": [
    "# create a pandas series\n",
    "data = pd.Series([10, 20, 30, 40, 50, 60])\n",
    "\n",
    "# calculate the rolling rank with window size 3\n",
    "rolling_rank = data.rolling(window=3).apply(lambda x: pd.Series(x).rank().values[-1])\n",
    "\n",
    "print(rolling_rank)"
   ]
  },
  {
   "cell_type": "markdown",
   "id": "0f708ede",
   "metadata": {},
   "source": [
    "- We first create a pandas series data with values `10, 20, 30, 40, 50, and 60`. We then use the `rolling()` function to calculate the rolling rank of the series with a window size of 3. \n",
    "- The `apply()` method is used to apply a **lambda function** that calculates the rank of the values in the rolling window and returns the last rank value. \n",
    "- The resulting rolling rank is `[NaN, NaN, 3.0, 3.0, 3.0, 3.0]`."
   ]
  },
  {
   "cell_type": "markdown",
   "id": "0b5e0cde",
   "metadata": {},
   "source": [
    "- Rolling operations in pandas are useful for analyzing time series and numerical data. The `rolling()` function in pandas can be used to calculate the `rolling sum`, `rolling rank`, and other **`rolling statistics`**. \n",
    "- By specifying the window size, we can control the size of the rolling window and the number of data points included in the rolling calculation."
   ]
  },
  {
   "cell_type": "markdown",
   "id": "5147687a",
   "metadata": {},
   "source": [
    "In the same way we can perform others rolling operations."
   ]
  },
  {
   "cell_type": "code",
   "execution_count": 34,
   "id": "6284728f",
   "metadata": {},
   "outputs": [
    {
     "data": {
      "text/plain": [
       "0      NaN\n",
       "1      NaN\n",
       "2     60.0\n",
       "3     90.0\n",
       "4    120.0\n",
       "5    150.0\n",
       "dtype: float64"
      ]
     },
     "execution_count": 34,
     "metadata": {},
     "output_type": "execute_result"
    }
   ],
   "source": [
    "# Calculate rolling sum with a window size of 3\n",
    "rolling_sum = data.rolling(window=3).sum()\n",
    "rolling_sum"
   ]
  },
  {
   "cell_type": "code",
   "execution_count": 35,
   "id": "97d44266",
   "metadata": {},
   "outputs": [
    {
     "name": "stdout",
     "output_type": "stream",
     "text": [
      "0          NaN\n",
      "1          NaN\n",
      "2          NaN\n",
      "3    12.909944\n",
      "4    12.909944\n",
      "5    12.909944\n",
      "dtype: float64\n"
     ]
    }
   ],
   "source": [
    "# Calculate rolling standard deviation with a window size of 4\n",
    "rolling_std = data.rolling(window=4).std()\n",
    "print(rolling_std)"
   ]
  },
  {
   "cell_type": "code",
   "execution_count": 36,
   "id": "98e4ef6e",
   "metadata": {},
   "outputs": [
    {
     "name": "stdout",
     "output_type": "stream",
     "text": [
      "0     NaN\n",
      "1    10.0\n",
      "2    20.0\n",
      "3    30.0\n",
      "4    40.0\n",
      "5    50.0\n",
      "dtype: float64\n"
     ]
    }
   ],
   "source": [
    "# Calculate rolling minimum with a window size of 2\n",
    "rolling_min = data.rolling(window=2).min()\n",
    "print(rolling_min)"
   ]
  },
  {
   "cell_type": "code",
   "execution_count": 37,
   "id": "5d817b93",
   "metadata": {},
   "outputs": [
    {
     "name": "stdout",
     "output_type": "stream",
     "text": [
      "0     NaN\n",
      "1     NaN\n",
      "2    30.0\n",
      "3    40.0\n",
      "4    50.0\n",
      "5    60.0\n",
      "dtype: float64\n"
     ]
    }
   ],
   "source": [
    "# Calculate rolling maximum with a window size of 3\n",
    "rolling_max = data.rolling(window=3).max()\n",
    "print(rolling_max)"
   ]
  },
  {
   "cell_type": "markdown",
   "id": "cd42f91c-a9d8-4646-871e-0243db669630",
   "metadata": {},
   "source": [
    "## Shifting and Lagging <a class = 'anchor' id = sl></a>  \n",
    "- A **`shifting`** method (or function) refers to the process of moving the values in a column or a time series (time dependent data points) by a specified number of periods. \n",
    "- It allows us to create new columns based on the shifted values of existing columns or perform calculations based on the lagged values of a time series."
   ]
  },
  {
   "cell_type": "markdown",
   "id": "05e163e7-ec50-456b-9e05-e6b56cb3d24d",
   "metadata": {},
   "source": [
    "- The **`shift()`** function in pandas is used to **shift** the values in a Series or DataFrame. It takes an optional parameter **periods** that specifies the number of periods to shift by.\n",
    "- If periods is **positive**, the values are **shifted forward** in time (down the column), while a **negative** value of **`periods` shifts the values backward** in time (up the column)."
   ]
  },
  {
   "cell_type": "code",
   "execution_count": 38,
   "id": "fc7a3e60-c005-4b15-8f87-57f124a0f5ea",
   "metadata": {},
   "outputs": [
    {
     "data": {
      "text/html": [
       "<div>\n",
       "<style scoped>\n",
       "    .dataframe tbody tr th:only-of-type {\n",
       "        vertical-align: middle;\n",
       "    }\n",
       "\n",
       "    .dataframe tbody tr th {\n",
       "        vertical-align: top;\n",
       "    }\n",
       "\n",
       "    .dataframe thead th {\n",
       "        text-align: right;\n",
       "    }\n",
       "</style>\n",
       "<table border=\"1\" class=\"dataframe\">\n",
       "  <thead>\n",
       "    <tr style=\"text-align: right;\">\n",
       "      <th></th>\n",
       "      <th>A</th>\n",
       "      <th>Shifted</th>\n",
       "    </tr>\n",
       "  </thead>\n",
       "  <tbody>\n",
       "    <tr>\n",
       "      <th>0</th>\n",
       "      <td>1</td>\n",
       "      <td>NaN</td>\n",
       "    </tr>\n",
       "    <tr>\n",
       "      <th>1</th>\n",
       "      <td>2</td>\n",
       "      <td>1.0</td>\n",
       "    </tr>\n",
       "    <tr>\n",
       "      <th>2</th>\n",
       "      <td>3</td>\n",
       "      <td>2.0</td>\n",
       "    </tr>\n",
       "    <tr>\n",
       "      <th>3</th>\n",
       "      <td>4</td>\n",
       "      <td>3.0</td>\n",
       "    </tr>\n",
       "    <tr>\n",
       "      <th>4</th>\n",
       "      <td>5</td>\n",
       "      <td>4.0</td>\n",
       "    </tr>\n",
       "  </tbody>\n",
       "</table>\n",
       "</div>"
      ],
      "text/plain": [
       "   A  Shifted\n",
       "0  1      NaN\n",
       "1  2      1.0\n",
       "2  3      2.0\n",
       "3  4      3.0\n",
       "4  5      4.0"
      ]
     },
     "execution_count": 38,
     "metadata": {},
     "output_type": "execute_result"
    }
   ],
   "source": [
    "import pandas as pd\n",
    "\n",
    "data = {'A': [1, 2, 3, 4, 5]}\n",
    "df = pd.DataFrame(data)\n",
    "\n",
    "# Shift values in column 'A' by 1 period forward\n",
    "df['Shifted'] = df['A'].shift(1)\n",
    "\n",
    "df"
   ]
  },
  {
   "cell_type": "markdown",
   "id": "fe3a74fc-02a8-4224-b4a3-b0a73e42877f",
   "metadata": {},
   "source": [
    "The values in column **`A`** are shifted by **1 period forward**, resulting in a new column **`'Shifted'`** where each value is the previous value of **`A`**."
   ]
  },
  {
   "cell_type": "code",
   "execution_count": 39,
   "id": "b1fb28ec-7b49-491b-a2df-9956ca4426cf",
   "metadata": {},
   "outputs": [
    {
     "data": {
      "text/html": [
       "<div>\n",
       "<style scoped>\n",
       "    .dataframe tbody tr th:only-of-type {\n",
       "        vertical-align: middle;\n",
       "    }\n",
       "\n",
       "    .dataframe tbody tr th {\n",
       "        vertical-align: top;\n",
       "    }\n",
       "\n",
       "    .dataframe thead th {\n",
       "        text-align: right;\n",
       "    }\n",
       "</style>\n",
       "<table border=\"1\" class=\"dataframe\">\n",
       "  <thead>\n",
       "    <tr style=\"text-align: right;\">\n",
       "      <th></th>\n",
       "      <th>A</th>\n",
       "      <th>Shifted</th>\n",
       "    </tr>\n",
       "  </thead>\n",
       "  <tbody>\n",
       "    <tr>\n",
       "      <th>0</th>\n",
       "      <td>1</td>\n",
       "      <td>NaN</td>\n",
       "    </tr>\n",
       "    <tr>\n",
       "      <th>1</th>\n",
       "      <td>2</td>\n",
       "      <td>NaN</td>\n",
       "    </tr>\n",
       "    <tr>\n",
       "      <th>2</th>\n",
       "      <td>3</td>\n",
       "      <td>1.0</td>\n",
       "    </tr>\n",
       "    <tr>\n",
       "      <th>3</th>\n",
       "      <td>4</td>\n",
       "      <td>2.0</td>\n",
       "    </tr>\n",
       "    <tr>\n",
       "      <th>4</th>\n",
       "      <td>5</td>\n",
       "      <td>3.0</td>\n",
       "    </tr>\n",
       "  </tbody>\n",
       "</table>\n",
       "</div>"
      ],
      "text/plain": [
       "   A  Shifted\n",
       "0  1      NaN\n",
       "1  2      NaN\n",
       "2  3      1.0\n",
       "3  4      2.0\n",
       "4  5      3.0"
      ]
     },
     "execution_count": 39,
     "metadata": {},
     "output_type": "execute_result"
    }
   ],
   "source": [
    "# Shift values in column 'A' by 2 period forward\n",
    "df['Shifted'] = df['A'].shift(2)\n",
    "df"
   ]
  },
  {
   "cell_type": "code",
   "execution_count": 40,
   "id": "b14501db-ec55-4d1c-81df-c428aed418ce",
   "metadata": {},
   "outputs": [
    {
     "data": {
      "text/html": [
       "<div>\n",
       "<style scoped>\n",
       "    .dataframe tbody tr th:only-of-type {\n",
       "        vertical-align: middle;\n",
       "    }\n",
       "\n",
       "    .dataframe tbody tr th {\n",
       "        vertical-align: top;\n",
       "    }\n",
       "\n",
       "    .dataframe thead th {\n",
       "        text-align: right;\n",
       "    }\n",
       "</style>\n",
       "<table border=\"1\" class=\"dataframe\">\n",
       "  <thead>\n",
       "    <tr style=\"text-align: right;\">\n",
       "      <th></th>\n",
       "      <th>A</th>\n",
       "      <th>Shifted</th>\n",
       "    </tr>\n",
       "  </thead>\n",
       "  <tbody>\n",
       "    <tr>\n",
       "      <th>0</th>\n",
       "      <td>1</td>\n",
       "      <td>2.0</td>\n",
       "    </tr>\n",
       "    <tr>\n",
       "      <th>1</th>\n",
       "      <td>2</td>\n",
       "      <td>3.0</td>\n",
       "    </tr>\n",
       "    <tr>\n",
       "      <th>2</th>\n",
       "      <td>3</td>\n",
       "      <td>4.0</td>\n",
       "    </tr>\n",
       "    <tr>\n",
       "      <th>3</th>\n",
       "      <td>4</td>\n",
       "      <td>5.0</td>\n",
       "    </tr>\n",
       "    <tr>\n",
       "      <th>4</th>\n",
       "      <td>5</td>\n",
       "      <td>NaN</td>\n",
       "    </tr>\n",
       "  </tbody>\n",
       "</table>\n",
       "</div>"
      ],
      "text/plain": [
       "   A  Shifted\n",
       "0  1      2.0\n",
       "1  2      3.0\n",
       "2  3      4.0\n",
       "3  4      5.0\n",
       "4  5      NaN"
      ]
     },
     "execution_count": 40,
     "metadata": {},
     "output_type": "execute_result"
    }
   ],
   "source": [
    "# Shift values in column 'A' by -1 period backwards\n",
    "df['Shifted'] = df['A'].shift(-1)\n",
    "df"
   ]
  },
  {
   "cell_type": "code",
   "execution_count": 41,
   "id": "29219999-9dc5-457e-a67f-e4cdcd9f947e",
   "metadata": {},
   "outputs": [
    {
     "data": {
      "text/html": [
       "<div>\n",
       "<style scoped>\n",
       "    .dataframe tbody tr th:only-of-type {\n",
       "        vertical-align: middle;\n",
       "    }\n",
       "\n",
       "    .dataframe tbody tr th {\n",
       "        vertical-align: top;\n",
       "    }\n",
       "\n",
       "    .dataframe thead th {\n",
       "        text-align: right;\n",
       "    }\n",
       "</style>\n",
       "<table border=\"1\" class=\"dataframe\">\n",
       "  <thead>\n",
       "    <tr style=\"text-align: right;\">\n",
       "      <th></th>\n",
       "      <th>A</th>\n",
       "      <th>Shifted</th>\n",
       "    </tr>\n",
       "  </thead>\n",
       "  <tbody>\n",
       "    <tr>\n",
       "      <th>0</th>\n",
       "      <td>1</td>\n",
       "      <td>3.0</td>\n",
       "    </tr>\n",
       "    <tr>\n",
       "      <th>1</th>\n",
       "      <td>2</td>\n",
       "      <td>4.0</td>\n",
       "    </tr>\n",
       "    <tr>\n",
       "      <th>2</th>\n",
       "      <td>3</td>\n",
       "      <td>5.0</td>\n",
       "    </tr>\n",
       "    <tr>\n",
       "      <th>3</th>\n",
       "      <td>4</td>\n",
       "      <td>NaN</td>\n",
       "    </tr>\n",
       "    <tr>\n",
       "      <th>4</th>\n",
       "      <td>5</td>\n",
       "      <td>NaN</td>\n",
       "    </tr>\n",
       "  </tbody>\n",
       "</table>\n",
       "</div>"
      ],
      "text/plain": [
       "   A  Shifted\n",
       "0  1      3.0\n",
       "1  2      4.0\n",
       "2  3      5.0\n",
       "3  4      NaN\n",
       "4  5      NaN"
      ]
     },
     "execution_count": 41,
     "metadata": {},
     "output_type": "execute_result"
    }
   ],
   "source": [
    "# Shift values in column 'A' by -2 period backwards \n",
    "df['Shifted'] = df['A'].shift(-2)\n",
    "df"
   ]
  },
  {
   "cell_type": "markdown",
   "id": "63a8d905-3fbb-469a-92c2-3de2ce2d85cc",
   "metadata": {},
   "source": [
    "Shifting and lagging in data science and machine learning are applied for **time series forecasting, feature engineering, and temporal analysis, allowing for prediction, extraction of informative features, and identification of patterns and trends in data**."
   ]
  },
  {
   "cell_type": "code",
   "execution_count": null,
   "id": "cfa87978",
   "metadata": {},
   "outputs": [],
   "source": []
  }
 ],
 "metadata": {
  "kernelspec": {
   "display_name": "Python 3 (ipykernel)",
   "language": "python",
   "name": "python3"
  },
  "language_info": {
   "codemirror_mode": {
    "name": "ipython",
    "version": 3
   },
   "file_extension": ".py",
   "mimetype": "text/x-python",
   "name": "python",
   "nbconvert_exporter": "python",
   "pygments_lexer": "ipython3",
   "version": "3.9.13"
  }
 },
 "nbformat": 4,
 "nbformat_minor": 5
}
