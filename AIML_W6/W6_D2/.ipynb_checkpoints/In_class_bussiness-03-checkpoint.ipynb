{
 "cells": [
  {
   "cell_type": "markdown",
   "id": "f3197659",
   "metadata": {},
   "source": [
    "# **Business Case Study: Analyzing Apple Stock Performance**\n",
    "![Image](https://www.cleverfiles.com/howto/wp-content/uploads/2018/04/apple-stock-price.jpg)"
   ]
  },
  {
   "cell_type": "markdown",
   "id": "36645888",
   "metadata": {},
   "source": [
    "This case study aims to analyze the performance of **Apple stock** over a specific period of time. By examining the historical data of Apple stock prices and trading volume, we can gain insights into its **`trends, volatility`**, and **`overall market performance`**. The analysis will include **handling dates, timezones, and Unix timestamps**, as well as conducting **rolling operations** and examining **shifting** and **lagging patterns**."
   ]
  },
  {
   "cell_type": "markdown",
   "id": "35039840",
   "metadata": {},
   "source": [
    "### Dataset\n",
    "The dataset used for this analysis contains the following columns:\n",
    "\n",
    "- **`Date`**: The date of the trading day.\n",
    "- **`Open`**: The opening price of Apple stock at the beginning of the trading day.\n",
    "- **`High`**: The highest price reached by Apple stock during the trading day.\n",
    "- **`Low`**: The lowest price reached by Apple stock during the trading day.\n",
    "- **`Close`**: The closing price of Apple stock at the end of the trading day.\n",
    "- **`Adj Close`**: The adjusted closing price of Apple stock, accounting for corporate actions.\n",
    "- **`Volume`**: The trading volume, representing the total number of shares traded during the trading day."
   ]
  },
  {
   "cell_type": "code",
   "execution_count": 2,
   "id": "97780e3a",
   "metadata": {},
   "outputs": [],
   "source": [
    "import pandas as pd"
   ]
  },
  {
   "cell_type": "code",
   "execution_count": 3,
   "id": "143b9e36",
   "metadata": {},
   "outputs": [
    {
     "data": {
      "text/html": [
       "<div>\n",
       "<style scoped>\n",
       "    .dataframe tbody tr th:only-of-type {\n",
       "        vertical-align: middle;\n",
       "    }\n",
       "\n",
       "    .dataframe tbody tr th {\n",
       "        vertical-align: top;\n",
       "    }\n",
       "\n",
       "    .dataframe thead th {\n",
       "        text-align: right;\n",
       "    }\n",
       "</style>\n",
       "<table border=\"1\" class=\"dataframe\">\n",
       "  <thead>\n",
       "    <tr style=\"text-align: right;\">\n",
       "      <th></th>\n",
       "      <th>Date</th>\n",
       "      <th>Open</th>\n",
       "      <th>High</th>\n",
       "      <th>Low</th>\n",
       "      <th>Close</th>\n",
       "      <th>Adj Close</th>\n",
       "      <th>Volume</th>\n",
       "    </tr>\n",
       "  </thead>\n",
       "  <tbody>\n",
       "    <tr>\n",
       "      <th>0</th>\n",
       "      <td>2021-06-21</td>\n",
       "      <td>130.300003</td>\n",
       "      <td>132.410004</td>\n",
       "      <td>129.210007</td>\n",
       "      <td>132.300003</td>\n",
       "      <td>130.767593</td>\n",
       "      <td>79663300</td>\n",
       "    </tr>\n",
       "    <tr>\n",
       "      <th>1</th>\n",
       "      <td>2021-06-22</td>\n",
       "      <td>132.130005</td>\n",
       "      <td>134.080002</td>\n",
       "      <td>131.619995</td>\n",
       "      <td>133.979996</td>\n",
       "      <td>132.428116</td>\n",
       "      <td>74783600</td>\n",
       "    </tr>\n",
       "    <tr>\n",
       "      <th>2</th>\n",
       "      <td>2021-06-23</td>\n",
       "      <td>133.770004</td>\n",
       "      <td>134.320007</td>\n",
       "      <td>133.229996</td>\n",
       "      <td>133.699997</td>\n",
       "      <td>132.151382</td>\n",
       "      <td>60214200</td>\n",
       "    </tr>\n",
       "    <tr>\n",
       "      <th>3</th>\n",
       "      <td>2021-06-24</td>\n",
       "      <td>134.449997</td>\n",
       "      <td>134.639999</td>\n",
       "      <td>132.929993</td>\n",
       "      <td>133.410004</td>\n",
       "      <td>131.864746</td>\n",
       "      <td>68711000</td>\n",
       "    </tr>\n",
       "    <tr>\n",
       "      <th>4</th>\n",
       "      <td>2021-06-25</td>\n",
       "      <td>133.460007</td>\n",
       "      <td>133.889999</td>\n",
       "      <td>132.809998</td>\n",
       "      <td>133.110001</td>\n",
       "      <td>131.568207</td>\n",
       "      <td>70783700</td>\n",
       "    </tr>\n",
       "  </tbody>\n",
       "</table>\n",
       "</div>"
      ],
      "text/plain": [
       "        Date        Open        High         Low       Close   Adj Close  \\\n",
       "0 2021-06-21  130.300003  132.410004  129.210007  132.300003  130.767593   \n",
       "1 2021-06-22  132.130005  134.080002  131.619995  133.979996  132.428116   \n",
       "2 2021-06-23  133.770004  134.320007  133.229996  133.699997  132.151382   \n",
       "3 2021-06-24  134.449997  134.639999  132.929993  133.410004  131.864746   \n",
       "4 2021-06-25  133.460007  133.889999  132.809998  133.110001  131.568207   \n",
       "\n",
       "     Volume  \n",
       "0  79663300  \n",
       "1  74783600  \n",
       "2  60214200  \n",
       "3  68711000  \n",
       "4  70783700  "
      ]
     },
     "execution_count": 3,
     "metadata": {},
     "output_type": "execute_result"
    }
   ],
   "source": [
    "apple = pd.read_csv('dataset/AAPL.csv',  parse_dates = True)\n",
    "apple['Date'] = pd.to_datetime(apple['Date'])\n",
    "apple.head()"
   ]
  },
  {
   "cell_type": "code",
   "execution_count": 4,
   "id": "a1d08bce",
   "metadata": {},
   "outputs": [
    {
     "name": "stdout",
     "output_type": "stream",
     "text": [
      "<class 'pandas.core.frame.DataFrame'>\n",
      "RangeIndex: 503 entries, 0 to 502\n",
      "Data columns (total 7 columns):\n",
      " #   Column     Non-Null Count  Dtype         \n",
      "---  ------     --------------  -----         \n",
      " 0   Date       503 non-null    datetime64[ns]\n",
      " 1   Open       503 non-null    float64       \n",
      " 2   High       503 non-null    float64       \n",
      " 3   Low        503 non-null    float64       \n",
      " 4   Close      503 non-null    float64       \n",
      " 5   Adj Close  503 non-null    float64       \n",
      " 6   Volume     503 non-null    int64         \n",
      "dtypes: datetime64[ns](1), float64(5), int64(1)\n",
      "memory usage: 27.6 KB\n"
     ]
    }
   ],
   "source": [
    "apple.info()"
   ]
  },
  {
   "cell_type": "markdown",
   "id": "06979982",
   "metadata": {},
   "source": [
    "## Q1. What was the highest closing price for Apple stock during the given period?"
   ]
  },
  {
   "cell_type": "code",
   "execution_count": null,
   "id": "dad535b4",
   "metadata": {},
   "outputs": [],
   "source": []
  },
  {
   "cell_type": "markdown",
   "id": "84b6ef68",
   "metadata": {},
   "source": [
    "<details>\n",
    "    <summary> Solution </summary>\n",
    "\n",
    "```python\n",
    "    \n",
    "    print(\"The highest closing price in given period : \",apple['Close'].max())\n",
    "\n",
    "```\n",
    "</details>"
   ]
  },
  {
   "cell_type": "code",
   "execution_count": null,
   "id": "2d9a34be",
   "metadata": {},
   "outputs": [],
   "source": []
  },
  {
   "cell_type": "markdown",
   "id": "d1ce72f1",
   "metadata": {},
   "source": [
    "## Q2. On which date did Apple stock have the highest trading volume?"
   ]
  },
  {
   "cell_type": "code",
   "execution_count": null,
   "id": "0b92fa0d",
   "metadata": {},
   "outputs": [],
   "source": []
  },
  {
   "cell_type": "markdown",
   "id": "2987e83b",
   "metadata": {},
   "source": [
    "<details>\n",
    "    <summary> Solution </summary>\n",
    "\n",
    "```python\n",
    "    \n",
    "print(\"Apple stock have the highest trading volume : \",apple[apple['Volume'].max() == apple['Volume']].Date.iloc[0].date())\n",
    "    \n",
    "```\n",
    "</details>"
   ]
  },
  {
   "cell_type": "code",
   "execution_count": null,
   "id": "321b637e",
   "metadata": {},
   "outputs": [],
   "source": []
  },
  {
   "cell_type": "markdown",
   "id": "ca67ebf5",
   "metadata": {},
   "source": [
    "## Q3. What was the average closing price of Apple stock during the month of July 2021 and 2022?"
   ]
  },
  {
   "cell_type": "code",
   "execution_count": null,
   "id": "05d80af1",
   "metadata": {},
   "outputs": [],
   "source": []
  },
  {
   "cell_type": "markdown",
   "id": "b41b4fca",
   "metadata": {},
   "source": [
    "<details>\n",
    "    <summary> Solution - 1 </summary>\n",
    "\n",
    "```python\n",
    "    \n",
    "july2021 = apple[(apple['Date'].dt.month == 7) & (apple['Date'].dt.year == 2021)]['Close'].mean()\n",
    "print(\"Average closing price in July 2021:\", round(july2021,2))\n",
    "    \n",
    "```\n",
    "</details>"
   ]
  },
  {
   "cell_type": "markdown",
   "id": "9e800f3e",
   "metadata": {},
   "source": [
    "<details>\n",
    "    <summary> Solution - 2 </summary>\n",
    "    \n",
    "```python\n",
    "    \n",
    "    july2022 = apple[(apple['Date'].dt.month == 7) & (apple['Date'].dt.year == 2022)]['Close'].mean()\n",
    "    print(\"Average closing price in July 2021:\", round(july2022,2))\n",
    "    \n",
    "```\n",
    "    \n",
    "</details>"
   ]
  },
  {
   "cell_type": "markdown",
   "id": "b26c292b",
   "metadata": {},
   "source": [
    "## Q4. How many times did the closing price exceed 140 during the given period?"
   ]
  },
  {
   "cell_type": "code",
   "execution_count": 5,
   "id": "d8c59df9",
   "metadata": {},
   "outputs": [
    {
     "name": "stdout",
     "output_type": "stream",
     "text": [
      "The closing price exceed 140 :  444\n"
     ]
    }
   ],
   "source": []
  },
  {
   "cell_type": "markdown",
   "id": "5fc40bcc",
   "metadata": {},
   "source": [
    "<details>\n",
    "    <summary> Solution </summary>\n",
    "    \n",
    "```python\n",
    "    \n",
    "    print(\"The closing price exceed 140 : \",apple[apple['Close'] > 140].shape[0])\n",
    "    \n",
    "```\n",
    "    \n",
    "</details>"
   ]
  },
  {
   "cell_type": "code",
   "execution_count": null,
   "id": "f77b5132",
   "metadata": {},
   "outputs": [],
   "source": []
  },
  {
   "cell_type": "markdown",
   "id": "d2f6634b",
   "metadata": {},
   "source": [
    "## Q5. What was the overall percentage change in the closing price from the first day to the last day of the dataset?"
   ]
  },
  {
   "cell_type": "code",
   "execution_count": null,
   "id": "4c2ac8db",
   "metadata": {},
   "outputs": [],
   "source": []
  },
  {
   "cell_type": "markdown",
   "id": "9da9142b",
   "metadata": {},
   "source": [
    "<details>\n",
    "    <summary> Solution </summary>\n",
    " \n",
    "```python\n",
    "    \n",
    "    change_per = ((apple['Close'].iloc[-1] - apple['Close'].iloc[0]) / apple['Close'].iloc[-1]) * 100\n",
    "    print(\"The overall percentage change in the closing price from the first day to the last day of the dataset : \",change_per)\n",
    "    \n",
    "```\n",
    "    \n",
    "</details>"
   ]
  },
  {
   "cell_type": "code",
   "execution_count": null,
   "id": "3d7f7a8b",
   "metadata": {},
   "outputs": [],
   "source": []
  },
  {
   "cell_type": "markdown",
   "id": "9ea2a1b5",
   "metadata": {},
   "source": [
    "## Q6. Which date had the largest difference between the highest and lowest prices?"
   ]
  },
  {
   "cell_type": "code",
   "execution_count": null,
   "id": "b7278575",
   "metadata": {},
   "outputs": [],
   "source": []
  },
  {
   "cell_type": "markdown",
   "id": "1fc73192",
   "metadata": {},
   "source": [
    "<details>\n",
    "    <summary> Solution </summary>\n",
    "    \n",
    "```python\n",
    "    \n",
    "date = apple[(apple['High'] - apple['Low'])==(apple['High'] - apple['Low']).max()].iloc[0,0]\n",
    "print(\"Date with the largest price difference:\", date)\n",
    "\n",
    "```\n",
    "</details>"
   ]
  },
  {
   "cell_type": "markdown",
   "id": "030c629f",
   "metadata": {},
   "source": [
    "## Q7. How many days did the closing price decrease compared to the previous day?"
   ]
  },
  {
   "cell_type": "code",
   "execution_count": null,
   "id": "8e30c8aa",
   "metadata": {},
   "outputs": [],
   "source": [
    "closing_price_decrease_days = data[data['Close'] < data['Close'].shift(1)]['Date'].count()\n",
    "print(\"Number of days with a decrease in closing price:\", closing_price_decrease_days)\n"
   ]
  },
  {
   "cell_type": "code",
   "execution_count": 68,
   "id": "18c8b94b",
   "metadata": {},
   "outputs": [
    {
     "data": {
      "text/plain": [
       "240"
      ]
     },
     "execution_count": 68,
     "metadata": {},
     "output_type": "execute_result"
    }
   ],
   "source": [
    "# apple[apple['Close'] < apple['Close'].shift(1)]['Date'].count()\n",
    "apple[apple['Close'] < apple['Close'].shift(1)]['Date'].shape[0]"
   ]
  },
  {
   "cell_type": "code",
   "execution_count": null,
   "id": "4566a6a6",
   "metadata": {},
   "outputs": [],
   "source": []
  },
  {
   "cell_type": "markdown",
   "id": "4019338a",
   "metadata": {},
   "source": [
    "## Q8. Calculate the 7-day rolling average of the closing price."
   ]
  },
  {
   "cell_type": "code",
   "execution_count": 73,
   "id": "4eca7fce",
   "metadata": {},
   "outputs": [
    {
     "data": {
      "text/plain": [
       "0             NaN\n",
       "1             NaN\n",
       "2             NaN\n",
       "3             NaN\n",
       "4             NaN\n",
       "          ...    \n",
       "498    180.748574\n",
       "499    181.372859\n",
       "500    182.344286\n",
       "501    183.358571\n",
       "502    183.992855\n",
       "Name: Close, Length: 503, dtype: float64"
      ]
     },
     "execution_count": 73,
     "metadata": {},
     "output_type": "execute_result"
    }
   ],
   "source": [
    "apple['Close'].rolling(7).mean()"
   ]
  },
  {
   "cell_type": "code",
   "execution_count": null,
   "id": "4c3a3393",
   "metadata": {},
   "outputs": [],
   "source": []
  },
  {
   "cell_type": "code",
   "execution_count": null,
   "id": "e272516a",
   "metadata": {},
   "outputs": [],
   "source": []
  },
  {
   "cell_type": "markdown",
   "id": "e1c82d37",
   "metadata": {},
   "source": [
    "## Q9. What was the maximum volume of shares traded on a single day during the given period?"
   ]
  },
  {
   "cell_type": "code",
   "execution_count": 75,
   "id": "4086d83c",
   "metadata": {},
   "outputs": [
    {
     "data": {
      "text/plain": [
       "195432700"
      ]
     },
     "execution_count": 75,
     "metadata": {},
     "output_type": "execute_result"
    }
   ],
   "source": [
    "apple['Volume'].max()"
   ]
  },
  {
   "cell_type": "code",
   "execution_count": null,
   "id": "e4466e8d",
   "metadata": {},
   "outputs": [],
   "source": []
  },
  {
   "cell_type": "code",
   "execution_count": null,
   "id": "78ce82af",
   "metadata": {},
   "outputs": [],
   "source": []
  },
  {
   "cell_type": "markdown",
   "id": "a1ae32d9",
   "metadata": {},
   "source": [
    "## Q10. Calculate the cumulative sum of the trading volume for each month."
   ]
  },
  {
   "cell_type": "code",
   "execution_count": 85,
   "id": "713f48bc",
   "metadata": {},
   "outputs": [],
   "source": [
    "cumulative_volume = apple.resample('M',on = 'Date')['Volume'].cumsum()\n",
    "\n"
   ]
  },
  {
   "cell_type": "code",
   "execution_count": 90,
   "id": "5cc9c15f",
   "metadata": {},
   "outputs": [],
   "source": [
    "# apple['Month'] = apple['Date'].dt.month\n",
    "# cumulative_volume = apple.groupby('Month')['Volume'].cumsum()\n",
    "# print(\"Cumulative sum of trading volume for each month:\")\n",
    "# # cumulative_volume[['Date', 'Volume', 'Month', 'CumulativeVolume']]\n",
    "# apple"
   ]
  },
  {
   "cell_type": "code",
   "execution_count": 82,
   "id": "b172ef24",
   "metadata": {},
   "outputs": [
    {
     "data": {
      "text/plain": [
       "0        79663300\n",
       "1       154446900\n",
       "2       214661100\n",
       "3       283372100\n",
       "4       354155800\n",
       "          ...    \n",
       "498    2881061200\n",
       "499    2938524100\n",
       "500    3003957300\n",
       "501    3105192900\n",
       "502    3154946100\n",
       "Name: Volume, Length: 503, dtype: int64"
      ]
     },
     "execution_count": 82,
     "metadata": {},
     "output_type": "execute_result"
    }
   ],
   "source": [
    "apple['Month'] = apple['Date'].dt.month\n",
    "apple.groupby('Month')['Volume'].cumsum()"
   ]
  },
  {
   "cell_type": "markdown",
   "id": "62fdd174",
   "metadata": {},
   "source": [
    "## Q11. How many times did the closing price increase for three consecutive days?"
   ]
  },
  {
   "cell_type": "code",
   "execution_count": null,
   "id": "5fcc72e7",
   "metadata": {},
   "outputs": [],
   "source": [
    "increase_3days = data[(data['Close'] > data['Close'].shift(1)) & (data['Close'].shift(1) > data['Close'].shift(2))]['Date'].count()\n",
    "\n"
   ]
  },
  {
   "cell_type": "code",
   "execution_count": 92,
   "id": "adb68f96",
   "metadata": {},
   "outputs": [
    {
     "data": {
      "text/plain": [
       "136"
      ]
     },
     "execution_count": 92,
     "metadata": {},
     "output_type": "execute_result"
    }
   ],
   "source": [
    "apple[(apple['Close'] > apple['Close'].shift(1)) & (apple['Close'].shift(1) > apple['Close'].shift(2))]['Date'].count()"
   ]
  },
  {
   "cell_type": "code",
   "execution_count": null,
   "id": "dad00082",
   "metadata": {},
   "outputs": [],
   "source": []
  },
  {
   "cell_type": "markdown",
   "id": "b11109e0",
   "metadata": {},
   "source": [
    "## Q12. What was the highest closing price among the days with above-average trading volume and which date?"
   ]
  },
  {
   "cell_type": "code",
   "execution_count": 100,
   "id": "2ce03978",
   "metadata": {},
   "outputs": [
    {
     "data": {
      "text/html": [
       "<div>\n",
       "<style scoped>\n",
       "    .dataframe tbody tr th:only-of-type {\n",
       "        vertical-align: middle;\n",
       "    }\n",
       "\n",
       "    .dataframe tbody tr th {\n",
       "        vertical-align: top;\n",
       "    }\n",
       "\n",
       "    .dataframe thead th {\n",
       "        text-align: right;\n",
       "    }\n",
       "</style>\n",
       "<table border=\"1\" class=\"dataframe\">\n",
       "  <thead>\n",
       "    <tr style=\"text-align: right;\">\n",
       "      <th></th>\n",
       "      <th>Date</th>\n",
       "      <th>Open</th>\n",
       "      <th>High</th>\n",
       "      <th>Low</th>\n",
       "      <th>Close</th>\n",
       "      <th>Adj Close</th>\n",
       "      <th>Volume</th>\n",
       "      <th>Month</th>\n",
       "    </tr>\n",
       "  </thead>\n",
       "  <tbody>\n",
       "    <tr>\n",
       "      <th>501</th>\n",
       "      <td>2023-06-16</td>\n",
       "      <td>186.729996</td>\n",
       "      <td>186.990005</td>\n",
       "      <td>184.270004</td>\n",
       "      <td>184.919998</td>\n",
       "      <td>184.919998</td>\n",
       "      <td>101235600</td>\n",
       "      <td>6</td>\n",
       "    </tr>\n",
       "  </tbody>\n",
       "</table>\n",
       "</div>"
      ],
      "text/plain": [
       "          Date        Open        High         Low       Close   Adj Close  \\\n",
       "501 2023-06-16  186.729996  186.990005  184.270004  184.919998  184.919998   \n",
       "\n",
       "        Volume  Month  \n",
       "501  101235600      6  "
      ]
     },
     "execution_count": 100,
     "metadata": {},
     "output_type": "execute_result"
    }
   ],
   "source": [
    "apple[apple[apple['Volume']> apple['Volume'].mean()]['Close'].max() == apple['Close']]"
   ]
  },
  {
   "cell_type": "code",
   "execution_count": null,
   "id": "9c87dccc",
   "metadata": {},
   "outputs": [],
   "source": []
  },
  {
   "cell_type": "code",
   "execution_count": null,
   "id": "21ebf01e",
   "metadata": {},
   "outputs": [],
   "source": []
  },
  {
   "cell_type": "markdown",
   "id": "72c13d41",
   "metadata": {},
   "source": [
    "## Q13. Calculate the 30-day rolling standard deviation of the closing price."
   ]
  },
  {
   "cell_type": "code",
   "execution_count": 103,
   "id": "61a177e3",
   "metadata": {},
   "outputs": [
    {
     "data": {
      "text/plain": [
       "0           NaN\n",
       "1           NaN\n",
       "2           NaN\n",
       "3           NaN\n",
       "4           NaN\n",
       "         ...   \n",
       "498    4.501286\n",
       "499    4.599591\n",
       "500    4.704241\n",
       "501    4.526658\n",
       "502    4.713061\n",
       "Name: Close, Length: 503, dtype: float64"
      ]
     },
     "execution_count": 103,
     "metadata": {},
     "output_type": "execute_result"
    }
   ],
   "source": [
    "apple['Close'].rolling(window = 30).std()"
   ]
  },
  {
   "cell_type": "code",
   "execution_count": null,
   "id": "621459ed",
   "metadata": {},
   "outputs": [],
   "source": []
  },
  {
   "cell_type": "code",
   "execution_count": null,
   "id": "c66123ce",
   "metadata": {},
   "outputs": [],
   "source": []
  },
  {
   "cell_type": "markdown",
   "id": "9ba49372",
   "metadata": {},
   "source": [
    "## Q14. How many days did the opening price exceed the closing price?"
   ]
  },
  {
   "cell_type": "code",
   "execution_count": 107,
   "id": "767fc8d6",
   "metadata": {},
   "outputs": [
    {
     "data": {
      "text/plain": [
       "224"
      ]
     },
     "execution_count": 107,
     "metadata": {},
     "output_type": "execute_result"
    }
   ],
   "source": [
    "apple[apple['Open'] > apple['Close']]['Close'].count()"
   ]
  },
  {
   "cell_type": "code",
   "execution_count": null,
   "id": "88de4289",
   "metadata": {},
   "outputs": [],
   "source": []
  },
  {
   "cell_type": "code",
   "execution_count": null,
   "id": "87907d72",
   "metadata": {},
   "outputs": [],
   "source": []
  },
  {
   "cell_type": "markdown",
   "id": "d16d0499",
   "metadata": {},
   "source": [
    "## Q15. Calculate the median closing price for each month."
   ]
  },
  {
   "cell_type": "code",
   "execution_count": 111,
   "id": "7a91678b",
   "metadata": {},
   "outputs": [
    {
     "data": {
      "text/html": [
       "<div>\n",
       "<style scoped>\n",
       "    .dataframe tbody tr th:only-of-type {\n",
       "        vertical-align: middle;\n",
       "    }\n",
       "\n",
       "    .dataframe tbody tr th {\n",
       "        vertical-align: top;\n",
       "    }\n",
       "\n",
       "    .dataframe thead th {\n",
       "        text-align: right;\n",
       "    }\n",
       "</style>\n",
       "<table border=\"1\" class=\"dataframe\">\n",
       "  <thead>\n",
       "    <tr style=\"text-align: right;\">\n",
       "      <th></th>\n",
       "      <th>Close</th>\n",
       "    </tr>\n",
       "    <tr>\n",
       "      <th>Date</th>\n",
       "      <th></th>\n",
       "    </tr>\n",
       "  </thead>\n",
       "  <tbody>\n",
       "    <tr>\n",
       "      <th>2021-06-30</th>\n",
       "      <td>133.839996</td>\n",
       "    </tr>\n",
       "    <tr>\n",
       "      <th>2021-07-31</th>\n",
       "      <td>145.639999</td>\n",
       "    </tr>\n",
       "    <tr>\n",
       "      <th>2021-08-31</th>\n",
       "      <td>147.864998</td>\n",
       "    </tr>\n",
       "    <tr>\n",
       "      <th>2021-09-30</th>\n",
       "      <td>148.119995</td>\n",
       "    </tr>\n",
       "    <tr>\n",
       "      <th>2021-10-31</th>\n",
       "      <td>144.839996</td>\n",
       "    </tr>\n",
       "    <tr>\n",
       "      <th>2021-11-30</th>\n",
       "      <td>151.279999</td>\n",
       "    </tr>\n",
       "    <tr>\n",
       "      <th>2021-12-31</th>\n",
       "      <td>174.820000</td>\n",
       "    </tr>\n",
       "    <tr>\n",
       "      <th>2022-01-31</th>\n",
       "      <td>172.084999</td>\n",
       "    </tr>\n",
       "    <tr>\n",
       "      <th>2022-02-28</th>\n",
       "      <td>171.660004</td>\n",
       "    </tr>\n",
       "    <tr>\n",
       "      <th>2022-03-31</th>\n",
       "      <td>163.979996</td>\n",
       "    </tr>\n",
       "    <tr>\n",
       "      <th>2022-04-30</th>\n",
       "      <td>166.824997</td>\n",
       "    </tr>\n",
       "    <tr>\n",
       "      <th>2022-05-31</th>\n",
       "      <td>147.110001</td>\n",
       "    </tr>\n",
       "    <tr>\n",
       "      <th>2022-06-30</th>\n",
       "      <td>138.270004</td>\n",
       "    </tr>\n",
       "    <tr>\n",
       "      <th>2022-07-31</th>\n",
       "      <td>149.319999</td>\n",
       "    </tr>\n",
       "    <tr>\n",
       "      <th>2022-08-31</th>\n",
       "      <td>167.229996</td>\n",
       "    </tr>\n",
       "    <tr>\n",
       "      <th>2022-09-30</th>\n",
       "      <td>153.839996</td>\n",
       "    </tr>\n",
       "    <tr>\n",
       "      <th>2022-10-31</th>\n",
       "      <td>143.860001</td>\n",
       "    </tr>\n",
       "    <tr>\n",
       "      <th>2022-11-30</th>\n",
       "      <td>148.029999</td>\n",
       "    </tr>\n",
       "    <tr>\n",
       "      <th>2022-12-31</th>\n",
       "      <td>136.500000</td>\n",
       "    </tr>\n",
       "    <tr>\n",
       "      <th>2023-01-31</th>\n",
       "      <td>135.240005</td>\n",
       "    </tr>\n",
       "    <tr>\n",
       "      <th>2023-02-28</th>\n",
       "      <td>151.009995</td>\n",
       "    </tr>\n",
       "    <tr>\n",
       "      <th>2023-03-31</th>\n",
       "      <td>155.000000</td>\n",
       "    </tr>\n",
       "    <tr>\n",
       "      <th>2023-04-30</th>\n",
       "      <td>165.229996</td>\n",
       "    </tr>\n",
       "    <tr>\n",
       "      <th>2023-05-31</th>\n",
       "      <td>172.840003</td>\n",
       "    </tr>\n",
       "    <tr>\n",
       "      <th>2023-06-30</th>\n",
       "      <td>180.960007</td>\n",
       "    </tr>\n",
       "  </tbody>\n",
       "</table>\n",
       "</div>"
      ],
      "text/plain": [
       "                 Close\n",
       "Date                  \n",
       "2021-06-30  133.839996\n",
       "2021-07-31  145.639999\n",
       "2021-08-31  147.864998\n",
       "2021-09-30  148.119995\n",
       "2021-10-31  144.839996\n",
       "2021-11-30  151.279999\n",
       "2021-12-31  174.820000\n",
       "2022-01-31  172.084999\n",
       "2022-02-28  171.660004\n",
       "2022-03-31  163.979996\n",
       "2022-04-30  166.824997\n",
       "2022-05-31  147.110001\n",
       "2022-06-30  138.270004\n",
       "2022-07-31  149.319999\n",
       "2022-08-31  167.229996\n",
       "2022-09-30  153.839996\n",
       "2022-10-31  143.860001\n",
       "2022-11-30  148.029999\n",
       "2022-12-31  136.500000\n",
       "2023-01-31  135.240005\n",
       "2023-02-28  151.009995\n",
       "2023-03-31  155.000000\n",
       "2023-04-30  165.229996\n",
       "2023-05-31  172.840003\n",
       "2023-06-30  180.960007"
      ]
     },
     "execution_count": 111,
     "metadata": {},
     "output_type": "execute_result"
    }
   ],
   "source": [
    "apple.resample('M',on = 'Date').median()[['Close']]"
   ]
  },
  {
   "cell_type": "code",
   "execution_count": null,
   "id": "a5017f6a",
   "metadata": {},
   "outputs": [],
   "source": []
  },
  {
   "cell_type": "code",
   "execution_count": null,
   "id": "912194f1",
   "metadata": {},
   "outputs": [],
   "source": []
  },
  {
   "cell_type": "markdown",
   "id": "bb313780",
   "metadata": {},
   "source": [
    "## Q16. What was the average percentage change in the closing price from one day to the next?"
   ]
  },
  {
   "cell_type": "code",
   "execution_count": 117,
   "id": "1ed4421f",
   "metadata": {},
   "outputs": [
    {
     "data": {
      "text/plain": [
       "1.4019172398664024"
      ]
     },
     "execution_count": 117,
     "metadata": {},
     "output_type": "execute_result"
    }
   ],
   "source": [
    "average_percent_change = ((((apple['Close'] - apple['Close'].shift(1)).abs())/apple['Close']) * 100).mean()\n"
   ]
  },
  {
   "cell_type": "code",
   "execution_count": null,
   "id": "e2703db1",
   "metadata": {},
   "outputs": [],
   "source": []
  },
  {
   "cell_type": "code",
   "execution_count": null,
   "id": "73a9a44f",
   "metadata": {},
   "outputs": [],
   "source": []
  },
  {
   "cell_type": "code",
   "execution_count": null,
   "id": "8863b91a",
   "metadata": {},
   "outputs": [],
   "source": []
  },
  {
   "cell_type": "markdown",
   "id": "5883b928",
   "metadata": {},
   "source": [
    "## Q17. Identify the top 5 days with the largest percentage increase in the closing price"
   ]
  },
  {
   "cell_type": "code",
   "execution_count": 125,
   "id": "a305c85e",
   "metadata": {},
   "outputs": [],
   "source": [
    "top5_day_value = ((((apple['Close'] - apple['Close'].shift(1)).abs())/apple['Close']) * 100).sort_values(ascending=False).head().iloc[-1]"
   ]
  },
  {
   "cell_type": "code",
   "execution_count": 126,
   "id": "10825cfc",
   "metadata": {},
   "outputs": [
    {
     "data": {
      "text/plain": [
       "5.979262591571944"
      ]
     },
     "execution_count": 126,
     "metadata": {},
     "output_type": "execute_result"
    }
   ],
   "source": [
    "top5_day_value"
   ]
  },
  {
   "cell_type": "code",
   "execution_count": 128,
   "id": "664789b0",
   "metadata": {},
   "outputs": [
    {
     "data": {
      "text/html": [
       "<div>\n",
       "<style scoped>\n",
       "    .dataframe tbody tr th:only-of-type {\n",
       "        vertical-align: middle;\n",
       "    }\n",
       "\n",
       "    .dataframe tbody tr th {\n",
       "        vertical-align: top;\n",
       "    }\n",
       "\n",
       "    .dataframe thead th {\n",
       "        text-align: right;\n",
       "    }\n",
       "</style>\n",
       "<table border=\"1\" class=\"dataframe\">\n",
       "  <thead>\n",
       "    <tr style=\"text-align: right;\">\n",
       "      <th></th>\n",
       "      <th>Date</th>\n",
       "      <th>Open</th>\n",
       "      <th>High</th>\n",
       "      <th>Low</th>\n",
       "      <th>Close</th>\n",
       "      <th>Adj Close</th>\n",
       "      <th>Volume</th>\n",
       "      <th>Month</th>\n",
       "      <th>Percentage_change</th>\n",
       "    </tr>\n",
       "  </thead>\n",
       "  <tbody>\n",
       "    <tr>\n",
       "      <th>0</th>\n",
       "      <td>2021-06-21</td>\n",
       "      <td>130.300003</td>\n",
       "      <td>132.410004</td>\n",
       "      <td>129.210007</td>\n",
       "      <td>132.300003</td>\n",
       "      <td>130.767593</td>\n",
       "      <td>79663300</td>\n",
       "      <td>6</td>\n",
       "      <td>NaN</td>\n",
       "    </tr>\n",
       "    <tr>\n",
       "      <th>1</th>\n",
       "      <td>2021-06-22</td>\n",
       "      <td>132.130005</td>\n",
       "      <td>134.080002</td>\n",
       "      <td>131.619995</td>\n",
       "      <td>133.979996</td>\n",
       "      <td>132.428116</td>\n",
       "      <td>74783600</td>\n",
       "      <td>6</td>\n",
       "      <td>1.253913</td>\n",
       "    </tr>\n",
       "    <tr>\n",
       "      <th>2</th>\n",
       "      <td>2021-06-23</td>\n",
       "      <td>133.770004</td>\n",
       "      <td>134.320007</td>\n",
       "      <td>133.229996</td>\n",
       "      <td>133.699997</td>\n",
       "      <td>132.151382</td>\n",
       "      <td>60214200</td>\n",
       "      <td>6</td>\n",
       "      <td>0.209423</td>\n",
       "    </tr>\n",
       "    <tr>\n",
       "      <th>3</th>\n",
       "      <td>2021-06-24</td>\n",
       "      <td>134.449997</td>\n",
       "      <td>134.639999</td>\n",
       "      <td>132.929993</td>\n",
       "      <td>133.410004</td>\n",
       "      <td>131.864746</td>\n",
       "      <td>68711000</td>\n",
       "      <td>6</td>\n",
       "      <td>0.217370</td>\n",
       "    </tr>\n",
       "    <tr>\n",
       "      <th>4</th>\n",
       "      <td>2021-06-25</td>\n",
       "      <td>133.460007</td>\n",
       "      <td>133.889999</td>\n",
       "      <td>132.809998</td>\n",
       "      <td>133.110001</td>\n",
       "      <td>131.568207</td>\n",
       "      <td>70783700</td>\n",
       "      <td>6</td>\n",
       "      <td>0.225380</td>\n",
       "    </tr>\n",
       "  </tbody>\n",
       "</table>\n",
       "</div>"
      ],
      "text/plain": [
       "        Date        Open        High         Low       Close   Adj Close  \\\n",
       "0 2021-06-21  130.300003  132.410004  129.210007  132.300003  130.767593   \n",
       "1 2021-06-22  132.130005  134.080002  131.619995  133.979996  132.428116   \n",
       "2 2021-06-23  133.770004  134.320007  133.229996  133.699997  132.151382   \n",
       "3 2021-06-24  134.449997  134.639999  132.929993  133.410004  131.864746   \n",
       "4 2021-06-25  133.460007  133.889999  132.809998  133.110001  131.568207   \n",
       "\n",
       "     Volume  Month  Percentage_change  \n",
       "0  79663300      6                NaN  \n",
       "1  74783600      6           1.253913  \n",
       "2  60214200      6           0.209423  \n",
       "3  68711000      6           0.217370  \n",
       "4  70783700      6           0.225380  "
      ]
     },
     "execution_count": 128,
     "metadata": {},
     "output_type": "execute_result"
    }
   ],
   "source": [
    "apple[\"Percentage_change\"] = ((((apple['Close'] - apple['Close'].shift(1)).abs())/apple['Close']) * 100)\n",
    "apple.head()"
   ]
  },
  {
   "cell_type": "code",
   "execution_count": 130,
   "id": "1827f439",
   "metadata": {},
   "outputs": [
    {
     "data": {
      "text/html": [
       "<div>\n",
       "<style scoped>\n",
       "    .dataframe tbody tr th:only-of-type {\n",
       "        vertical-align: middle;\n",
       "    }\n",
       "\n",
       "    .dataframe tbody tr th {\n",
       "        vertical-align: top;\n",
       "    }\n",
       "\n",
       "    .dataframe thead th {\n",
       "        text-align: right;\n",
       "    }\n",
       "</style>\n",
       "<table border=\"1\" class=\"dataframe\">\n",
       "  <thead>\n",
       "    <tr style=\"text-align: right;\">\n",
       "      <th></th>\n",
       "      <th>Date</th>\n",
       "      <th>Open</th>\n",
       "      <th>High</th>\n",
       "      <th>Low</th>\n",
       "      <th>Close</th>\n",
       "      <th>Adj Close</th>\n",
       "      <th>Volume</th>\n",
       "      <th>Month</th>\n",
       "      <th>Percentage_change</th>\n",
       "    </tr>\n",
       "  </thead>\n",
       "  <tbody>\n",
       "    <tr>\n",
       "      <th>154</th>\n",
       "      <td>2022-01-28</td>\n",
       "      <td>165.710007</td>\n",
       "      <td>170.350006</td>\n",
       "      <td>162.800003</td>\n",
       "      <td>170.330002</td>\n",
       "      <td>168.855423</td>\n",
       "      <td>179935700</td>\n",
       "      <td>1</td>\n",
       "      <td>6.522633</td>\n",
       "    </tr>\n",
       "    <tr>\n",
       "      <th>230</th>\n",
       "      <td>2022-05-18</td>\n",
       "      <td>146.850006</td>\n",
       "      <td>147.360001</td>\n",
       "      <td>139.899994</td>\n",
       "      <td>140.820007</td>\n",
       "      <td>139.984146</td>\n",
       "      <td>109742900</td>\n",
       "      <td>5</td>\n",
       "      <td>5.979263</td>\n",
       "    </tr>\n",
       "    <tr>\n",
       "      <th>310</th>\n",
       "      <td>2022-09-13</td>\n",
       "      <td>159.899994</td>\n",
       "      <td>160.539993</td>\n",
       "      <td>153.369995</td>\n",
       "      <td>153.839996</td>\n",
       "      <td>153.139252</td>\n",
       "      <td>122656600</td>\n",
       "      <td>9</td>\n",
       "      <td>6.233748</td>\n",
       "    </tr>\n",
       "    <tr>\n",
       "      <th>343</th>\n",
       "      <td>2022-10-28</td>\n",
       "      <td>148.199997</td>\n",
       "      <td>157.500000</td>\n",
       "      <td>147.820007</td>\n",
       "      <td>155.740005</td>\n",
       "      <td>155.030609</td>\n",
       "      <td>164762400</td>\n",
       "      <td>10</td>\n",
       "      <td>7.024529</td>\n",
       "    </tr>\n",
       "    <tr>\n",
       "      <th>352</th>\n",
       "      <td>2022-11-10</td>\n",
       "      <td>141.240005</td>\n",
       "      <td>146.869995</td>\n",
       "      <td>139.500000</td>\n",
       "      <td>146.869995</td>\n",
       "      <td>146.443527</td>\n",
       "      <td>118854000</td>\n",
       "      <td>11</td>\n",
       "      <td>8.170491</td>\n",
       "    </tr>\n",
       "  </tbody>\n",
       "</table>\n",
       "</div>"
      ],
      "text/plain": [
       "          Date        Open        High         Low       Close   Adj Close  \\\n",
       "154 2022-01-28  165.710007  170.350006  162.800003  170.330002  168.855423   \n",
       "230 2022-05-18  146.850006  147.360001  139.899994  140.820007  139.984146   \n",
       "310 2022-09-13  159.899994  160.539993  153.369995  153.839996  153.139252   \n",
       "343 2022-10-28  148.199997  157.500000  147.820007  155.740005  155.030609   \n",
       "352 2022-11-10  141.240005  146.869995  139.500000  146.869995  146.443527   \n",
       "\n",
       "        Volume  Month  Percentage_change  \n",
       "154  179935700      1           6.522633  \n",
       "230  109742900      5           5.979263  \n",
       "310  122656600      9           6.233748  \n",
       "343  164762400     10           7.024529  \n",
       "352  118854000     11           8.170491  "
      ]
     },
     "execution_count": 130,
     "metadata": {},
     "output_type": "execute_result"
    }
   ],
   "source": [
    "apple[apple[\"Percentage_change\"]  >= top5_day_value]"
   ]
  },
  {
   "cell_type": "code",
   "execution_count": null,
   "id": "6b70bbf9",
   "metadata": {},
   "outputs": [],
   "source": []
  },
  {
   "cell_type": "markdown",
   "id": "9ec68de5",
   "metadata": {},
   "source": [
    "## Q18. How many times did the closing price reach a new all-time high during the given period?"
   ]
  },
  {
   "cell_type": "code",
   "execution_count": null,
   "id": "f4907f30",
   "metadata": {},
   "outputs": [],
   "source": []
  },
  {
   "cell_type": "code",
   "execution_count": 136,
   "id": "414f0f1c",
   "metadata": {},
   "outputs": [
    {
     "data": {
      "text/plain": [
       "32"
      ]
     },
     "execution_count": 136,
     "metadata": {},
     "output_type": "execute_result"
    }
   ],
   "source": [
    "(apple['Close'] == apple['Close'].cummax()).sum()"
   ]
  },
  {
   "cell_type": "code",
   "execution_count": null,
   "id": "629340cf",
   "metadata": {},
   "outputs": [],
   "source": []
  },
  {
   "cell_type": "markdown",
   "id": "6fb9db0d",
   "metadata": {},
   "source": [
    "## Q19. Calculate the difference between the highest closing price and the lowest closing price for each month."
   ]
  },
  {
   "cell_type": "code",
   "execution_count": 144,
   "id": "ee74e8c4",
   "metadata": {},
   "outputs": [],
   "source": [
    "month_max_price = apple.resample('M', on = 'Date').max()['Close']\n",
    "# month_max_price "
   ]
  },
  {
   "cell_type": "code",
   "execution_count": 145,
   "id": "b5364f5d",
   "metadata": {},
   "outputs": [],
   "source": [
    "month_min_price = apple.resample('M', on = 'Date').min()['Close']"
   ]
  },
  {
   "cell_type": "code",
   "execution_count": 146,
   "id": "54095bfb",
   "metadata": {},
   "outputs": [
    {
     "data": {
      "text/plain": [
       "Date\n",
       "2021-06-30     4.660004\n",
       "2021-07-31    11.879990\n",
       "2021-08-31     7.599991\n",
       "2021-09-30    15.190002\n",
       "2021-10-31    13.430008\n",
       "2021-11-30    17.430008\n",
       "2021-12-31    18.490006\n",
       "2022-01-31    22.789994\n",
       "2022-02-28    16.209992\n",
       "2022-03-31    28.340012\n",
       "2022-04-30    21.869995\n",
       "2022-05-31    28.669998\n",
       "2022-06-30    21.150009\n",
       "2022-07-31    23.580002\n",
       "2022-08-31    17.330002\n",
       "2022-09-30    25.229996\n",
       "2022-10-31    17.400009\n",
       "2022-11-30    16.419998\n",
       "2022-12-31    22.269997\n",
       "2023-01-31    20.909996\n",
       "2023-02-28     9.900009\n",
       "2023-03-31    19.589996\n",
       "2023-04-30     9.579987\n",
       "2023-05-31    11.510010\n",
       "2023-06-30     8.189988\n",
       "Freq: M, Name: Close, dtype: float64"
      ]
     },
     "execution_count": 146,
     "metadata": {},
     "output_type": "execute_result"
    }
   ],
   "source": [
    "month_max_price - month_min_price"
   ]
  },
  {
   "cell_type": "markdown",
   "id": "3a9489aa",
   "metadata": {},
   "source": [
    "## Q20. What was the total trading volume for each quarter of the given period?"
   ]
  },
  {
   "cell_type": "code",
   "execution_count": 148,
   "id": "1dd1e2bc",
   "metadata": {},
   "outputs": [
    {
     "data": {
      "text/plain": [
       "Quarter\n",
       "1    10187880400\n",
       "2     9488647200\n",
       "3    10220500800\n",
       "4    10969593500\n",
       "Name: Volume, dtype: int64"
      ]
     },
     "execution_count": 148,
     "metadata": {},
     "output_type": "execute_result"
    }
   ],
   "source": [
    "apple['Quarter'] = apple['Date'].dt.quarter\n",
    "total_volume_per_quarter = apple.groupby('Quarter')['Volume'].sum()\n",
    "\n",
    "total_volume_per_quarter\n"
   ]
  },
  {
   "cell_type": "code",
   "execution_count": null,
   "id": "ef37a568",
   "metadata": {},
   "outputs": [],
   "source": []
  },
  {
   "cell_type": "code",
   "execution_count": null,
   "id": "f4eb89e5",
   "metadata": {},
   "outputs": [],
   "source": []
  },
  {
   "cell_type": "code",
   "execution_count": null,
   "id": "dc0e7f57",
   "metadata": {},
   "outputs": [],
   "source": []
  }
 ],
 "metadata": {
  "kernelspec": {
   "display_name": "Python 3 (ipykernel)",
   "language": "python",
   "name": "python3"
  },
  "language_info": {
   "codemirror_mode": {
    "name": "ipython",
    "version": 3
   },
   "file_extension": ".py",
   "mimetype": "text/x-python",
   "name": "python",
   "nbconvert_exporter": "python",
   "pygments_lexer": "ipython3",
   "version": "3.9.13"
  }
 },
 "nbformat": 4,
 "nbformat_minor": 5
}
